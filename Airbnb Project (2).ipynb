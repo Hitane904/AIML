{
 "cells": [
  {
   "cell_type": "markdown",
   "metadata": {},
   "source": [
    "# Background & Context\n",
    "\n",
    "* Airbnb is an online platform that allows people to rent short term accommodation. This ranges from regular people with a spare bedroom to property management firms who lease multiple rentals. On the one side, Airbnb enables owners to list their space and earn rental money. On the other side, it provides travelers easy access to renting private homes.\n",
    "\n",
    "* Airbnb receives commissions from two sources upon every booking, namely from the hosts and guests. For every booking, Airbnb charges the guest 6-12% of the booking fee. Moreover, Airbnb charges the host 3% for every successful transaction.\n",
    "\n",
    "* As a senior data scientist at Airbnb, you have to come up with a pricing model that can effectively predict the Rent for an accommodation and can help hosts, travelers, and also the business in devising profitable strategies."
   ]
  },
  {
   "cell_type": "markdown",
   "metadata": {},
   "source": [
    "## Objective\n",
    "\n",
    "* Explore and visualize the dataset.\n",
    "* Build a linear regression model to predict the log of rental price\n",
    "* Generate a set of insights and recommendations that will help the business."
   ]
  },
  {
   "cell_type": "markdown",
   "metadata": {},
   "source": [
    "## Data Dictionary \n",
    "\n",
    "1. id\tProperty ID\n",
    "2. room_type\tType of Room in the property\n",
    "3. accommodates\tHow many adults can this property accomodate\n",
    "4. bathrooms\tNumber of bathrooms in the property\n",
    "5. cancellation_policy\tCancellation policy of the property\n",
    "6. cleaning_fee\tThis denotes whether the property's cleaning fee is included in the rent or not\n",
    "7. instant_bookable\tIt indicates whether an instant booking facility is available or not\n",
    "8. review_scores_rating\tThe review rating score of the property\n",
    "9. bedrooms\tNumber of bedrooms in the property\n",
    "10. beds\tTotal number of beds in the property\n",
    "11. log_price\tLog of the rental price of the property for a fixed period "
   ]
  },
  {
   "cell_type": "code",
   "execution_count": 1,
   "metadata": {},
   "outputs": [],
   "source": [
    "import pandas as pd\n",
    "import numpy as np\n",
    "import pandas_profiling\n",
    "import matplotlib.pyplot as plt\n",
    "import seaborn as sns\n",
    "\n",
    "# Removes the limit from the number of displayed rows.\n",
    "pd.set_option(\"display.max_columns\", None)\n",
    "# Changes the limit of number of displayed columns tov200\n",
    "pd.set_option(\"display.max_rows\", 200)\n",
    "\n",
    "# To build linear model for prediction\n",
    "from sklearn.linear_model import LinearRegression\n",
    "\n",
    "# To check model performance\n",
    "from sklearn.metrics import mean_squared_error, r2_score, mean_absolute_error\n",
    "# Forward Feature Selection\n",
    "from mlxtend.feature_selection import SequentialFeatureSelector as sfs"
   ]
  },
  {
   "cell_type": "code",
   "execution_count": 2,
   "metadata": {},
   "outputs": [
    {
     "name": "stdout",
     "output_type": "stream",
     "text": [
      "There are 74111 rows and 11 columns.\n"
     ]
    },
    {
     "name": "stderr",
     "output_type": "stream",
     "text": [
      "C:\\Users\\robby\\anaconda3\\lib\\site-packages\\IPython\\core\\interactiveshell.py:3146: DtypeWarning: Columns (5) have mixed types.Specify dtype option on import or set low_memory=False.\n",
      "  has_raised = await self.run_ast_nodes(code_ast.body, cell_name,\n"
     ]
    },
    {
     "data": {
      "text/html": [
       "<div>\n",
       "<style scoped>\n",
       "    .dataframe tbody tr th:only-of-type {\n",
       "        vertical-align: middle;\n",
       "    }\n",
       "\n",
       "    .dataframe tbody tr th {\n",
       "        vertical-align: top;\n",
       "    }\n",
       "\n",
       "    .dataframe thead th {\n",
       "        text-align: right;\n",
       "    }\n",
       "</style>\n",
       "<table border=\"1\" class=\"dataframe\">\n",
       "  <thead>\n",
       "    <tr style=\"text-align: right;\">\n",
       "      <th></th>\n",
       "      <th>id</th>\n",
       "      <th>room_type</th>\n",
       "      <th>accommodates</th>\n",
       "      <th>bathrooms</th>\n",
       "      <th>cancellation_policy</th>\n",
       "      <th>cleaning_fee</th>\n",
       "      <th>instant_bookable</th>\n",
       "      <th>review_scores_rating</th>\n",
       "      <th>bedrooms</th>\n",
       "      <th>beds</th>\n",
       "      <th>log_price</th>\n",
       "    </tr>\n",
       "  </thead>\n",
       "  <tbody>\n",
       "    <tr>\n",
       "      <th>56850</th>\n",
       "      <td>13586614</td>\n",
       "      <td>Entire home/apt</td>\n",
       "      <td>5.0</td>\n",
       "      <td>2.0</td>\n",
       "      <td>strict</td>\n",
       "      <td>False</td>\n",
       "      <td>f</td>\n",
       "      <td>100.0</td>\n",
       "      <td>2.0</td>\n",
       "      <td>3.0</td>\n",
       "      <td>7.408531</td>\n",
       "    </tr>\n",
       "    <tr>\n",
       "      <th>68140</th>\n",
       "      <td>18222981</td>\n",
       "      <td>Private room</td>\n",
       "      <td>3.0</td>\n",
       "      <td>1.0</td>\n",
       "      <td>strict</td>\n",
       "      <td>True</td>\n",
       "      <td>f</td>\n",
       "      <td>95.0</td>\n",
       "      <td>1.0</td>\n",
       "      <td>2.0</td>\n",
       "      <td>4.605170</td>\n",
       "    </tr>\n",
       "    <tr>\n",
       "      <th>23189</th>\n",
       "      <td>13915528</td>\n",
       "      <td>Entire home/apt</td>\n",
       "      <td>2.0</td>\n",
       "      <td>1.0</td>\n",
       "      <td>strict</td>\n",
       "      <td>True</td>\n",
       "      <td>f</td>\n",
       "      <td>95.0</td>\n",
       "      <td>1.0</td>\n",
       "      <td>2.0</td>\n",
       "      <td>4.094345</td>\n",
       "    </tr>\n",
       "    <tr>\n",
       "      <th>47255</th>\n",
       "      <td>7122067</td>\n",
       "      <td>Private room</td>\n",
       "      <td>1.0</td>\n",
       "      <td>1.0</td>\n",
       "      <td>flexible</td>\n",
       "      <td>False</td>\n",
       "      <td>f</td>\n",
       "      <td>100.0</td>\n",
       "      <td>1.0</td>\n",
       "      <td>1.0</td>\n",
       "      <td>4.317488</td>\n",
       "    </tr>\n",
       "    <tr>\n",
       "      <th>45933</th>\n",
       "      <td>12384924</td>\n",
       "      <td>Entire home/apt</td>\n",
       "      <td>5.0</td>\n",
       "      <td>2.0</td>\n",
       "      <td>strict</td>\n",
       "      <td>True</td>\n",
       "      <td>f</td>\n",
       "      <td>95.0</td>\n",
       "      <td>2.0</td>\n",
       "      <td>3.0</td>\n",
       "      <td>5.433722</td>\n",
       "    </tr>\n",
       "    <tr>\n",
       "      <th>66955</th>\n",
       "      <td>3999628</td>\n",
       "      <td>Private room</td>\n",
       "      <td>2.0</td>\n",
       "      <td>1.0</td>\n",
       "      <td>moderate</td>\n",
       "      <td>True</td>\n",
       "      <td>f</td>\n",
       "      <td>98.0</td>\n",
       "      <td>1.0</td>\n",
       "      <td>1.0</td>\n",
       "      <td>5.010635</td>\n",
       "    </tr>\n",
       "    <tr>\n",
       "      <th>18553</th>\n",
       "      <td>4948442</td>\n",
       "      <td>Entire home/apt</td>\n",
       "      <td>1.0</td>\n",
       "      <td>1.0</td>\n",
       "      <td>strict</td>\n",
       "      <td>False</td>\n",
       "      <td>f</td>\n",
       "      <td>NaN</td>\n",
       "      <td>0.0</td>\n",
       "      <td>1.0</td>\n",
       "      <td>5.010635</td>\n",
       "    </tr>\n",
       "    <tr>\n",
       "      <th>26117</th>\n",
       "      <td>666837</td>\n",
       "      <td>Shared room</td>\n",
       "      <td>16.0</td>\n",
       "      <td>2.0</td>\n",
       "      <td>flexible</td>\n",
       "      <td>False</td>\n",
       "      <td>f</td>\n",
       "      <td>76.0</td>\n",
       "      <td>1.0</td>\n",
       "      <td>1.0</td>\n",
       "      <td>2.708050</td>\n",
       "    </tr>\n",
       "    <tr>\n",
       "      <th>65737</th>\n",
       "      <td>15929932</td>\n",
       "      <td>Entire home/apt</td>\n",
       "      <td>10.0</td>\n",
       "      <td>1.0</td>\n",
       "      <td>strict</td>\n",
       "      <td>False</td>\n",
       "      <td>f</td>\n",
       "      <td>93.0</td>\n",
       "      <td>2.0</td>\n",
       "      <td>2.0</td>\n",
       "      <td>4.976734</td>\n",
       "    </tr>\n",
       "    <tr>\n",
       "      <th>8915</th>\n",
       "      <td>21173263</td>\n",
       "      <td>Entire home/apt</td>\n",
       "      <td>3.0</td>\n",
       "      <td>1.0</td>\n",
       "      <td>strict</td>\n",
       "      <td>True</td>\n",
       "      <td>f</td>\n",
       "      <td>95.0</td>\n",
       "      <td>0.0</td>\n",
       "      <td>2.0</td>\n",
       "      <td>4.700480</td>\n",
       "    </tr>\n",
       "  </tbody>\n",
       "</table>\n",
       "</div>"
      ],
      "text/plain": [
       "             id        room_type  accommodates  bathrooms cancellation_policy  \\\n",
       "56850  13586614  Entire home/apt           5.0        2.0              strict   \n",
       "68140  18222981     Private room           3.0        1.0              strict   \n",
       "23189  13915528  Entire home/apt           2.0        1.0              strict   \n",
       "47255   7122067     Private room           1.0        1.0            flexible   \n",
       "45933  12384924  Entire home/apt           5.0        2.0              strict   \n",
       "66955   3999628     Private room           2.0        1.0            moderate   \n",
       "18553   4948442  Entire home/apt           1.0        1.0              strict   \n",
       "26117    666837      Shared room          16.0        2.0            flexible   \n",
       "65737  15929932  Entire home/apt          10.0        1.0              strict   \n",
       "8915   21173263  Entire home/apt           3.0        1.0              strict   \n",
       "\n",
       "      cleaning_fee instant_bookable  review_scores_rating  bedrooms  beds  \\\n",
       "56850        False                f                 100.0       2.0   3.0   \n",
       "68140         True                f                  95.0       1.0   2.0   \n",
       "23189         True                f                  95.0       1.0   2.0   \n",
       "47255        False                f                 100.0       1.0   1.0   \n",
       "45933         True                f                  95.0       2.0   3.0   \n",
       "66955         True                f                  98.0       1.0   1.0   \n",
       "18553        False                f                   NaN       0.0   1.0   \n",
       "26117        False                f                  76.0       1.0   1.0   \n",
       "65737        False                f                  93.0       2.0   2.0   \n",
       "8915          True                f                  95.0       0.0   2.0   \n",
       "\n",
       "       log_price  \n",
       "56850   7.408531  \n",
       "68140   4.605170  \n",
       "23189   4.094345  \n",
       "47255   4.317488  \n",
       "45933   5.433722  \n",
       "66955   5.010635  \n",
       "18553   5.010635  \n",
       "26117   2.708050  \n",
       "65737   4.976734  \n",
       "8915    4.700480  "
      ]
     },
     "execution_count": 2,
     "metadata": {},
     "output_type": "execute_result"
    }
   ],
   "source": [
    "df = pd.read_csv(\"AirBNB.csv\")\n",
    "print(f\"There are {df.shape[0]} rows and {df.shape[1]} columns.\")  # f-string\n",
    "\n",
    "np.random.seed(1)  # To get the same random results every time\n",
    "df.sample(n=10)"
   ]
  },
  {
   "cell_type": "markdown",
   "metadata": {},
   "source": [
    "`id` is just an index for the data entry. In all likelihood, this column will not be a significant factor in  predicting the log of rental price. \n",
    "\n",
    "\n",
    "`room_type` contains a lot of type of home information. Let us check how many individual names we have. If they are too many, we can process this column to extract important information.\n",
    "\n",
    "`review_scores_rating` has NaN values\n"
   ]
  },
  {
   "cell_type": "code",
   "execution_count": 3,
   "metadata": {},
   "outputs": [
    {
     "name": "stdout",
     "output_type": "stream",
     "text": [
      "<class 'pandas.core.frame.DataFrame'>\n",
      "RangeIndex: 74111 entries, 0 to 74110\n",
      "Data columns (total 11 columns):\n",
      " #   Column                Non-Null Count  Dtype  \n",
      "---  ------                --------------  -----  \n",
      " 0   id                    74111 non-null  int64  \n",
      " 1   room_type             74106 non-null  object \n",
      " 2   accommodates          74108 non-null  float64\n",
      " 3   bathrooms             73908 non-null  float64\n",
      " 4   cancellation_policy   74103 non-null  object \n",
      " 5   cleaning_fee          74107 non-null  object \n",
      " 6   instant_bookable      74111 non-null  object \n",
      " 7   review_scores_rating  57389 non-null  float64\n",
      " 8   bedrooms              74019 non-null  float64\n",
      " 9   beds                  73980 non-null  float64\n",
      " 10  log_price             74111 non-null  float64\n",
      "dtypes: float64(6), int64(1), object(4)\n",
      "memory usage: 6.2+ MB\n"
     ]
    }
   ],
   "source": [
    "df.info()"
   ]
  },
  {
   "cell_type": "markdown",
   "metadata": {},
   "source": [
    "* There are 74111 entries\n",
    "* There are 13 columns total with either a int64,object,or float64 data type.\n",
    "* We are going to have to change all the 'object' Dtypes to 'category'"
   ]
  },
  {
   "cell_type": "code",
   "execution_count": 4,
   "metadata": {},
   "outputs": [
    {
     "data": {
      "text/plain": [
       "id                          0\n",
       "room_type                   5\n",
       "accommodates                3\n",
       "bathrooms                 203\n",
       "cancellation_policy         8\n",
       "cleaning_fee                4\n",
       "instant_bookable            0\n",
       "review_scores_rating    16722\n",
       "bedrooms                   92\n",
       "beds                      131\n",
       "log_price                   0\n",
       "dtype: int64"
      ]
     },
     "execution_count": 4,
     "metadata": {},
     "output_type": "execute_result"
    }
   ],
   "source": [
    "df.isnull().sum()"
   ]
  },
  {
   "cell_type": "markdown",
   "metadata": {},
   "source": [
    "* As we can see thier are a lot of null or missing values\n",
    "* Review_scores_rating has the highest with 16722 and will be the hardest to fix because we do not know if the sroce started with 0 or 100 from the get go.\n",
    "* The rest look simlpe to fix"
   ]
  },
  {
   "cell_type": "code",
   "execution_count": 5,
   "metadata": {},
   "outputs": [
    {
     "data": {
      "text/plain": [
       "id                      0\n",
       "room_type               0\n",
       "accommodates            0\n",
       "bathrooms               0\n",
       "cancellation_policy     0\n",
       "cleaning_fee            0\n",
       "instant_bookable        0\n",
       "review_scores_rating    0\n",
       "bedrooms                0\n",
       "beds                    0\n",
       "log_price               0\n",
       "dtype: int64"
      ]
     },
     "execution_count": 5,
     "metadata": {},
     "output_type": "execute_result"
    }
   ],
   "source": [
    "df[df.duplicated()].count()"
   ]
  },
  {
   "cell_type": "code",
   "execution_count": 6,
   "metadata": {},
   "outputs": [
    {
     "data": {
      "text/plain": [
       "id                      74111\n",
       "room_type                   3\n",
       "accommodates               16\n",
       "bathrooms                  17\n",
       "cancellation_policy         3\n",
       "cleaning_fee                2\n",
       "instant_bookable            2\n",
       "review_scores_rating       54\n",
       "bedrooms                   11\n",
       "beds                       18\n",
       "log_price                 767\n",
       "dtype: int64"
      ]
     },
     "execution_count": 6,
     "metadata": {},
     "output_type": "execute_result"
    }
   ],
   "source": [
    "df.nunique()"
   ]
  },
  {
   "cell_type": "markdown",
   "metadata": {},
   "source": [
    "* No duplicate data\n",
    "*  log_price has the second hidgest unique value count\n",
    "* The most important ones are going to be the 'category' Dtypes after we change them from objects"
   ]
  },
  {
   "cell_type": "code",
   "execution_count": 7,
   "metadata": {},
   "outputs": [
    {
     "data": {
      "text/html": [
       "<div>\n",
       "<style scoped>\n",
       "    .dataframe tbody tr th:only-of-type {\n",
       "        vertical-align: middle;\n",
       "    }\n",
       "\n",
       "    .dataframe tbody tr th {\n",
       "        vertical-align: top;\n",
       "    }\n",
       "\n",
       "    .dataframe thead th {\n",
       "        text-align: right;\n",
       "    }\n",
       "</style>\n",
       "<table border=\"1\" class=\"dataframe\">\n",
       "  <thead>\n",
       "    <tr style=\"text-align: right;\">\n",
       "      <th></th>\n",
       "      <th>count</th>\n",
       "      <th>mean</th>\n",
       "      <th>std</th>\n",
       "      <th>min</th>\n",
       "      <th>25%</th>\n",
       "      <th>50%</th>\n",
       "      <th>75%</th>\n",
       "      <th>max</th>\n",
       "    </tr>\n",
       "  </thead>\n",
       "  <tbody>\n",
       "    <tr>\n",
       "      <th>id</th>\n",
       "      <td>74111.0</td>\n",
       "      <td>1.126662e+07</td>\n",
       "      <td>6.081735e+06</td>\n",
       "      <td>344.0</td>\n",
       "      <td>6.261964e+06</td>\n",
       "      <td>1.225415e+07</td>\n",
       "      <td>1.640226e+07</td>\n",
       "      <td>2.123090e+07</td>\n",
       "    </tr>\n",
       "    <tr>\n",
       "      <th>accommodates</th>\n",
       "      <td>74108.0</td>\n",
       "      <td>3.155125e+00</td>\n",
       "      <td>2.153603e+00</td>\n",
       "      <td>1.0</td>\n",
       "      <td>2.000000e+00</td>\n",
       "      <td>2.000000e+00</td>\n",
       "      <td>4.000000e+00</td>\n",
       "      <td>1.600000e+01</td>\n",
       "    </tr>\n",
       "    <tr>\n",
       "      <th>bathrooms</th>\n",
       "      <td>73908.0</td>\n",
       "      <td>1.235272e+00</td>\n",
       "      <td>5.820540e-01</td>\n",
       "      <td>0.0</td>\n",
       "      <td>1.000000e+00</td>\n",
       "      <td>1.000000e+00</td>\n",
       "      <td>1.000000e+00</td>\n",
       "      <td>8.000000e+00</td>\n",
       "    </tr>\n",
       "    <tr>\n",
       "      <th>review_scores_rating</th>\n",
       "      <td>57389.0</td>\n",
       "      <td>9.406736e+01</td>\n",
       "      <td>7.836556e+00</td>\n",
       "      <td>20.0</td>\n",
       "      <td>9.200000e+01</td>\n",
       "      <td>9.600000e+01</td>\n",
       "      <td>1.000000e+02</td>\n",
       "      <td>1.000000e+02</td>\n",
       "    </tr>\n",
       "    <tr>\n",
       "      <th>bedrooms</th>\n",
       "      <td>74019.0</td>\n",
       "      <td>1.265797e+00</td>\n",
       "      <td>8.521487e-01</td>\n",
       "      <td>0.0</td>\n",
       "      <td>1.000000e+00</td>\n",
       "      <td>1.000000e+00</td>\n",
       "      <td>1.000000e+00</td>\n",
       "      <td>1.000000e+01</td>\n",
       "    </tr>\n",
       "    <tr>\n",
       "      <th>beds</th>\n",
       "      <td>73980.0</td>\n",
       "      <td>1.710868e+00</td>\n",
       "      <td>1.254142e+00</td>\n",
       "      <td>0.0</td>\n",
       "      <td>1.000000e+00</td>\n",
       "      <td>1.000000e+00</td>\n",
       "      <td>2.000000e+00</td>\n",
       "      <td>1.800000e+01</td>\n",
       "    </tr>\n",
       "    <tr>\n",
       "      <th>log_price</th>\n",
       "      <td>74111.0</td>\n",
       "      <td>4.782069e+00</td>\n",
       "      <td>7.173938e-01</td>\n",
       "      <td>0.0</td>\n",
       "      <td>4.317488e+00</td>\n",
       "      <td>4.709530e+00</td>\n",
       "      <td>5.220356e+00</td>\n",
       "      <td>7.600402e+00</td>\n",
       "    </tr>\n",
       "  </tbody>\n",
       "</table>\n",
       "</div>"
      ],
      "text/plain": [
       "                        count          mean           std    min  \\\n",
       "id                    74111.0  1.126662e+07  6.081735e+06  344.0   \n",
       "accommodates          74108.0  3.155125e+00  2.153603e+00    1.0   \n",
       "bathrooms             73908.0  1.235272e+00  5.820540e-01    0.0   \n",
       "review_scores_rating  57389.0  9.406736e+01  7.836556e+00   20.0   \n",
       "bedrooms              74019.0  1.265797e+00  8.521487e-01    0.0   \n",
       "beds                  73980.0  1.710868e+00  1.254142e+00    0.0   \n",
       "log_price             74111.0  4.782069e+00  7.173938e-01    0.0   \n",
       "\n",
       "                               25%           50%           75%           max  \n",
       "id                    6.261964e+06  1.225415e+07  1.640226e+07  2.123090e+07  \n",
       "accommodates          2.000000e+00  2.000000e+00  4.000000e+00  1.600000e+01  \n",
       "bathrooms             1.000000e+00  1.000000e+00  1.000000e+00  8.000000e+00  \n",
       "review_scores_rating  9.200000e+01  9.600000e+01  1.000000e+02  1.000000e+02  \n",
       "bedrooms              1.000000e+00  1.000000e+00  1.000000e+00  1.000000e+01  \n",
       "beds                  1.000000e+00  1.000000e+00  2.000000e+00  1.800000e+01  \n",
       "log_price             4.317488e+00  4.709530e+00  5.220356e+00  7.600402e+00  "
      ]
     },
     "execution_count": 7,
     "metadata": {},
     "output_type": "execute_result"
    }
   ],
   "source": [
    "df.describe().T"
   ]
  },
  {
   "cell_type": "markdown",
   "metadata": {},
   "source": [
    "* five point summery\n",
    "* accommodates min is 1.0 to 16 max\n",
    "* bathrooms min is 0 to 8 max\n",
    "* review_scores_rating min is 20 to 100 max\n"
   ]
  },
  {
   "cell_type": "markdown",
   "metadata": {},
   "source": [
    "#### looking at value counts for non-numeric features"
   ]
  },
  {
   "cell_type": "code",
   "execution_count": 8,
   "metadata": {},
   "outputs": [
    {
     "name": "stdout",
     "output_type": "stream",
     "text": [
      "Entire home/apt    41308\n",
      "Private room       30635\n",
      "Shared room         2163\n",
      "NaN                    5\n",
      "Name: room_type, dtype: int64\n",
      "\n",
      "\n",
      "\n",
      "strict      32500\n",
      "flexible    22543\n",
      "moderate    19060\n",
      "NaN             8\n",
      "Name: cancellation_policy, dtype: int64\n",
      "\n",
      "\n",
      "\n",
      "True     54399\n",
      "False    19708\n",
      "NaN          4\n",
      "Name: cleaning_fee, dtype: int64\n",
      "\n",
      "\n",
      "\n",
      "f    54660\n",
      "t    19451\n",
      "Name: instant_bookable, dtype: int64\n",
      "\n",
      "\n",
      "\n"
     ]
    }
   ],
   "source": [
    "num_to_display = 10  \n",
    "for colname in df.dtypes[df.dtypes == 'object'].index:\n",
    "    val_counts = df[colname].value_counts(dropna=False)  # i want to see NA counts\n",
    "    print(val_counts[:num_to_display])\n",
    "    if len(val_counts) > num_to_display:\n",
    "        print(f'Only displaying first {num_to_display} of {len(val_counts)} values.')\n",
    "    print('\\n\\n') # just for more space between "
   ]
  },
  {
   "cell_type": "markdown",
   "metadata": {},
   "source": [
    "##### Observations"
   ]
  },
  {
   "cell_type": "markdown",
   "metadata": {},
   "source": [
    "* Most of the home for rent are Entire home/apt at 41308 \n",
    "* About 32500 have a very strict cancellation policy\n",
    "* About 54399 have a cleaning fee\n",
    "* about 19451 have a instant bookalb option"
   ]
  },
  {
   "cell_type": "markdown",
   "metadata": {},
   "source": [
    "# Processing Columns"
   ]
  },
  {
   "cell_type": "markdown",
   "metadata": {},
   "source": [
    "##### Checking DataTypes"
   ]
  },
  {
   "cell_type": "code",
   "execution_count": 9,
   "metadata": {},
   "outputs": [
    {
     "data": {
      "text/plain": [
       "Index(['room_type', 'cancellation_policy', 'cleaning_fee', 'instant_bookable'], dtype='object')"
      ]
     },
     "execution_count": 9,
     "metadata": {},
     "output_type": "execute_result"
    }
   ],
   "source": [
    "cols = df.select_dtypes(['object'])\n",
    "cols.columns"
   ]
  },
  {
   "cell_type": "code",
   "execution_count": 10,
   "metadata": {},
   "outputs": [],
   "source": [
    "for i in cols.columns:\n",
    "    df[i] = df[i].astype('category')"
   ]
  },
  {
   "cell_type": "code",
   "execution_count": 11,
   "metadata": {},
   "outputs": [
    {
     "name": "stdout",
     "output_type": "stream",
     "text": [
      "<class 'pandas.core.frame.DataFrame'>\n",
      "RangeIndex: 74111 entries, 0 to 74110\n",
      "Data columns (total 11 columns):\n",
      " #   Column                Non-Null Count  Dtype   \n",
      "---  ------                --------------  -----   \n",
      " 0   id                    74111 non-null  int64   \n",
      " 1   room_type             74106 non-null  category\n",
      " 2   accommodates          74108 non-null  float64 \n",
      " 3   bathrooms             73908 non-null  float64 \n",
      " 4   cancellation_policy   74103 non-null  category\n",
      " 5   cleaning_fee          74107 non-null  category\n",
      " 6   instant_bookable      74111 non-null  category\n",
      " 7   review_scores_rating  57389 non-null  float64 \n",
      " 8   bedrooms              74019 non-null  float64 \n",
      " 9   beds                  73980 non-null  float64 \n",
      " 10  log_price             74111 non-null  float64 \n",
      "dtypes: category(4), float64(6), int64(1)\n",
      "memory usage: 4.2 MB\n"
     ]
    }
   ],
   "source": [
    "df.info()"
   ]
  },
  {
   "cell_type": "markdown",
   "metadata": {},
   "source": [
    "* Converted all object datatypes to Category"
   ]
  },
  {
   "cell_type": "markdown",
   "metadata": {},
   "source": [
    "#### Missing Values"
   ]
  },
  {
   "cell_type": "code",
   "execution_count": 12,
   "metadata": {},
   "outputs": [],
   "source": [
    "df = df.replace('?', np.nan)"
   ]
  },
  {
   "cell_type": "markdown",
   "metadata": {},
   "source": [
    "* Replaced all missing values with NaN"
   ]
  },
  {
   "cell_type": "code",
   "execution_count": 13,
   "metadata": {},
   "outputs": [
    {
     "data": {
      "text/html": [
       "<div>\n",
       "<style scoped>\n",
       "    .dataframe tbody tr th:only-of-type {\n",
       "        vertical-align: middle;\n",
       "    }\n",
       "\n",
       "    .dataframe tbody tr th {\n",
       "        vertical-align: top;\n",
       "    }\n",
       "\n",
       "    .dataframe thead th {\n",
       "        text-align: right;\n",
       "    }\n",
       "</style>\n",
       "<table border=\"1\" class=\"dataframe\">\n",
       "  <thead>\n",
       "    <tr style=\"text-align: right;\">\n",
       "      <th></th>\n",
       "      <th>id</th>\n",
       "      <th>room_type</th>\n",
       "      <th>accommodates</th>\n",
       "      <th>bathrooms</th>\n",
       "      <th>cancellation_policy</th>\n",
       "      <th>cleaning_fee</th>\n",
       "      <th>instant_bookable</th>\n",
       "      <th>review_scores_rating</th>\n",
       "      <th>bedrooms</th>\n",
       "      <th>beds</th>\n",
       "      <th>log_price</th>\n",
       "    </tr>\n",
       "  </thead>\n",
       "  <tbody>\n",
       "    <tr>\n",
       "      <th>59601</th>\n",
       "      <td>13567393</td>\n",
       "      <td>Entire home/apt</td>\n",
       "      <td>3.0</td>\n",
       "      <td>2.0</td>\n",
       "      <td>flexible</td>\n",
       "      <td>False</td>\n",
       "      <td>f</td>\n",
       "      <td>NaN</td>\n",
       "      <td>2.0</td>\n",
       "      <td>1.0</td>\n",
       "      <td>4.248495</td>\n",
       "    </tr>\n",
       "    <tr>\n",
       "      <th>43446</th>\n",
       "      <td>17640554</td>\n",
       "      <td>Entire home/apt</td>\n",
       "      <td>4.0</td>\n",
       "      <td>1.0</td>\n",
       "      <td>strict</td>\n",
       "      <td>True</td>\n",
       "      <td>t</td>\n",
       "      <td>88.0</td>\n",
       "      <td>0.0</td>\n",
       "      <td>1.0</td>\n",
       "      <td>4.499810</td>\n",
       "    </tr>\n",
       "    <tr>\n",
       "      <th>7997</th>\n",
       "      <td>600295</td>\n",
       "      <td>Entire home/apt</td>\n",
       "      <td>4.0</td>\n",
       "      <td>1.0</td>\n",
       "      <td>strict</td>\n",
       "      <td>True</td>\n",
       "      <td>f</td>\n",
       "      <td>100.0</td>\n",
       "      <td>2.0</td>\n",
       "      <td>2.0</td>\n",
       "      <td>5.298317</td>\n",
       "    </tr>\n",
       "    <tr>\n",
       "      <th>17414</th>\n",
       "      <td>6079197</td>\n",
       "      <td>Private room</td>\n",
       "      <td>1.0</td>\n",
       "      <td>1.0</td>\n",
       "      <td>moderate</td>\n",
       "      <td>True</td>\n",
       "      <td>f</td>\n",
       "      <td>100.0</td>\n",
       "      <td>1.0</td>\n",
       "      <td>1.0</td>\n",
       "      <td>3.433987</td>\n",
       "    </tr>\n",
       "    <tr>\n",
       "      <th>3957</th>\n",
       "      <td>1180537</td>\n",
       "      <td>Entire home/apt</td>\n",
       "      <td>8.0</td>\n",
       "      <td>2.0</td>\n",
       "      <td>strict</td>\n",
       "      <td>True</td>\n",
       "      <td>f</td>\n",
       "      <td>99.0</td>\n",
       "      <td>4.0</td>\n",
       "      <td>4.0</td>\n",
       "      <td>5.988961</td>\n",
       "    </tr>\n",
       "    <tr>\n",
       "      <th>6033</th>\n",
       "      <td>19504042</td>\n",
       "      <td>Entire home/apt</td>\n",
       "      <td>2.0</td>\n",
       "      <td>1.5</td>\n",
       "      <td>moderate</td>\n",
       "      <td>True</td>\n",
       "      <td>f</td>\n",
       "      <td>100.0</td>\n",
       "      <td>1.0</td>\n",
       "      <td>1.0</td>\n",
       "      <td>4.787492</td>\n",
       "    </tr>\n",
       "    <tr>\n",
       "      <th>29784</th>\n",
       "      <td>4802374</td>\n",
       "      <td>Private room</td>\n",
       "      <td>2.0</td>\n",
       "      <td>1.0</td>\n",
       "      <td>strict</td>\n",
       "      <td>True</td>\n",
       "      <td>f</td>\n",
       "      <td>100.0</td>\n",
       "      <td>1.0</td>\n",
       "      <td>1.0</td>\n",
       "      <td>4.442651</td>\n",
       "    </tr>\n",
       "    <tr>\n",
       "      <th>19117</th>\n",
       "      <td>349841</td>\n",
       "      <td>Entire home/apt</td>\n",
       "      <td>3.0</td>\n",
       "      <td>1.0</td>\n",
       "      <td>flexible</td>\n",
       "      <td>True</td>\n",
       "      <td>f</td>\n",
       "      <td>NaN</td>\n",
       "      <td>1.0</td>\n",
       "      <td>1.0</td>\n",
       "      <td>5.141664</td>\n",
       "    </tr>\n",
       "    <tr>\n",
       "      <th>23723</th>\n",
       "      <td>6741968</td>\n",
       "      <td>Private room</td>\n",
       "      <td>2.0</td>\n",
       "      <td>1.0</td>\n",
       "      <td>flexible</td>\n",
       "      <td>True</td>\n",
       "      <td>t</td>\n",
       "      <td>NaN</td>\n",
       "      <td>1.0</td>\n",
       "      <td>1.0</td>\n",
       "      <td>4.077537</td>\n",
       "    </tr>\n",
       "    <tr>\n",
       "      <th>35746</th>\n",
       "      <td>6115291</td>\n",
       "      <td>Private room</td>\n",
       "      <td>2.0</td>\n",
       "      <td>2.0</td>\n",
       "      <td>moderate</td>\n",
       "      <td>True</td>\n",
       "      <td>f</td>\n",
       "      <td>97.0</td>\n",
       "      <td>1.0</td>\n",
       "      <td>1.0</td>\n",
       "      <td>4.442651</td>\n",
       "    </tr>\n",
       "  </tbody>\n",
       "</table>\n",
       "</div>"
      ],
      "text/plain": [
       "             id        room_type  accommodates  bathrooms cancellation_policy  \\\n",
       "59601  13567393  Entire home/apt           3.0        2.0            flexible   \n",
       "43446  17640554  Entire home/apt           4.0        1.0              strict   \n",
       "7997     600295  Entire home/apt           4.0        1.0              strict   \n",
       "17414   6079197     Private room           1.0        1.0            moderate   \n",
       "3957    1180537  Entire home/apt           8.0        2.0              strict   \n",
       "6033   19504042  Entire home/apt           2.0        1.5            moderate   \n",
       "29784   4802374     Private room           2.0        1.0              strict   \n",
       "19117    349841  Entire home/apt           3.0        1.0            flexible   \n",
       "23723   6741968     Private room           2.0        1.0            flexible   \n",
       "35746   6115291     Private room           2.0        2.0            moderate   \n",
       "\n",
       "      cleaning_fee instant_bookable  review_scores_rating  bedrooms  beds  \\\n",
       "59601        False                f                   NaN       2.0   1.0   \n",
       "43446         True                t                  88.0       0.0   1.0   \n",
       "7997          True                f                 100.0       2.0   2.0   \n",
       "17414         True                f                 100.0       1.0   1.0   \n",
       "3957          True                f                  99.0       4.0   4.0   \n",
       "6033          True                f                 100.0       1.0   1.0   \n",
       "29784         True                f                 100.0       1.0   1.0   \n",
       "19117         True                f                   NaN       1.0   1.0   \n",
       "23723         True                t                   NaN       1.0   1.0   \n",
       "35746         True                f                  97.0       1.0   1.0   \n",
       "\n",
       "       log_price  \n",
       "59601   4.248495  \n",
       "43446   4.499810  \n",
       "7997    5.298317  \n",
       "17414   3.433987  \n",
       "3957    5.988961  \n",
       "6033    4.787492  \n",
       "29784   4.442651  \n",
       "19117   5.141664  \n",
       "23723   4.077537  \n",
       "35746   4.442651  "
      ]
     },
     "execution_count": 13,
     "metadata": {},
     "output_type": "execute_result"
    }
   ],
   "source": [
    "df.sample(n=10)"
   ]
  },
  {
   "cell_type": "code",
   "execution_count": 14,
   "metadata": {},
   "outputs": [],
   "source": [
    "df['review_scores_rating'] = df['review_scores_rating'].fillna(df['review_scores_rating'].min())"
   ]
  },
  {
   "cell_type": "code",
   "execution_count": 15,
   "metadata": {},
   "outputs": [],
   "source": [
    "series = pd.isnull(df[\"review_scores_rating\"]) "
   ]
  },
  {
   "cell_type": "code",
   "execution_count": 16,
   "metadata": {},
   "outputs": [],
   "source": [
    "df['review_scores_rating'] = df['review_scores_rating'].fillna(df['review_scores_rating'].min())"
   ]
  },
  {
   "cell_type": "code",
   "execution_count": 17,
   "metadata": {},
   "outputs": [
    {
     "data": {
      "text/html": [
       "<div>\n",
       "<style scoped>\n",
       "    .dataframe tbody tr th:only-of-type {\n",
       "        vertical-align: middle;\n",
       "    }\n",
       "\n",
       "    .dataframe tbody tr th {\n",
       "        vertical-align: top;\n",
       "    }\n",
       "\n",
       "    .dataframe thead th {\n",
       "        text-align: right;\n",
       "    }\n",
       "</style>\n",
       "<table border=\"1\" class=\"dataframe\">\n",
       "  <thead>\n",
       "    <tr style=\"text-align: right;\">\n",
       "      <th></th>\n",
       "      <th>id</th>\n",
       "      <th>room_type</th>\n",
       "      <th>accommodates</th>\n",
       "      <th>bathrooms</th>\n",
       "      <th>cancellation_policy</th>\n",
       "      <th>cleaning_fee</th>\n",
       "      <th>instant_bookable</th>\n",
       "      <th>review_scores_rating</th>\n",
       "      <th>bedrooms</th>\n",
       "      <th>beds</th>\n",
       "      <th>log_price</th>\n",
       "    </tr>\n",
       "  </thead>\n",
       "  <tbody>\n",
       "  </tbody>\n",
       "</table>\n",
       "</div>"
      ],
      "text/plain": [
       "Empty DataFrame\n",
       "Columns: [id, room_type, accommodates, bathrooms, cancellation_policy, cleaning_fee, instant_bookable, review_scores_rating, bedrooms, beds, log_price]\n",
       "Index: []"
      ]
     },
     "execution_count": 17,
     "metadata": {},
     "output_type": "execute_result"
    }
   ],
   "source": [
    "df[series] "
   ]
  },
  {
   "cell_type": "markdown",
   "metadata": {},
   "source": [
    "* Replaced all NaN values with the min for review_scores_rating\n",
    "* My thought process is that if they are missing or have no reviews then the min will not skew the data to 0 since thier are 16722 missing values"
   ]
  },
  {
   "cell_type": "code",
   "execution_count": 18,
   "metadata": {},
   "outputs": [],
   "source": [
    "df['bathrooms'] = df['bathrooms'].fillna(df['bathrooms'].median())"
   ]
  },
  {
   "cell_type": "code",
   "execution_count": 19,
   "metadata": {},
   "outputs": [],
   "source": [
    "df['bedrooms'] = df['bedrooms'].fillna(df['bedrooms'].median())"
   ]
  },
  {
   "cell_type": "code",
   "execution_count": 20,
   "metadata": {},
   "outputs": [],
   "source": [
    "df['beds'] = df['beds'].fillna(df['beds'].median())"
   ]
  },
  {
   "cell_type": "code",
   "execution_count": 21,
   "metadata": {},
   "outputs": [],
   "source": [
    "df['accommodates'] = df['accommodates'].fillna(df['accommodates'].median())"
   ]
  },
  {
   "cell_type": "code",
   "execution_count": 22,
   "metadata": {},
   "outputs": [],
   "source": [
    "df['accommodates'] = df['accommodates'].fillna(df['accommodates'].median())"
   ]
  },
  {
   "cell_type": "code",
   "execution_count": 23,
   "metadata": {},
   "outputs": [
    {
     "data": {
      "text/html": [
       "<div>\n",
       "<style scoped>\n",
       "    .dataframe tbody tr th:only-of-type {\n",
       "        vertical-align: middle;\n",
       "    }\n",
       "\n",
       "    .dataframe tbody tr th {\n",
       "        vertical-align: top;\n",
       "    }\n",
       "\n",
       "    .dataframe thead th {\n",
       "        text-align: right;\n",
       "    }\n",
       "</style>\n",
       "<table border=\"1\" class=\"dataframe\">\n",
       "  <thead>\n",
       "    <tr style=\"text-align: right;\">\n",
       "      <th></th>\n",
       "      <th>id</th>\n",
       "      <th>room_type</th>\n",
       "      <th>accommodates</th>\n",
       "      <th>bathrooms</th>\n",
       "      <th>cancellation_policy</th>\n",
       "      <th>cleaning_fee</th>\n",
       "      <th>instant_bookable</th>\n",
       "      <th>review_scores_rating</th>\n",
       "      <th>bedrooms</th>\n",
       "      <th>beds</th>\n",
       "      <th>log_price</th>\n",
       "    </tr>\n",
       "  </thead>\n",
       "  <tbody>\n",
       "    <tr>\n",
       "      <th>41874</th>\n",
       "      <td>4395384</td>\n",
       "      <td>Private room</td>\n",
       "      <td>2.0</td>\n",
       "      <td>1.0</td>\n",
       "      <td>strict</td>\n",
       "      <td>False</td>\n",
       "      <td>f</td>\n",
       "      <td>100.0</td>\n",
       "      <td>1.0</td>\n",
       "      <td>1.0</td>\n",
       "      <td>4.007333</td>\n",
       "    </tr>\n",
       "    <tr>\n",
       "      <th>2342</th>\n",
       "      <td>2105487</td>\n",
       "      <td>Entire home/apt</td>\n",
       "      <td>4.0</td>\n",
       "      <td>2.0</td>\n",
       "      <td>strict</td>\n",
       "      <td>True</td>\n",
       "      <td>f</td>\n",
       "      <td>86.0</td>\n",
       "      <td>2.0</td>\n",
       "      <td>2.0</td>\n",
       "      <td>5.241747</td>\n",
       "    </tr>\n",
       "    <tr>\n",
       "      <th>21809</th>\n",
       "      <td>9040214</td>\n",
       "      <td>Entire home/apt</td>\n",
       "      <td>8.0</td>\n",
       "      <td>4.0</td>\n",
       "      <td>moderate</td>\n",
       "      <td>True</td>\n",
       "      <td>f</td>\n",
       "      <td>100.0</td>\n",
       "      <td>4.0</td>\n",
       "      <td>5.0</td>\n",
       "      <td>5.521461</td>\n",
       "    </tr>\n",
       "    <tr>\n",
       "      <th>37956</th>\n",
       "      <td>7559867</td>\n",
       "      <td>Entire home/apt</td>\n",
       "      <td>6.0</td>\n",
       "      <td>1.0</td>\n",
       "      <td>flexible</td>\n",
       "      <td>True</td>\n",
       "      <td>f</td>\n",
       "      <td>92.0</td>\n",
       "      <td>3.0</td>\n",
       "      <td>3.0</td>\n",
       "      <td>5.298317</td>\n",
       "    </tr>\n",
       "    <tr>\n",
       "      <th>53994</th>\n",
       "      <td>10469455</td>\n",
       "      <td>Private room</td>\n",
       "      <td>2.0</td>\n",
       "      <td>1.0</td>\n",
       "      <td>strict</td>\n",
       "      <td>False</td>\n",
       "      <td>f</td>\n",
       "      <td>90.0</td>\n",
       "      <td>4.0</td>\n",
       "      <td>4.0</td>\n",
       "      <td>3.850148</td>\n",
       "    </tr>\n",
       "    <tr>\n",
       "      <th>10647</th>\n",
       "      <td>8054651</td>\n",
       "      <td>Private room</td>\n",
       "      <td>1.0</td>\n",
       "      <td>1.5</td>\n",
       "      <td>flexible</td>\n",
       "      <td>False</td>\n",
       "      <td>f</td>\n",
       "      <td>100.0</td>\n",
       "      <td>1.0</td>\n",
       "      <td>1.0</td>\n",
       "      <td>3.912023</td>\n",
       "    </tr>\n",
       "    <tr>\n",
       "      <th>66134</th>\n",
       "      <td>19252113</td>\n",
       "      <td>Private room</td>\n",
       "      <td>1.0</td>\n",
       "      <td>1.0</td>\n",
       "      <td>moderate</td>\n",
       "      <td>True</td>\n",
       "      <td>f</td>\n",
       "      <td>97.0</td>\n",
       "      <td>1.0</td>\n",
       "      <td>1.0</td>\n",
       "      <td>4.553877</td>\n",
       "    </tr>\n",
       "    <tr>\n",
       "      <th>15207</th>\n",
       "      <td>14821542</td>\n",
       "      <td>Entire home/apt</td>\n",
       "      <td>4.0</td>\n",
       "      <td>1.0</td>\n",
       "      <td>flexible</td>\n",
       "      <td>False</td>\n",
       "      <td>f</td>\n",
       "      <td>20.0</td>\n",
       "      <td>2.0</td>\n",
       "      <td>2.0</td>\n",
       "      <td>5.298317</td>\n",
       "    </tr>\n",
       "    <tr>\n",
       "      <th>62184</th>\n",
       "      <td>12930677</td>\n",
       "      <td>Entire home/apt</td>\n",
       "      <td>3.0</td>\n",
       "      <td>1.0</td>\n",
       "      <td>moderate</td>\n",
       "      <td>True</td>\n",
       "      <td>t</td>\n",
       "      <td>84.0</td>\n",
       "      <td>1.0</td>\n",
       "      <td>2.0</td>\n",
       "      <td>4.787492</td>\n",
       "    </tr>\n",
       "    <tr>\n",
       "      <th>35808</th>\n",
       "      <td>9391509</td>\n",
       "      <td>Entire home/apt</td>\n",
       "      <td>4.0</td>\n",
       "      <td>2.0</td>\n",
       "      <td>strict</td>\n",
       "      <td>True</td>\n",
       "      <td>f</td>\n",
       "      <td>93.0</td>\n",
       "      <td>2.0</td>\n",
       "      <td>2.0</td>\n",
       "      <td>5.298317</td>\n",
       "    </tr>\n",
       "  </tbody>\n",
       "</table>\n",
       "</div>"
      ],
      "text/plain": [
       "             id        room_type  accommodates  bathrooms cancellation_policy  \\\n",
       "41874   4395384     Private room           2.0        1.0              strict   \n",
       "2342    2105487  Entire home/apt           4.0        2.0              strict   \n",
       "21809   9040214  Entire home/apt           8.0        4.0            moderate   \n",
       "37956   7559867  Entire home/apt           6.0        1.0            flexible   \n",
       "53994  10469455     Private room           2.0        1.0              strict   \n",
       "10647   8054651     Private room           1.0        1.5            flexible   \n",
       "66134  19252113     Private room           1.0        1.0            moderate   \n",
       "15207  14821542  Entire home/apt           4.0        1.0            flexible   \n",
       "62184  12930677  Entire home/apt           3.0        1.0            moderate   \n",
       "35808   9391509  Entire home/apt           4.0        2.0              strict   \n",
       "\n",
       "      cleaning_fee instant_bookable  review_scores_rating  bedrooms  beds  \\\n",
       "41874        False                f                 100.0       1.0   1.0   \n",
       "2342          True                f                  86.0       2.0   2.0   \n",
       "21809         True                f                 100.0       4.0   5.0   \n",
       "37956         True                f                  92.0       3.0   3.0   \n",
       "53994        False                f                  90.0       4.0   4.0   \n",
       "10647        False                f                 100.0       1.0   1.0   \n",
       "66134         True                f                  97.0       1.0   1.0   \n",
       "15207        False                f                  20.0       2.0   2.0   \n",
       "62184         True                t                  84.0       1.0   2.0   \n",
       "35808         True                f                  93.0       2.0   2.0   \n",
       "\n",
       "       log_price  \n",
       "41874   4.007333  \n",
       "2342    5.241747  \n",
       "21809   5.521461  \n",
       "37956   5.298317  \n",
       "53994   3.850148  \n",
       "10647   3.912023  \n",
       "66134   4.553877  \n",
       "15207   5.298317  \n",
       "62184   4.787492  \n",
       "35808   5.298317  "
      ]
     },
     "execution_count": 23,
     "metadata": {},
     "output_type": "execute_result"
    }
   ],
   "source": [
    "df.sample(n=10)"
   ]
  },
  {
   "cell_type": "markdown",
   "metadata": {},
   "source": [
    "* Replaced all NaN values with the median for columes accommodates,bathrooms,\tbedrooms,beds."
   ]
  },
  {
   "cell_type": "markdown",
   "metadata": {},
   "source": [
    "#### Replacing categorical variables missing values "
   ]
  },
  {
   "cell_type": "code",
   "execution_count": 24,
   "metadata": {},
   "outputs": [],
   "source": [
    "bool_series = pd.isnull(df[\"room_type\"]) "
   ]
  },
  {
   "cell_type": "code",
   "execution_count": 25,
   "metadata": {},
   "outputs": [
    {
     "data": {
      "text/html": [
       "<div>\n",
       "<style scoped>\n",
       "    .dataframe tbody tr th:only-of-type {\n",
       "        vertical-align: middle;\n",
       "    }\n",
       "\n",
       "    .dataframe tbody tr th {\n",
       "        vertical-align: top;\n",
       "    }\n",
       "\n",
       "    .dataframe thead th {\n",
       "        text-align: right;\n",
       "    }\n",
       "</style>\n",
       "<table border=\"1\" class=\"dataframe\">\n",
       "  <thead>\n",
       "    <tr style=\"text-align: right;\">\n",
       "      <th></th>\n",
       "      <th>id</th>\n",
       "      <th>room_type</th>\n",
       "      <th>accommodates</th>\n",
       "      <th>bathrooms</th>\n",
       "      <th>cancellation_policy</th>\n",
       "      <th>cleaning_fee</th>\n",
       "      <th>instant_bookable</th>\n",
       "      <th>review_scores_rating</th>\n",
       "      <th>bedrooms</th>\n",
       "      <th>beds</th>\n",
       "      <th>log_price</th>\n",
       "    </tr>\n",
       "  </thead>\n",
       "  <tbody>\n",
       "    <tr>\n",
       "      <th>141</th>\n",
       "      <td>457555</td>\n",
       "      <td>NaN</td>\n",
       "      <td>1.0</td>\n",
       "      <td>1.0</td>\n",
       "      <td>flexible</td>\n",
       "      <td>False</td>\n",
       "      <td>f</td>\n",
       "      <td>20.0</td>\n",
       "      <td>1.0</td>\n",
       "      <td>1.0</td>\n",
       "      <td>5.521461</td>\n",
       "    </tr>\n",
       "    <tr>\n",
       "      <th>167</th>\n",
       "      <td>6374167</td>\n",
       "      <td>NaN</td>\n",
       "      <td>5.0</td>\n",
       "      <td>1.0</td>\n",
       "      <td>strict</td>\n",
       "      <td>True</td>\n",
       "      <td>f</td>\n",
       "      <td>97.0</td>\n",
       "      <td>2.0</td>\n",
       "      <td>3.0</td>\n",
       "      <td>5.575949</td>\n",
       "    </tr>\n",
       "    <tr>\n",
       "      <th>195</th>\n",
       "      <td>19981334</td>\n",
       "      <td>NaN</td>\n",
       "      <td>2.0</td>\n",
       "      <td>1.0</td>\n",
       "      <td>moderate</td>\n",
       "      <td>True</td>\n",
       "      <td>f</td>\n",
       "      <td>99.0</td>\n",
       "      <td>1.0</td>\n",
       "      <td>1.0</td>\n",
       "      <td>3.555348</td>\n",
       "    </tr>\n",
       "    <tr>\n",
       "      <th>255</th>\n",
       "      <td>455801</td>\n",
       "      <td>NaN</td>\n",
       "      <td>4.0</td>\n",
       "      <td>1.0</td>\n",
       "      <td>moderate</td>\n",
       "      <td>True</td>\n",
       "      <td>f</td>\n",
       "      <td>91.0</td>\n",
       "      <td>1.0</td>\n",
       "      <td>2.0</td>\n",
       "      <td>4.418841</td>\n",
       "    </tr>\n",
       "    <tr>\n",
       "      <th>552</th>\n",
       "      <td>4874722</td>\n",
       "      <td>NaN</td>\n",
       "      <td>1.0</td>\n",
       "      <td>2.5</td>\n",
       "      <td>strict</td>\n",
       "      <td>True</td>\n",
       "      <td>t</td>\n",
       "      <td>100.0</td>\n",
       "      <td>1.0</td>\n",
       "      <td>1.0</td>\n",
       "      <td>4.488636</td>\n",
       "    </tr>\n",
       "  </tbody>\n",
       "</table>\n",
       "</div>"
      ],
      "text/plain": [
       "           id room_type  accommodates  bathrooms cancellation_policy  \\\n",
       "141    457555       NaN           1.0        1.0            flexible   \n",
       "167   6374167       NaN           5.0        1.0              strict   \n",
       "195  19981334       NaN           2.0        1.0            moderate   \n",
       "255    455801       NaN           4.0        1.0            moderate   \n",
       "552   4874722       NaN           1.0        2.5              strict   \n",
       "\n",
       "    cleaning_fee instant_bookable  review_scores_rating  bedrooms  beds  \\\n",
       "141        False                f                  20.0       1.0   1.0   \n",
       "167         True                f                  97.0       2.0   3.0   \n",
       "195         True                f                  99.0       1.0   1.0   \n",
       "255         True                f                  91.0       1.0   2.0   \n",
       "552         True                t                 100.0       1.0   1.0   \n",
       "\n",
       "     log_price  \n",
       "141   5.521461  \n",
       "167   5.575949  \n",
       "195   3.555348  \n",
       "255   4.418841  \n",
       "552   4.488636  "
      ]
     },
     "execution_count": 25,
     "metadata": {},
     "output_type": "execute_result"
    }
   ],
   "source": [
    "df[bool_series] "
   ]
  },
  {
   "cell_type": "code",
   "execution_count": 26,
   "metadata": {},
   "outputs": [],
   "source": [
    "df[\"room_type\"].fillna(\"Entire home/apt\", inplace = True)"
   ]
  },
  {
   "cell_type": "code",
   "execution_count": 27,
   "metadata": {},
   "outputs": [
    {
     "data": {
      "text/html": [
       "<div>\n",
       "<style scoped>\n",
       "    .dataframe tbody tr th:only-of-type {\n",
       "        vertical-align: middle;\n",
       "    }\n",
       "\n",
       "    .dataframe tbody tr th {\n",
       "        vertical-align: top;\n",
       "    }\n",
       "\n",
       "    .dataframe thead th {\n",
       "        text-align: right;\n",
       "    }\n",
       "</style>\n",
       "<table border=\"1\" class=\"dataframe\">\n",
       "  <thead>\n",
       "    <tr style=\"text-align: right;\">\n",
       "      <th></th>\n",
       "      <th>id</th>\n",
       "      <th>room_type</th>\n",
       "      <th>accommodates</th>\n",
       "      <th>bathrooms</th>\n",
       "      <th>cancellation_policy</th>\n",
       "      <th>cleaning_fee</th>\n",
       "      <th>instant_bookable</th>\n",
       "      <th>review_scores_rating</th>\n",
       "      <th>bedrooms</th>\n",
       "      <th>beds</th>\n",
       "      <th>log_price</th>\n",
       "    </tr>\n",
       "  </thead>\n",
       "  <tbody>\n",
       "    <tr>\n",
       "      <th>141</th>\n",
       "      <td>457555</td>\n",
       "      <td>Entire home/apt</td>\n",
       "      <td>1.0</td>\n",
       "      <td>1.0</td>\n",
       "      <td>flexible</td>\n",
       "      <td>False</td>\n",
       "      <td>f</td>\n",
       "      <td>20.0</td>\n",
       "      <td>1.0</td>\n",
       "      <td>1.0</td>\n",
       "      <td>5.521461</td>\n",
       "    </tr>\n",
       "    <tr>\n",
       "      <th>167</th>\n",
       "      <td>6374167</td>\n",
       "      <td>Entire home/apt</td>\n",
       "      <td>5.0</td>\n",
       "      <td>1.0</td>\n",
       "      <td>strict</td>\n",
       "      <td>True</td>\n",
       "      <td>f</td>\n",
       "      <td>97.0</td>\n",
       "      <td>2.0</td>\n",
       "      <td>3.0</td>\n",
       "      <td>5.575949</td>\n",
       "    </tr>\n",
       "    <tr>\n",
       "      <th>195</th>\n",
       "      <td>19981334</td>\n",
       "      <td>Entire home/apt</td>\n",
       "      <td>2.0</td>\n",
       "      <td>1.0</td>\n",
       "      <td>moderate</td>\n",
       "      <td>True</td>\n",
       "      <td>f</td>\n",
       "      <td>99.0</td>\n",
       "      <td>1.0</td>\n",
       "      <td>1.0</td>\n",
       "      <td>3.555348</td>\n",
       "    </tr>\n",
       "    <tr>\n",
       "      <th>255</th>\n",
       "      <td>455801</td>\n",
       "      <td>Entire home/apt</td>\n",
       "      <td>4.0</td>\n",
       "      <td>1.0</td>\n",
       "      <td>moderate</td>\n",
       "      <td>True</td>\n",
       "      <td>f</td>\n",
       "      <td>91.0</td>\n",
       "      <td>1.0</td>\n",
       "      <td>2.0</td>\n",
       "      <td>4.418841</td>\n",
       "    </tr>\n",
       "    <tr>\n",
       "      <th>552</th>\n",
       "      <td>4874722</td>\n",
       "      <td>Entire home/apt</td>\n",
       "      <td>1.0</td>\n",
       "      <td>2.5</td>\n",
       "      <td>strict</td>\n",
       "      <td>True</td>\n",
       "      <td>t</td>\n",
       "      <td>100.0</td>\n",
       "      <td>1.0</td>\n",
       "      <td>1.0</td>\n",
       "      <td>4.488636</td>\n",
       "    </tr>\n",
       "  </tbody>\n",
       "</table>\n",
       "</div>"
      ],
      "text/plain": [
       "           id        room_type  accommodates  bathrooms cancellation_policy  \\\n",
       "141    457555  Entire home/apt           1.0        1.0            flexible   \n",
       "167   6374167  Entire home/apt           5.0        1.0              strict   \n",
       "195  19981334  Entire home/apt           2.0        1.0            moderate   \n",
       "255    455801  Entire home/apt           4.0        1.0            moderate   \n",
       "552   4874722  Entire home/apt           1.0        2.5              strict   \n",
       "\n",
       "    cleaning_fee instant_bookable  review_scores_rating  bedrooms  beds  \\\n",
       "141        False                f                  20.0       1.0   1.0   \n",
       "167         True                f                  97.0       2.0   3.0   \n",
       "195         True                f                  99.0       1.0   1.0   \n",
       "255         True                f                  91.0       1.0   2.0   \n",
       "552         True                t                 100.0       1.0   1.0   \n",
       "\n",
       "     log_price  \n",
       "141   5.521461  \n",
       "167   5.575949  \n",
       "195   3.555348  \n",
       "255   4.418841  \n",
       "552   4.488636  "
      ]
     },
     "execution_count": 27,
     "metadata": {},
     "output_type": "execute_result"
    }
   ],
   "source": [
    "df[bool_series] "
   ]
  },
  {
   "cell_type": "markdown",
   "metadata": {},
   "source": [
    "* Replaced the 5 NaN values with Entire home/apt because they have the highest count in room_type"
   ]
  },
  {
   "cell_type": "code",
   "execution_count": 28,
   "metadata": {},
   "outputs": [],
   "source": [
    "bool_series = pd.isnull(df[\"cancellation_policy\"]) "
   ]
  },
  {
   "cell_type": "code",
   "execution_count": 29,
   "metadata": {},
   "outputs": [
    {
     "data": {
      "text/html": [
       "<div>\n",
       "<style scoped>\n",
       "    .dataframe tbody tr th:only-of-type {\n",
       "        vertical-align: middle;\n",
       "    }\n",
       "\n",
       "    .dataframe tbody tr th {\n",
       "        vertical-align: top;\n",
       "    }\n",
       "\n",
       "    .dataframe thead th {\n",
       "        text-align: right;\n",
       "    }\n",
       "</style>\n",
       "<table border=\"1\" class=\"dataframe\">\n",
       "  <thead>\n",
       "    <tr style=\"text-align: right;\">\n",
       "      <th></th>\n",
       "      <th>id</th>\n",
       "      <th>room_type</th>\n",
       "      <th>accommodates</th>\n",
       "      <th>bathrooms</th>\n",
       "      <th>cancellation_policy</th>\n",
       "      <th>cleaning_fee</th>\n",
       "      <th>instant_bookable</th>\n",
       "      <th>review_scores_rating</th>\n",
       "      <th>bedrooms</th>\n",
       "      <th>beds</th>\n",
       "      <th>log_price</th>\n",
       "    </tr>\n",
       "  </thead>\n",
       "  <tbody>\n",
       "    <tr>\n",
       "      <th>205</th>\n",
       "      <td>2754149</td>\n",
       "      <td>Private room</td>\n",
       "      <td>2.0</td>\n",
       "      <td>1.0</td>\n",
       "      <td>NaN</td>\n",
       "      <td>NaN</td>\n",
       "      <td>t</td>\n",
       "      <td>96.0</td>\n",
       "      <td>1.0</td>\n",
       "      <td>1.0</td>\n",
       "      <td>4.584967</td>\n",
       "    </tr>\n",
       "    <tr>\n",
       "      <th>209</th>\n",
       "      <td>14783267</td>\n",
       "      <td>Entire home/apt</td>\n",
       "      <td>2.0</td>\n",
       "      <td>1.0</td>\n",
       "      <td>NaN</td>\n",
       "      <td>NaN</td>\n",
       "      <td>f</td>\n",
       "      <td>93.0</td>\n",
       "      <td>1.0</td>\n",
       "      <td>1.0</td>\n",
       "      <td>4.787492</td>\n",
       "    </tr>\n",
       "    <tr>\n",
       "      <th>232</th>\n",
       "      <td>12265833</td>\n",
       "      <td>Entire home/apt</td>\n",
       "      <td>2.0</td>\n",
       "      <td>1.0</td>\n",
       "      <td>NaN</td>\n",
       "      <td>NaN</td>\n",
       "      <td>f</td>\n",
       "      <td>100.0</td>\n",
       "      <td>1.0</td>\n",
       "      <td>1.0</td>\n",
       "      <td>5.298317</td>\n",
       "    </tr>\n",
       "    <tr>\n",
       "      <th>348</th>\n",
       "      <td>18388570</td>\n",
       "      <td>Entire home/apt</td>\n",
       "      <td>2.0</td>\n",
       "      <td>1.0</td>\n",
       "      <td>NaN</td>\n",
       "      <td>False</td>\n",
       "      <td>f</td>\n",
       "      <td>20.0</td>\n",
       "      <td>0.0</td>\n",
       "      <td>1.0</td>\n",
       "      <td>4.605170</td>\n",
       "    </tr>\n",
       "    <tr>\n",
       "      <th>349</th>\n",
       "      <td>20620600</td>\n",
       "      <td>Private room</td>\n",
       "      <td>2.0</td>\n",
       "      <td>1.0</td>\n",
       "      <td>NaN</td>\n",
       "      <td>True</td>\n",
       "      <td>f</td>\n",
       "      <td>20.0</td>\n",
       "      <td>1.0</td>\n",
       "      <td>1.0</td>\n",
       "      <td>5.220356</td>\n",
       "    </tr>\n",
       "    <tr>\n",
       "      <th>399</th>\n",
       "      <td>2484207</td>\n",
       "      <td>Entire home/apt</td>\n",
       "      <td>2.0</td>\n",
       "      <td>1.0</td>\n",
       "      <td>NaN</td>\n",
       "      <td>NaN</td>\n",
       "      <td>t</td>\n",
       "      <td>100.0</td>\n",
       "      <td>1.0</td>\n",
       "      <td>1.0</td>\n",
       "      <td>5.703782</td>\n",
       "    </tr>\n",
       "    <tr>\n",
       "      <th>454</th>\n",
       "      <td>7939196</td>\n",
       "      <td>Entire home/apt</td>\n",
       "      <td>2.0</td>\n",
       "      <td>1.0</td>\n",
       "      <td>NaN</td>\n",
       "      <td>True</td>\n",
       "      <td>f</td>\n",
       "      <td>82.0</td>\n",
       "      <td>1.0</td>\n",
       "      <td>3.0</td>\n",
       "      <td>4.867534</td>\n",
       "    </tr>\n",
       "    <tr>\n",
       "      <th>574</th>\n",
       "      <td>169306</td>\n",
       "      <td>Entire home/apt</td>\n",
       "      <td>3.0</td>\n",
       "      <td>1.0</td>\n",
       "      <td>NaN</td>\n",
       "      <td>False</td>\n",
       "      <td>f</td>\n",
       "      <td>20.0</td>\n",
       "      <td>0.0</td>\n",
       "      <td>2.0</td>\n",
       "      <td>4.317488</td>\n",
       "    </tr>\n",
       "  </tbody>\n",
       "</table>\n",
       "</div>"
      ],
      "text/plain": [
       "           id        room_type  accommodates  bathrooms cancellation_policy  \\\n",
       "205   2754149     Private room           2.0        1.0                 NaN   \n",
       "209  14783267  Entire home/apt           2.0        1.0                 NaN   \n",
       "232  12265833  Entire home/apt           2.0        1.0                 NaN   \n",
       "348  18388570  Entire home/apt           2.0        1.0                 NaN   \n",
       "349  20620600     Private room           2.0        1.0                 NaN   \n",
       "399   2484207  Entire home/apt           2.0        1.0                 NaN   \n",
       "454   7939196  Entire home/apt           2.0        1.0                 NaN   \n",
       "574    169306  Entire home/apt           3.0        1.0                 NaN   \n",
       "\n",
       "    cleaning_fee instant_bookable  review_scores_rating  bedrooms  beds  \\\n",
       "205          NaN                t                  96.0       1.0   1.0   \n",
       "209          NaN                f                  93.0       1.0   1.0   \n",
       "232          NaN                f                 100.0       1.0   1.0   \n",
       "348        False                f                  20.0       0.0   1.0   \n",
       "349         True                f                  20.0       1.0   1.0   \n",
       "399          NaN                t                 100.0       1.0   1.0   \n",
       "454         True                f                  82.0       1.0   3.0   \n",
       "574        False                f                  20.0       0.0   2.0   \n",
       "\n",
       "     log_price  \n",
       "205   4.584967  \n",
       "209   4.787492  \n",
       "232   5.298317  \n",
       "348   4.605170  \n",
       "349   5.220356  \n",
       "399   5.703782  \n",
       "454   4.867534  \n",
       "574   4.317488  "
      ]
     },
     "execution_count": 29,
     "metadata": {},
     "output_type": "execute_result"
    }
   ],
   "source": [
    "df[bool_series] "
   ]
  },
  {
   "cell_type": "code",
   "execution_count": 30,
   "metadata": {},
   "outputs": [],
   "source": [
    "df[\"cancellation_policy\"].fillna(\"strict\", inplace = True)"
   ]
  },
  {
   "cell_type": "code",
   "execution_count": 31,
   "metadata": {
    "scrolled": false
   },
   "outputs": [
    {
     "data": {
      "text/html": [
       "<div>\n",
       "<style scoped>\n",
       "    .dataframe tbody tr th:only-of-type {\n",
       "        vertical-align: middle;\n",
       "    }\n",
       "\n",
       "    .dataframe tbody tr th {\n",
       "        vertical-align: top;\n",
       "    }\n",
       "\n",
       "    .dataframe thead th {\n",
       "        text-align: right;\n",
       "    }\n",
       "</style>\n",
       "<table border=\"1\" class=\"dataframe\">\n",
       "  <thead>\n",
       "    <tr style=\"text-align: right;\">\n",
       "      <th></th>\n",
       "      <th>id</th>\n",
       "      <th>room_type</th>\n",
       "      <th>accommodates</th>\n",
       "      <th>bathrooms</th>\n",
       "      <th>cancellation_policy</th>\n",
       "      <th>cleaning_fee</th>\n",
       "      <th>instant_bookable</th>\n",
       "      <th>review_scores_rating</th>\n",
       "      <th>bedrooms</th>\n",
       "      <th>beds</th>\n",
       "      <th>log_price</th>\n",
       "    </tr>\n",
       "  </thead>\n",
       "  <tbody>\n",
       "    <tr>\n",
       "      <th>205</th>\n",
       "      <td>2754149</td>\n",
       "      <td>Private room</td>\n",
       "      <td>2.0</td>\n",
       "      <td>1.0</td>\n",
       "      <td>strict</td>\n",
       "      <td>NaN</td>\n",
       "      <td>t</td>\n",
       "      <td>96.0</td>\n",
       "      <td>1.0</td>\n",
       "      <td>1.0</td>\n",
       "      <td>4.584967</td>\n",
       "    </tr>\n",
       "    <tr>\n",
       "      <th>209</th>\n",
       "      <td>14783267</td>\n",
       "      <td>Entire home/apt</td>\n",
       "      <td>2.0</td>\n",
       "      <td>1.0</td>\n",
       "      <td>strict</td>\n",
       "      <td>NaN</td>\n",
       "      <td>f</td>\n",
       "      <td>93.0</td>\n",
       "      <td>1.0</td>\n",
       "      <td>1.0</td>\n",
       "      <td>4.787492</td>\n",
       "    </tr>\n",
       "    <tr>\n",
       "      <th>232</th>\n",
       "      <td>12265833</td>\n",
       "      <td>Entire home/apt</td>\n",
       "      <td>2.0</td>\n",
       "      <td>1.0</td>\n",
       "      <td>strict</td>\n",
       "      <td>NaN</td>\n",
       "      <td>f</td>\n",
       "      <td>100.0</td>\n",
       "      <td>1.0</td>\n",
       "      <td>1.0</td>\n",
       "      <td>5.298317</td>\n",
       "    </tr>\n",
       "    <tr>\n",
       "      <th>348</th>\n",
       "      <td>18388570</td>\n",
       "      <td>Entire home/apt</td>\n",
       "      <td>2.0</td>\n",
       "      <td>1.0</td>\n",
       "      <td>strict</td>\n",
       "      <td>False</td>\n",
       "      <td>f</td>\n",
       "      <td>20.0</td>\n",
       "      <td>0.0</td>\n",
       "      <td>1.0</td>\n",
       "      <td>4.605170</td>\n",
       "    </tr>\n",
       "    <tr>\n",
       "      <th>349</th>\n",
       "      <td>20620600</td>\n",
       "      <td>Private room</td>\n",
       "      <td>2.0</td>\n",
       "      <td>1.0</td>\n",
       "      <td>strict</td>\n",
       "      <td>True</td>\n",
       "      <td>f</td>\n",
       "      <td>20.0</td>\n",
       "      <td>1.0</td>\n",
       "      <td>1.0</td>\n",
       "      <td>5.220356</td>\n",
       "    </tr>\n",
       "    <tr>\n",
       "      <th>399</th>\n",
       "      <td>2484207</td>\n",
       "      <td>Entire home/apt</td>\n",
       "      <td>2.0</td>\n",
       "      <td>1.0</td>\n",
       "      <td>strict</td>\n",
       "      <td>NaN</td>\n",
       "      <td>t</td>\n",
       "      <td>100.0</td>\n",
       "      <td>1.0</td>\n",
       "      <td>1.0</td>\n",
       "      <td>5.703782</td>\n",
       "    </tr>\n",
       "    <tr>\n",
       "      <th>454</th>\n",
       "      <td>7939196</td>\n",
       "      <td>Entire home/apt</td>\n",
       "      <td>2.0</td>\n",
       "      <td>1.0</td>\n",
       "      <td>strict</td>\n",
       "      <td>True</td>\n",
       "      <td>f</td>\n",
       "      <td>82.0</td>\n",
       "      <td>1.0</td>\n",
       "      <td>3.0</td>\n",
       "      <td>4.867534</td>\n",
       "    </tr>\n",
       "    <tr>\n",
       "      <th>574</th>\n",
       "      <td>169306</td>\n",
       "      <td>Entire home/apt</td>\n",
       "      <td>3.0</td>\n",
       "      <td>1.0</td>\n",
       "      <td>strict</td>\n",
       "      <td>False</td>\n",
       "      <td>f</td>\n",
       "      <td>20.0</td>\n",
       "      <td>0.0</td>\n",
       "      <td>2.0</td>\n",
       "      <td>4.317488</td>\n",
       "    </tr>\n",
       "  </tbody>\n",
       "</table>\n",
       "</div>"
      ],
      "text/plain": [
       "           id        room_type  accommodates  bathrooms cancellation_policy  \\\n",
       "205   2754149     Private room           2.0        1.0              strict   \n",
       "209  14783267  Entire home/apt           2.0        1.0              strict   \n",
       "232  12265833  Entire home/apt           2.0        1.0              strict   \n",
       "348  18388570  Entire home/apt           2.0        1.0              strict   \n",
       "349  20620600     Private room           2.0        1.0              strict   \n",
       "399   2484207  Entire home/apt           2.0        1.0              strict   \n",
       "454   7939196  Entire home/apt           2.0        1.0              strict   \n",
       "574    169306  Entire home/apt           3.0        1.0              strict   \n",
       "\n",
       "    cleaning_fee instant_bookable  review_scores_rating  bedrooms  beds  \\\n",
       "205          NaN                t                  96.0       1.0   1.0   \n",
       "209          NaN                f                  93.0       1.0   1.0   \n",
       "232          NaN                f                 100.0       1.0   1.0   \n",
       "348        False                f                  20.0       0.0   1.0   \n",
       "349         True                f                  20.0       1.0   1.0   \n",
       "399          NaN                t                 100.0       1.0   1.0   \n",
       "454         True                f                  82.0       1.0   3.0   \n",
       "574        False                f                  20.0       0.0   2.0   \n",
       "\n",
       "     log_price  \n",
       "205   4.584967  \n",
       "209   4.787492  \n",
       "232   5.298317  \n",
       "348   4.605170  \n",
       "349   5.220356  \n",
       "399   5.703782  \n",
       "454   4.867534  \n",
       "574   4.317488  "
      ]
     },
     "execution_count": 31,
     "metadata": {},
     "output_type": "execute_result"
    }
   ],
   "source": [
    "df[bool_series] "
   ]
  },
  {
   "cell_type": "markdown",
   "metadata": {},
   "source": [
    "* Replaced the 8 missing values with strict since they have the highest count in cancellation_policy"
   ]
  },
  {
   "cell_type": "code",
   "execution_count": 32,
   "metadata": {},
   "outputs": [
    {
     "data": {
      "text/plain": [
       "True     54399\n",
       "False    19708\n",
       "Name: cleaning_fee, dtype: int64"
      ]
     },
     "execution_count": 32,
     "metadata": {},
     "output_type": "execute_result"
    }
   ],
   "source": [
    "df['cleaning_fee'].value_counts()"
   ]
  },
  {
   "cell_type": "code",
   "execution_count": 33,
   "metadata": {},
   "outputs": [],
   "source": [
    "df.cleaning_fee = df.cleaning_fee.fillna(True)"
   ]
  },
  {
   "cell_type": "markdown",
   "metadata": {},
   "source": [
    "* Replaced 4 missing values in bool values with True "
   ]
  },
  {
   "cell_type": "code",
   "execution_count": 34,
   "metadata": {},
   "outputs": [],
   "source": [
    "df['instant_bookable'] = df['instant_bookable'].map(\n",
    "                   {'t':True ,'f':False})"
   ]
  },
  {
   "cell_type": "markdown",
   "metadata": {},
   "source": [
    "* Replaced all t with True and f with False"
   ]
  },
  {
   "cell_type": "code",
   "execution_count": 35,
   "metadata": {},
   "outputs": [
    {
     "data": {
      "text/plain": [
       "id                      0\n",
       "room_type               0\n",
       "accommodates            0\n",
       "bathrooms               0\n",
       "cancellation_policy     0\n",
       "cleaning_fee            0\n",
       "instant_bookable        0\n",
       "review_scores_rating    0\n",
       "bedrooms                0\n",
       "beds                    0\n",
       "log_price               0\n",
       "dtype: int64"
      ]
     },
     "execution_count": 35,
     "metadata": {},
     "output_type": "execute_result"
    }
   ],
   "source": [
    "df.isnull().sum()"
   ]
  },
  {
   "cell_type": "markdown",
   "metadata": {},
   "source": [
    "### EDA"
   ]
  },
  {
   "cell_type": "markdown",
   "metadata": {},
   "source": [
    "## Univariate analysis"
   ]
  },
  {
   "cell_type": "code",
   "execution_count": 36,
   "metadata": {},
   "outputs": [],
   "source": [
    "def histogram_boxplot(feature, figsize=(15,10), bins = None):\n",
    "    \"\"\" Boxplot and histogram combined\n",
    "    feature: 1-d feature array\n",
    "    figsize: size of fig (default (9,8))\n",
    "    bins: number of bins (default None / auto)\n",
    "    \"\"\"\n",
    "    f2, (ax_box2, ax_hist2) = plt.subplots(nrows = 2, # Number of rows of the subplot grid= 2\n",
    "                                           sharex = True, # x-axis will be shared among all subplots\n",
    "                                           gridspec_kw = {\"height_ratios\": (.25, .75)}, \n",
    "                                           figsize = figsize \n",
    "                                           ) # creating the 2 subplots\n",
    "    sns.boxplot(feature, ax=ax_box2, showmeans=True, color='violet') # boxplot will be created and a star will indicate the mean value of the column\n",
    "    sns.distplot(feature, kde=F, ax=ax_hist2, bins=bins,palette=\"winter\") if bins else sns.distplot(feature, kde=False, ax=ax_hist2) # For histogram\n",
    "    ax_hist2.axvline(np.mean(feature), color='green', linestyle='--') # Add mean to the histogram\n",
    "    ax_hist2.axvline(np.median(feature), color='black', linestyle='-') # Add median to the histogram"
   ]
  },
  {
   "cell_type": "code",
   "execution_count": 37,
   "metadata": {},
   "outputs": [],
   "source": [
    "\n",
    "def perc_on_bar(plot, feature):\n",
    "    '''\n",
    "    plot\n",
    "    feature: categorical feature\n",
    "    the function won't work if a column is passed in hue parameter\n",
    "    '''\n",
    "\n",
    "    total = len(feature) # length of the column\n",
    "    for p in ax.patches:\n",
    "        percentage = '{:.1f}%'.format(100 * p.get_height()/total) # percentage of each class of the category\n",
    "        x = p.get_x() + p.get_width() / 2 - 0.05 # width of the plot\n",
    "        y = p.get_y() + p.get_height()           # hieght of the plot\n",
    "        ax.annotate(percentage, (x, y), size = 12) # annotate the percantage \n",
    "        \n",
    "    plt.show() # show the plot"
   ]
  },
  {
   "cell_type": "code",
   "execution_count": 38,
   "metadata": {},
   "outputs": [
    {
     "name": "stderr",
     "output_type": "stream",
     "text": [
      "C:\\Users\\robby\\anaconda3\\lib\\site-packages\\seaborn\\_decorators.py:36: FutureWarning: Pass the following variable as a keyword arg: x. From version 0.12, the only valid positional argument will be `data`, and passing other arguments without an explicit keyword will result in an error or misinterpretation.\n",
      "  warnings.warn(\n"
     ]
    },
    {
     "data": {
      "image/png": "[encoded data removed]",
      "text/plain": [
       "<Figure size 1080x360 with 1 Axes>"
      ]
     },
     "metadata": {
      "needs_background": "light"
     },
     "output_type": "display_data"
    }
   ],
   "source": [
    "plt.figure(figsize=(15,5))\n",
    "ax = sns.countplot(df[\"room_type\"],palette='winter')\n",
    "perc_on_bar(ax,df[\"room_type\"])"
   ]
  },
  {
   "cell_type": "markdown",
   "metadata": {},
   "source": [
    "* 55.7% are entire home/apt and 2.9% are shared room"
   ]
  },
  {
   "cell_type": "code",
   "execution_count": 39,
   "metadata": {},
   "outputs": [
    {
     "name": "stderr",
     "output_type": "stream",
     "text": [
      "C:\\Users\\robby\\anaconda3\\lib\\site-packages\\seaborn\\_decorators.py:36: FutureWarning: Pass the following variable as a keyword arg: x. From version 0.12, the only valid positional argument will be `data`, and passing other arguments without an explicit keyword will result in an error or misinterpretation.\n",
      "  warnings.warn(\n",
      "C:\\Users\\robby\\anaconda3\\lib\\site-packages\\seaborn\\distributions.py:2551: FutureWarning: `distplot` is a deprecated function and will be removed in a future version. Please adapt your code to use either `displot` (a figure-level function with similar flexibility) or `histplot` (an axes-level function for histograms).\n",
      "  warnings.warn(msg, FutureWarning)\n"
     ]
    },
    {
     "data": {
      "image/png": "[encoded data removed]",
      "text/plain": [
       "<Figure size 1080x720 with 2 Axes>"
      ]
     },
     "metadata": {
      "needs_background": "light"
     },
     "output_type": "display_data"
    }
   ],
   "source": [
    "histogram_boxplot(df['accommodates'])"
   ]
  },
  {
   "cell_type": "markdown",
   "metadata": {},
   "source": [
    "* The max accommodations is 16 with an averge of 3"
   ]
  },
  {
   "cell_type": "code",
   "execution_count": 40,
   "metadata": {},
   "outputs": [
    {
     "name": "stderr",
     "output_type": "stream",
     "text": [
      "C:\\Users\\robby\\anaconda3\\lib\\site-packages\\seaborn\\_decorators.py:36: FutureWarning: Pass the following variable as a keyword arg: x. From version 0.12, the only valid positional argument will be `data`, and passing other arguments without an explicit keyword will result in an error or misinterpretation.\n",
      "  warnings.warn(\n",
      "C:\\Users\\robby\\anaconda3\\lib\\site-packages\\seaborn\\distributions.py:2551: FutureWarning: `distplot` is a deprecated function and will be removed in a future version. Please adapt your code to use either `displot` (a figure-level function with similar flexibility) or `histplot` (an axes-level function for histograms).\n",
      "  warnings.warn(msg, FutureWarning)\n"
     ]
    },
    {
     "data": {
      "image/png": "[encoded data removed]",
      "text/plain": [
       "<Figure size 1080x720 with 2 Axes>"
      ]
     },
     "metadata": {
      "needs_background": "light"
     },
     "output_type": "display_data"
    }
   ],
   "source": [
    "histogram_boxplot(df['bathrooms'])"
   ]
  },
  {
   "cell_type": "markdown",
   "metadata": {},
   "source": [
    "* The max bathrooms is 5 with an averge of 1.2"
   ]
  },
  {
   "cell_type": "code",
   "execution_count": 41,
   "metadata": {},
   "outputs": [
    {
     "name": "stderr",
     "output_type": "stream",
     "text": [
      "C:\\Users\\robby\\anaconda3\\lib\\site-packages\\seaborn\\_decorators.py:36: FutureWarning: Pass the following variable as a keyword arg: x. From version 0.12, the only valid positional argument will be `data`, and passing other arguments without an explicit keyword will result in an error or misinterpretation.\n",
      "  warnings.warn(\n"
     ]
    },
    {
     "data": {
      "image/png": "[encoded data removed]",
      "text/plain": [
       "<Figure size 1080x360 with 1 Axes>"
      ]
     },
     "metadata": {
      "needs_background": "light"
     },
     "output_type": "display_data"
    }
   ],
   "source": [
    "plt.figure(figsize=(15,5))\n",
    "ax = sns.countplot(df[\"cancellation_policy\"],palette='winter')\n",
    "perc_on_bar(ax,df[\"cancellation_policy\"])"
   ]
  },
  {
   "cell_type": "markdown",
   "metadata": {},
   "source": [
    "* About 30.4 % of the cancellation policy is flexible and 44% is strict"
   ]
  },
  {
   "cell_type": "code",
   "execution_count": 42,
   "metadata": {},
   "outputs": [
    {
     "name": "stderr",
     "output_type": "stream",
     "text": [
      "C:\\Users\\robby\\anaconda3\\lib\\site-packages\\seaborn\\_decorators.py:36: FutureWarning: Pass the following variable as a keyword arg: x. From version 0.12, the only valid positional argument will be `data`, and passing other arguments without an explicit keyword will result in an error or misinterpretation.\n",
      "  warnings.warn(\n"
     ]
    },
    {
     "data": {
      "image/png": "[encoded data removed]",
      "text/plain": [
       "<Figure size 1080x360 with 1 Axes>"
      ]
     },
     "metadata": {
      "needs_background": "light"
     },
     "output_type": "display_data"
    }
   ],
   "source": [
    "plt.figure(figsize=(15,5))\n",
    "ax = sns.countplot(df[\"instant_bookable\"],palette='winter')\n",
    "perc_on_bar(ax,df[\"instant_bookable\"])"
   ]
  },
  {
   "cell_type": "markdown",
   "metadata": {},
   "source": [
    "* About 78.3 percent of the rentals are not instant bookable"
   ]
  },
  {
   "cell_type": "code",
   "execution_count": 43,
   "metadata": {},
   "outputs": [
    {
     "name": "stderr",
     "output_type": "stream",
     "text": [
      "C:\\Users\\robby\\anaconda3\\lib\\site-packages\\seaborn\\_decorators.py:36: FutureWarning: Pass the following variable as a keyword arg: x. From version 0.12, the only valid positional argument will be `data`, and passing other arguments without an explicit keyword will result in an error or misinterpretation.\n",
      "  warnings.warn(\n",
      "C:\\Users\\robby\\anaconda3\\lib\\site-packages\\seaborn\\distributions.py:2551: FutureWarning: `distplot` is a deprecated function and will be removed in a future version. Please adapt your code to use either `displot` (a figure-level function with similar flexibility) or `histplot` (an axes-level function for histograms).\n",
      "  warnings.warn(msg, FutureWarning)\n"
     ]
    },
    {
     "data": {
      "image/png": "[encoded data removed]",
      "text/plain": [
       "<Figure size 1080x720 with 2 Axes>"
      ]
     },
     "metadata": {
      "needs_background": "light"
     },
     "output_type": "display_data"
    }
   ],
   "source": [
    "histogram_boxplot(df['review_scores_rating'])"
   ]
  },
  {
   "cell_type": "markdown",
   "metadata": {},
   "source": [
    "* All the missing values we set to 20 the averge is 78%"
   ]
  },
  {
   "cell_type": "code",
   "execution_count": 44,
   "metadata": {},
   "outputs": [
    {
     "name": "stderr",
     "output_type": "stream",
     "text": [
      "C:\\Users\\robby\\anaconda3\\lib\\site-packages\\seaborn\\_decorators.py:36: FutureWarning: Pass the following variable as a keyword arg: x. From version 0.12, the only valid positional argument will be `data`, and passing other arguments without an explicit keyword will result in an error or misinterpretation.\n",
      "  warnings.warn(\n",
      "C:\\Users\\robby\\anaconda3\\lib\\site-packages\\seaborn\\distributions.py:2551: FutureWarning: `distplot` is a deprecated function and will be removed in a future version. Please adapt your code to use either `displot` (a figure-level function with similar flexibility) or `histplot` (an axes-level function for histograms).\n",
      "  warnings.warn(msg, FutureWarning)\n"
     ]
    },
    {
     "data": {
      "image/png": "[encoded data removed]",
      "text/plain": [
       "<Figure size 1080x720 with 2 Axes>"
      ]
     },
     "metadata": {
      "needs_background": "light"
     },
     "output_type": "display_data"
    }
   ],
   "source": [
    "histogram_boxplot(df['bedrooms'])"
   ]
  },
  {
   "cell_type": "markdown",
   "metadata": {},
   "source": [
    "* The averge bathrooms in a rental is 1.6\n",
    "* Alot of outliers"
   ]
  },
  {
   "cell_type": "code",
   "execution_count": 45,
   "metadata": {},
   "outputs": [
    {
     "name": "stderr",
     "output_type": "stream",
     "text": [
      "C:\\Users\\robby\\anaconda3\\lib\\site-packages\\seaborn\\_decorators.py:36: FutureWarning: Pass the following variable as a keyword arg: x. From version 0.12, the only valid positional argument will be `data`, and passing other arguments without an explicit keyword will result in an error or misinterpretation.\n",
      "  warnings.warn(\n",
      "C:\\Users\\robby\\anaconda3\\lib\\site-packages\\seaborn\\distributions.py:2551: FutureWarning: `distplot` is a deprecated function and will be removed in a future version. Please adapt your code to use either `displot` (a figure-level function with similar flexibility) or `histplot` (an axes-level function for histograms).\n",
      "  warnings.warn(msg, FutureWarning)\n"
     ]
    },
    {
     "data": {
      "image/png": "[encoded data removed]",
      "text/plain": [
       "<Figure size 1080x720 with 2 Axes>"
      ]
     },
     "metadata": {
      "needs_background": "light"
     },
     "output_type": "display_data"
    }
   ],
   "source": [
    "histogram_boxplot(df['beds'])"
   ]
  },
  {
   "cell_type": "markdown",
   "metadata": {},
   "source": [
    "* The averge beds in a rental is 1.5\n",
    "* Alot of outliers"
   ]
  },
  {
   "cell_type": "code",
   "execution_count": 46,
   "metadata": {},
   "outputs": [
    {
     "name": "stderr",
     "output_type": "stream",
     "text": [
      "C:\\Users\\robby\\anaconda3\\lib\\site-packages\\seaborn\\_decorators.py:36: FutureWarning: Pass the following variable as a keyword arg: x. From version 0.12, the only valid positional argument will be `data`, and passing other arguments without an explicit keyword will result in an error or misinterpretation.\n",
      "  warnings.warn(\n",
      "C:\\Users\\robby\\anaconda3\\lib\\site-packages\\seaborn\\distributions.py:2551: FutureWarning: `distplot` is a deprecated function and will be removed in a future version. Please adapt your code to use either `displot` (a figure-level function with similar flexibility) or `histplot` (an axes-level function for histograms).\n",
      "  warnings.warn(msg, FutureWarning)\n"
     ]
    },
    {
     "data": {
      "image/png": "[encoded data removed]",
      "text/plain": [
       "<Figure size 1080x720 with 2 Axes>"
      ]
     },
     "metadata": {
      "needs_background": "light"
     },
     "output_type": "display_data"
    }
   ],
   "source": [
    "histogram_boxplot(df['log_price'])"
   ]
  },
  {
   "cell_type": "code",
   "execution_count": 47,
   "metadata": {},
   "outputs": [
    {
     "data": {
      "image/png": "[encoded data removed]",
      "text/plain": [
       "<Figure size 1224x5400 with 7 Axes>"
      ]
     },
     "metadata": {
      "needs_background": "light"
     },
     "output_type": "display_data"
    }
   ],
   "source": [
    "# lets plot histogram of all plots\n",
    "from scipy.stats import norm\n",
    "all_col = df.select_dtypes(include=np.number).columns.tolist()\n",
    "plt.figure(figsize=(17,75))\n",
    "\n",
    "for i in range(len(all_col)):\n",
    "    plt.subplot(18,3,i+1)\n",
    "    plt.hist(df[all_col[i]])\n",
    "    #sns.displot(df[all_col[i]], kde=True)\n",
    "    plt.tight_layout()\n",
    "    plt.title(all_col[i],fontsize=25)\n",
    "    \n",
    "\n",
    "plt.show()"
   ]
  },
  {
   "cell_type": "markdown",
   "metadata": {},
   "source": [
    "## Bivariate analysis"
   ]
  },
  {
   "cell_type": "code",
   "execution_count": 48,
   "metadata": {},
   "outputs": [
    {
     "data": {
      "image/png": "[encoded data removed]",
      "text/plain": [
       "<Figure size 1440x720 with 2 Axes>"
      ]
     },
     "metadata": {
      "needs_background": "light"
     },
     "output_type": "display_data"
    }
   ],
   "source": [
    "plt.figure(figsize=(20,10))\n",
    "sns.heatmap(df.corr(),annot=True,vmin=-1,vmax=1,fmt='.2f')\n",
    "plt.show()"
   ]
  },
  {
   "cell_type": "markdown",
   "metadata": {},
   "source": [
    "* As we can see there big Correlation between beds and accommodates, which makes sense because they need a bed to sleep.\n",
    "* Thier is also a Correlation between bedroom and beds."
   ]
  },
  {
   "cell_type": "code",
   "execution_count": 49,
   "metadata": {},
   "outputs": [
    {
     "data": {
      "text/html": [
       "<div>\n",
       "<style scoped>\n",
       "    .dataframe tbody tr th:only-of-type {\n",
       "        vertical-align: middle;\n",
       "    }\n",
       "\n",
       "    .dataframe tbody tr th {\n",
       "        vertical-align: top;\n",
       "    }\n",
       "\n",
       "    .dataframe thead th {\n",
       "        text-align: right;\n",
       "    }\n",
       "</style>\n",
       "<table border=\"1\" class=\"dataframe\">\n",
       "  <thead>\n",
       "    <tr style=\"text-align: right;\">\n",
       "      <th></th>\n",
       "      <th>id</th>\n",
       "      <th>accommodates</th>\n",
       "      <th>bathrooms</th>\n",
       "      <th>review_scores_rating</th>\n",
       "      <th>bedrooms</th>\n",
       "      <th>beds</th>\n",
       "      <th>log_price</th>\n",
       "    </tr>\n",
       "  </thead>\n",
       "  <tbody>\n",
       "    <tr>\n",
       "      <th>id</th>\n",
       "      <td>1.000000</td>\n",
       "      <td>-0.005755</td>\n",
       "      <td>-0.004058</td>\n",
       "      <td>-0.004263</td>\n",
       "      <td>-0.007578</td>\n",
       "      <td>-0.008876</td>\n",
       "      <td>-0.007178</td>\n",
       "    </tr>\n",
       "    <tr>\n",
       "      <th>accommodates</th>\n",
       "      <td>-0.005755</td>\n",
       "      <td>1.000000</td>\n",
       "      <td>0.505506</td>\n",
       "      <td>0.049729</td>\n",
       "      <td>0.709230</td>\n",
       "      <td>0.810231</td>\n",
       "      <td>0.567572</td>\n",
       "    </tr>\n",
       "    <tr>\n",
       "      <th>bathrooms</th>\n",
       "      <td>-0.004058</td>\n",
       "      <td>0.505506</td>\n",
       "      <td>1.000000</td>\n",
       "      <td>-0.025190</td>\n",
       "      <td>0.589783</td>\n",
       "      <td>0.525699</td>\n",
       "      <td>0.355174</td>\n",
       "    </tr>\n",
       "    <tr>\n",
       "      <th>review_scores_rating</th>\n",
       "      <td>-0.004263</td>\n",
       "      <td>0.049729</td>\n",
       "      <td>-0.025190</td>\n",
       "      <td>1.000000</td>\n",
       "      <td>-0.007647</td>\n",
       "      <td>0.034815</td>\n",
       "      <td>-0.066501</td>\n",
       "    </tr>\n",
       "    <tr>\n",
       "      <th>bedrooms</th>\n",
       "      <td>-0.007578</td>\n",
       "      <td>0.709230</td>\n",
       "      <td>0.589783</td>\n",
       "      <td>-0.007647</td>\n",
       "      <td>1.000000</td>\n",
       "      <td>0.709186</td>\n",
       "      <td>0.473028</td>\n",
       "    </tr>\n",
       "    <tr>\n",
       "      <th>beds</th>\n",
       "      <td>-0.008876</td>\n",
       "      <td>0.810231</td>\n",
       "      <td>0.525699</td>\n",
       "      <td>0.034815</td>\n",
       "      <td>0.709186</td>\n",
       "      <td>1.000000</td>\n",
       "      <td>0.441953</td>\n",
       "    </tr>\n",
       "    <tr>\n",
       "      <th>log_price</th>\n",
       "      <td>-0.007178</td>\n",
       "      <td>0.567572</td>\n",
       "      <td>0.355174</td>\n",
       "      <td>-0.066501</td>\n",
       "      <td>0.473028</td>\n",
       "      <td>0.441953</td>\n",
       "      <td>1.000000</td>\n",
       "    </tr>\n",
       "  </tbody>\n",
       "</table>\n",
       "</div>"
      ],
      "text/plain": [
       "                            id  accommodates  bathrooms  review_scores_rating  \\\n",
       "id                    1.000000     -0.005755  -0.004058             -0.004263   \n",
       "accommodates         -0.005755      1.000000   0.505506              0.049729   \n",
       "bathrooms            -0.004058      0.505506   1.000000             -0.025190   \n",
       "review_scores_rating -0.004263      0.049729  -0.025190              1.000000   \n",
       "bedrooms             -0.007578      0.709230   0.589783             -0.007647   \n",
       "beds                 -0.008876      0.810231   0.525699              0.034815   \n",
       "log_price            -0.007178      0.567572   0.355174             -0.066501   \n",
       "\n",
       "                      bedrooms      beds  log_price  \n",
       "id                   -0.007578 -0.008876  -0.007178  \n",
       "accommodates          0.709230  0.810231   0.567572  \n",
       "bathrooms             0.589783  0.525699   0.355174  \n",
       "review_scores_rating -0.007647  0.034815  -0.066501  \n",
       "bedrooms              1.000000  0.709186   0.473028  \n",
       "beds                  0.709186  1.000000   0.441953  \n",
       "log_price             0.473028  0.441953   1.000000  "
      ]
     },
     "execution_count": 49,
     "metadata": {},
     "output_type": "execute_result"
    }
   ],
   "source": [
    "df.corr(method ='pearson') "
   ]
  },
  {
   "cell_type": "code",
   "execution_count": 50,
   "metadata": {},
   "outputs": [
    {
     "name": "stderr",
     "output_type": "stream",
     "text": [
      "C:\\Users\\robby\\anaconda3\\lib\\site-packages\\seaborn\\_decorators.py:36: FutureWarning: Pass the following variables as keyword args: x, y. From version 0.12, the only valid positional argument will be `data`, and passing other arguments without an explicit keyword will result in an error or misinterpretation.\n",
      "  warnings.warn(\n",
      "C:\\Users\\robby\\anaconda3\\lib\\site-packages\\seaborn\\_decorators.py:36: FutureWarning: Pass the following variables as keyword args: x, y. From version 0.12, the only valid positional argument will be `data`, and passing other arguments without an explicit keyword will result in an error or misinterpretation.\n",
      "  warnings.warn(\n",
      "C:\\Users\\robby\\anaconda3\\lib\\site-packages\\seaborn\\_decorators.py:36: FutureWarning: Pass the following variables as keyword args: x, y. From version 0.12, the only valid positional argument will be `data`, and passing other arguments without an explicit keyword will result in an error or misinterpretation.\n",
      "  warnings.warn(\n"
     ]
    },
    {
     "data": {
      "image/png": "[encoded data removed]",
      "text/plain": [
       "<Figure size 1080x1440 with 3 Axes>"
      ]
     },
     "metadata": {
      "needs_background": "light"
     },
     "output_type": "display_data"
    }
   ],
   "source": [
    "cols = df[['bathrooms','bedrooms','beds']].columns.tolist()\n",
    "plt.figure(figsize=(15,20))\n",
    "\n",
    "for i, variable in enumerate(cols):\n",
    "                     plt.subplot(3,2,i+1)\n",
    "                     sns.boxplot(df[\"accommodates\"],df[variable],palette=\"PuBu\")\n",
    "                     plt.tight_layout()\n",
    "                     plt.title(variable)\n",
    "plt.show()"
   ]
  },
  {
   "cell_type": "markdown",
   "metadata": {},
   "source": [
    "* There are lower outliers in log_price, review_scores_rating,\n",
    "* There are higher outliers in beds,bedrooms,bathrooms, accommodates"
   ]
  },
  {
   "cell_type": "code",
   "execution_count": 51,
   "metadata": {},
   "outputs": [],
   "source": [
    "### Function to plot stacked bar charts for categorical columns\n",
    "def stacked_plot(x):\n",
    "    sns.set(palette='nipy_spectral')\n",
    "    tab1 = pd.crosstab(x,df['accommodates'],margins=True)\n",
    "    print(tab1)\n",
    "    print('-'*120)\n",
    "    tab = pd.crosstab(x,df['accommodates'],normalize='index')\n",
    "    tab.plot(kind='bar',stacked=True,figsize=(10,5))\n",
    "    plt.legend(loc='lower left', frameon=False)\n",
    "    plt.legend(loc=\"upper left\", bbox_to_anchor=(1,1))\n",
    "    plt.show()"
   ]
  },
  {
   "cell_type": "code",
   "execution_count": 52,
   "metadata": {},
   "outputs": [
    {
     "name": "stdout",
     "output_type": "stream",
     "text": [
      "accommodates      1.0    2.0   3.0    4.0   5.0   6.0  7.0   8.0  9.0  10.0  \\\n",
      "room_type                                                                     \n",
      "Entire home/apt   739  12019  5808  10462  3206  4720  907  1739  262   663   \n",
      "Private room     7551  19194  1879   1480   216   196   30    37    4    18   \n",
      "Shared room      1144    643   106    124    22    52    9    19    4    20   \n",
      "All              9434  31856  7793  12066  3444  4968  946  1795  270   701   \n",
      "\n",
      "accommodates     11.0  12.0  13.0  14.0  15.0  16.0    All  \n",
      "room_type                                                   \n",
      "Entire home/apt    77   258    35    97    49   272  41313  \n",
      "Private room        1     4     1     6     4    14  30635  \n",
      "Shared room         1     2     0     1     1    15   2163  \n",
      "All                79   264    36   104    54   301  74111  \n",
      "------------------------------------------------------------------------------------------------------------------------\n"
     ]
    },
    {
     "data": {
      "image/png": "[encoded data removed]",
      "text/plain": [
       "<Figure size 720x360 with 1 Axes>"
      ]
     },
     "metadata": {},
     "output_type": "display_data"
    }
   ],
   "source": [
    "stacked_plot(df['room_type'])"
   ]
  },
  {
   "cell_type": "code",
   "execution_count": 53,
   "metadata": {},
   "outputs": [
    {
     "name": "stdout",
     "output_type": "stream",
     "text": [
      "accommodates          1.0    2.0   3.0    4.0   5.0   6.0  7.0   8.0  9.0  \\\n",
      "cancellation_policy                                                         \n",
      "flexible             4395  10950  2083   2940   658   905  138   262   33   \n",
      "moderate             1967   8903  2211   3216   865  1102  195   345   50   \n",
      "strict               3072  12003  3499   5910  1921  2961  613  1188  187   \n",
      "All                  9434  31856  7793  12066  3444  4968  946  1795  270   \n",
      "\n",
      "accommodates         10.0  11.0  12.0  13.0  14.0  15.0  16.0    All  \n",
      "cancellation_policy                                                   \n",
      "flexible               93     4    24     2    13     6    37  22543  \n",
      "moderate               97     8    37     8    18     4    34  19060  \n",
      "strict                511    67   203    26    73    44   230  32508  \n",
      "All                   701    79   264    36   104    54   301  74111  \n",
      "------------------------------------------------------------------------------------------------------------------------\n"
     ]
    },
    {
     "data": {
      "image/png": "[encoded data removed]",
      "text/plain": [
       "<Figure size 720x360 with 1 Axes>"
      ]
     },
     "metadata": {},
     "output_type": "display_data"
    }
   ],
   "source": [
    "stacked_plot(df['cancellation_policy'])"
   ]
  },
  {
   "cell_type": "markdown",
   "metadata": {},
   "source": [
    "### Outlier detection using IQR"
   ]
  },
  {
   "cell_type": "markdown",
   "metadata": {},
   "source": [
    "##### Treatment for log_price"
   ]
  },
  {
   "cell_type": "code",
   "execution_count": 54,
   "metadata": {},
   "outputs": [
    {
     "name": "stdout",
     "output_type": "stream",
     "text": [
      "0.05\n",
      "0.132\n"
     ]
    }
   ],
   "source": [
    "np.random.seed(1)\n",
    "x1 = np.random.normal(size=1000)\n",
    "x2 = np.random.lognormal(size=1000)\n",
    "\n",
    "def frac_outside_1pt5_IQR(x):\n",
    "    length = 1.5 * np.diff(np.quantile(x, [.25, .75]))\n",
    "    return np.mean(np.abs(x - np.median(x)) > length)\n",
    "\n",
    "print(frac_outside_1pt5_IQR(x1))\n",
    "print(frac_outside_1pt5_IQR(x2))"
   ]
  },
  {
   "cell_type": "code",
   "execution_count": 55,
   "metadata": {},
   "outputs": [
    {
     "data": {
      "image/png": "[encoded data removed]",
      "text/plain": [
       "<Figure size 432x288 with 1 Axes>"
      ]
     },
     "metadata": {},
     "output_type": "display_data"
    },
    {
     "name": "stderr",
     "output_type": "stream",
     "text": [
      "C:\\Users\\robby\\anaconda3\\lib\\site-packages\\seaborn\\_decorators.py:36: FutureWarning: Pass the following variable as a keyword arg: x. From version 0.12, the only valid positional argument will be `data`, and passing other arguments without an explicit keyword will result in an error or misinterpretation.\n",
      "  warnings.warn(\n"
     ]
    },
    {
     "data": {
      "image/png": "[encoded data removed]",
      "text/plain": [
       "<Figure size 432x288 with 1 Axes>"
      ]
     },
     "metadata": {},
     "output_type": "display_data"
    }
   ],
   "source": [
    "plt.hist(df['log_price'], 20)\n",
    "plt.title('Histogram of log_price')\n",
    "plt.show()\n",
    "\n",
    "sns.boxplot(df['log_price'])\n",
    "plt.title('Boxplot of log_price')\n",
    "plt.show()"
   ]
  },
  {
   "cell_type": "code",
   "execution_count": 56,
   "metadata": {},
   "outputs": [
    {
     "name": "stdout",
     "output_type": "stream",
     "text": [
      "Q1 = 4.317488114, Q3 = 5.220355825, 4*IQR = 3.611470844000003\n"
     ]
    },
    {
     "data": {
      "text/plain": [
       "11632    0.0\n",
       "Name: log_price, dtype: float64"
      ]
     },
     "execution_count": 56,
     "metadata": {},
     "output_type": "execute_result"
    }
   ],
   "source": [
    "quartiles = np.quantile(df['log_price'][df['log_price'].notnull()], [.25, .75])\n",
    "log_price_4iqr = 4 * (quartiles[1] - quartiles[0])\n",
    "print(f'Q1 = {quartiles[0]}, Q3 = {quartiles[1]}, 4*IQR = {log_price_4iqr}')\n",
    "outlier_log_price = df.loc[np.abs(df['log_price'] - df['log_price'].median()) > log_price_4iqr, 'log_price']\n",
    "outlier_log_price"
   ]
  },
  {
   "cell_type": "code",
   "execution_count": 57,
   "metadata": {},
   "outputs": [],
   "source": [
    "df.drop(outlier_log_price.index, axis=0, inplace=True)"
   ]
  },
  {
   "cell_type": "markdown",
   "metadata": {},
   "source": [
    "##### Treatment for review_scores_rating"
   ]
  },
  {
   "cell_type": "code",
   "execution_count": 58,
   "metadata": {},
   "outputs": [
    {
     "name": "stdout",
     "output_type": "stream",
     "text": [
      "0.05\n",
      "0.132\n"
     ]
    }
   ],
   "source": [
    "def frac_outside_1pt5_IQR(x):\n",
    "    length = 1.5 * np.diff(np.quantile(x, [.25, .75]))\n",
    "    return np.mean(np.abs(x - np.median(x)) > length)\n",
    "\n",
    "print(frac_outside_1pt5_IQR(x1))\n",
    "print(frac_outside_1pt5_IQR(x2))"
   ]
  },
  {
   "cell_type": "code",
   "execution_count": 59,
   "metadata": {},
   "outputs": [
    {
     "data": {
      "image/png": "[encoded data removed]",
      "text/plain": [
       "<Figure size 432x288 with 1 Axes>"
      ]
     },
     "metadata": {},
     "output_type": "display_data"
    },
    {
     "name": "stderr",
     "output_type": "stream",
     "text": [
      "C:\\Users\\robby\\anaconda3\\lib\\site-packages\\seaborn\\_decorators.py:36: FutureWarning: Pass the following variable as a keyword arg: x. From version 0.12, the only valid positional argument will be `data`, and passing other arguments without an explicit keyword will result in an error or misinterpretation.\n",
      "  warnings.warn(\n"
     ]
    },
    {
     "data": {
      "image/png": "[encoded data removed]",
      "text/plain": [
       "<Figure size 432x288 with 1 Axes>"
      ]
     },
     "metadata": {},
     "output_type": "display_data"
    }
   ],
   "source": [
    "plt.hist(df['review_scores_rating'], 20)\n",
    "plt.title('Histogram of review_scores_rating')\n",
    "plt.show()\n",
    "\n",
    "sns.boxplot(df['review_scores_rating'])\n",
    "plt.title('Boxplot of review_scores_rating')\n",
    "plt.show()"
   ]
  },
  {
   "cell_type": "code",
   "execution_count": 60,
   "metadata": {},
   "outputs": [
    {
     "name": "stdout",
     "output_type": "stream",
     "text": [
      "Q1 = 80.0, Q3 = 99.0, 4*IQR = 76.0\n"
     ]
    },
    {
     "data": {
      "text/plain": [
       "Series([], Name: review_scores_rating, dtype: float64)"
      ]
     },
     "execution_count": 60,
     "metadata": {},
     "output_type": "execute_result"
    }
   ],
   "source": [
    "quartiles = np.quantile(df['review_scores_rating'][df['review_scores_rating'].notnull()], [.25, .75])\n",
    "review_scores_rating_4iqr = 4 * (quartiles[1] - quartiles[0])\n",
    "print(f'Q1 = {quartiles[0]}, Q3 = {quartiles[1]}, 4*IQR = {review_scores_rating_4iqr}')\n",
    "outlier_review_scores_rating = df.loc[np.abs(df['review_scores_rating'] - df['review_scores_rating'].median()) > review_scores_rating_4iqr, 'review_scores_rating']\n",
    "outlier_review_scores_rating"
   ]
  },
  {
   "cell_type": "code",
   "execution_count": 61,
   "metadata": {},
   "outputs": [],
   "source": [
    "df.drop(outlier_review_scores_rating.index, axis=0, inplace=True)"
   ]
  },
  {
   "cell_type": "markdown",
   "metadata": {},
   "source": [
    "##### Treatment for accommodates"
   ]
  },
  {
   "cell_type": "code",
   "execution_count": 62,
   "metadata": {},
   "outputs": [
    {
     "name": "stdout",
     "output_type": "stream",
     "text": [
      "0.05\n",
      "0.132\n"
     ]
    }
   ],
   "source": [
    "def frac_outside_1pt5_IQR(x):\n",
    "    length = 1.5 * np.diff(np.quantile(x, [.25, .75]))\n",
    "    return np.mean(np.abs(x - np.median(x)) > length)\n",
    "\n",
    "print(frac_outside_1pt5_IQR(x1))\n",
    "print(frac_outside_1pt5_IQR(x2))"
   ]
  },
  {
   "cell_type": "code",
   "execution_count": 63,
   "metadata": {},
   "outputs": [
    {
     "data": {
      "image/png": "[encoded data removed]",
      "text/plain": [
       "<Figure size 432x288 with 1 Axes>"
      ]
     },
     "metadata": {},
     "output_type": "display_data"
    },
    {
     "name": "stderr",
     "output_type": "stream",
     "text": [
      "C:\\Users\\robby\\anaconda3\\lib\\site-packages\\seaborn\\_decorators.py:36: FutureWarning: Pass the following variable as a keyword arg: x. From version 0.12, the only valid positional argument will be `data`, and passing other arguments without an explicit keyword will result in an error or misinterpretation.\n",
      "  warnings.warn(\n"
     ]
    },
    {
     "data": {
      "image/png": "[encoded data removed]",
      "text/plain": [
       "<Figure size 432x288 with 1 Axes>"
      ]
     },
     "metadata": {},
     "output_type": "display_data"
    }
   ],
   "source": [
    "plt.hist(df['accommodates'], 20)\n",
    "plt.title('Histogram of accommodates')\n",
    "plt.show()\n",
    "\n",
    "sns.boxplot(df['accommodates'])\n",
    "plt.title('Boxplot of accommodates')\n",
    "plt.show()"
   ]
  },
  {
   "cell_type": "code",
   "execution_count": 64,
   "metadata": {},
   "outputs": [
    {
     "name": "stdout",
     "output_type": "stream",
     "text": [
      "Q1 = 2.0, Q3 = 4.0, 4*IQR = 8.0\n"
     ]
    },
    {
     "data": {
      "text/plain": [
       "306      16.0\n",
       "457      16.0\n",
       "482      11.0\n",
       "569      16.0\n",
       "642      12.0\n",
       "         ... \n",
       "73669    12.0\n",
       "73695    12.0\n",
       "73957    14.0\n",
       "73980    15.0\n",
       "74081    16.0\n",
       "Name: accommodates, Length: 838, dtype: float64"
      ]
     },
     "execution_count": 64,
     "metadata": {},
     "output_type": "execute_result"
    }
   ],
   "source": [
    "quartiles = np.quantile(df['accommodates'][df['accommodates'].notnull()], [.25, .75])\n",
    "accommodates_4iqr = 4 * (quartiles[1] - quartiles[0])\n",
    "print(f'Q1 = {quartiles[0]}, Q3 = {quartiles[1]}, 4*IQR = {accommodates_4iqr}')\n",
    "outlier_accommodates = df.loc[np.abs(df['accommodates'] - df['accommodates'].median()) > accommodates_4iqr, 'accommodates']\n",
    "outlier_accommodates"
   ]
  },
  {
   "cell_type": "code",
   "execution_count": 65,
   "metadata": {},
   "outputs": [],
   "source": [
    "df.drop(outlier_accommodates.index, axis=0, inplace=True)"
   ]
  },
  {
   "cell_type": "markdown",
   "metadata": {},
   "source": [
    "##### Treatment for beds"
   ]
  },
  {
   "cell_type": "code",
   "execution_count": 66,
   "metadata": {},
   "outputs": [
    {
     "name": "stdout",
     "output_type": "stream",
     "text": [
      "0.05\n",
      "0.132\n"
     ]
    }
   ],
   "source": [
    "def frac_outside_1pt5_IQR(x):\n",
    "    length = 1.5 * np.diff(np.quantile(x, [.25, .75]))\n",
    "    return np.mean(np.abs(x - np.median(x)) > length)\n",
    "\n",
    "print(frac_outside_1pt5_IQR(x1))\n",
    "print(frac_outside_1pt5_IQR(x2))"
   ]
  },
  {
   "cell_type": "code",
   "execution_count": 67,
   "metadata": {},
   "outputs": [
    {
     "data": {
      "image/png": "[encoded data removed]",
      "text/plain": [
       "<Figure size 432x288 with 1 Axes>"
      ]
     },
     "metadata": {},
     "output_type": "display_data"
    },
    {
     "name": "stderr",
     "output_type": "stream",
     "text": [
      "C:\\Users\\robby\\anaconda3\\lib\\site-packages\\seaborn\\_decorators.py:36: FutureWarning: Pass the following variable as a keyword arg: x. From version 0.12, the only valid positional argument will be `data`, and passing other arguments without an explicit keyword will result in an error or misinterpretation.\n",
      "  warnings.warn(\n"
     ]
    },
    {
     "data": {
      "image/png": "[encoded data removed]",
      "text/plain": [
       "<Figure size 432x288 with 1 Axes>"
      ]
     },
     "metadata": {},
     "output_type": "display_data"
    }
   ],
   "source": [
    "plt.hist(df['beds'], 20)\n",
    "plt.title('Histogram of beds')\n",
    "plt.show()\n",
    "\n",
    "sns.boxplot(df['beds'])\n",
    "plt.title('Boxplot of beds')\n",
    "plt.show()"
   ]
  },
  {
   "cell_type": "code",
   "execution_count": 68,
   "metadata": {},
   "outputs": [
    {
     "name": "stdout",
     "output_type": "stream",
     "text": [
      "Q1 = 1.0, Q3 = 2.0, 4*IQR = 4.0\n"
     ]
    },
    {
     "data": {
      "text/plain": [
       "42        7.0\n",
       "81        6.0\n",
       "547       6.0\n",
       "756       8.0\n",
       "798       6.0\n",
       "         ... \n",
       "73768     6.0\n",
       "73804     6.0\n",
       "73842     7.0\n",
       "73899     6.0\n",
       "74102    10.0\n",
       "Name: beds, Length: 781, dtype: float64"
      ]
     },
     "execution_count": 68,
     "metadata": {},
     "output_type": "execute_result"
    }
   ],
   "source": [
    "quartiles = np.quantile(df['beds'][df['beds'].notnull()], [.25, .75])\n",
    "beds_4iqr = 4 * (quartiles[1] - quartiles[0])\n",
    "print(f'Q1 = {quartiles[0]}, Q3 = {quartiles[1]}, 4*IQR = {beds_4iqr}')\n",
    "outlier_beds = df.loc[np.abs(df['beds'] - df['beds'].median()) > beds_4iqr, 'beds']\n",
    "outlier_beds"
   ]
  },
  {
   "cell_type": "code",
   "execution_count": 69,
   "metadata": {},
   "outputs": [],
   "source": [
    "df.drop(outlier_beds.index, axis=0, inplace=True)"
   ]
  },
  {
   "cell_type": "markdown",
   "metadata": {},
   "source": [
    "* There are lower outliers in log_price, review_scores_rating,\n",
    "* There are higher outliers in beds,bedrooms,bathrooms, accommodates\n",
    "* Using the IQR we treated the outliers"
   ]
  },
  {
   "cell_type": "markdown",
   "metadata": {},
   "source": [
    "## Distributions"
   ]
  },
  {
   "cell_type": "code",
   "execution_count": 70,
   "metadata": {},
   "outputs": [
    {
     "data": {
      "text/plain": [
       "<AxesSubplot:xlabel='log_price', ylabel='Count'>"
      ]
     },
     "execution_count": 70,
     "metadata": {},
     "output_type": "execute_result"
    },
    {
     "data": {
      "image/png": "[encoded data removed]",
      "text/plain": [
       "<Figure size 432x288 with 1 Axes>"
      ]
     },
     "metadata": {},
     "output_type": "display_data"
    }
   ],
   "source": [
    "sns.histplot(df[\"log_price\"], kde=True)"
   ]
  },
  {
   "cell_type": "markdown",
   "metadata": {},
   "source": [
    "### Correlation between numeric Variables"
   ]
  },
  {
   "cell_type": "code",
   "execution_count": 71,
   "metadata": {},
   "outputs": [
    {
     "data": {
      "text/plain": [
       "<AxesSubplot:>"
      ]
     },
     "execution_count": 71,
     "metadata": {},
     "output_type": "execute_result"
    },
    {
     "data": {
      "image/png": "[encoded data removed]",
      "text/plain": [
       "<Figure size 864x504 with 2 Axes>"
      ]
     },
     "metadata": {},
     "output_type": "display_data"
    }
   ],
   "source": [
    "plt.figure(figsize=(12, 7))\n",
    "sns.heatmap(df.corr(), annot=True, cmap=\"coolwarm\")"
   ]
  },
  {
   "cell_type": "markdown",
   "metadata": {},
   "source": [
    "* As we can see there big Correlation between beds and accommodates, which makes sense because they need a bed to sleep.\n",
    "* Thier is also a Correlation between bedroom and beds."
   ]
  },
  {
   "cell_type": "markdown",
   "metadata": {},
   "source": [
    "# Linear Model Building"
   ]
  },
  {
   "cell_type": "markdown",
   "metadata": {},
   "source": [
    "### Define dependent variable"
   ]
  },
  {
   "cell_type": "code",
   "execution_count": 72,
   "metadata": {},
   "outputs": [
    {
     "name": "stdout",
     "output_type": "stream",
     "text": [
      "         id        room_type  bathrooms cancellation_policy cleaning_fee  \\\n",
      "0   6901257  Entire home/apt        1.0              strict         True   \n",
      "1   6304928  Entire home/apt        1.0              strict         True   \n",
      "2   7919400  Entire home/apt        1.0            moderate         True   \n",
      "3  13418779  Entire home/apt        1.0            flexible         True   \n",
      "4   3808709  Entire home/apt        1.0            moderate         True   \n",
      "\n",
      "  instant_bookable  review_scores_rating  bedrooms  beds  \n",
      "0            False                 100.0       1.0   1.0  \n",
      "1             True                  93.0       3.0   3.0  \n",
      "2             True                  92.0       1.0   3.0  \n",
      "3            False                  20.0       2.0   2.0  \n",
      "4             True                  40.0       0.0   1.0  \n",
      "   log_price\n",
      "0   5.010635\n",
      "1   5.129899\n",
      "2   4.976734\n",
      "3   6.620073\n",
      "4   4.744932\n"
     ]
    }
   ],
   "source": [
    "ind_vars = df.drop([\"accommodates\", \"log_price\"], axis=1)\n",
    "dep_var = df[[\"log_price\"]] \n",
    "\n",
    "print(ind_vars.head())\n",
    "print(dep_var.head())"
   ]
  },
  {
   "cell_type": "markdown",
   "metadata": {},
   "source": [
    "### Creating dummy variables"
   ]
  },
  {
   "cell_type": "code",
   "execution_count": 73,
   "metadata": {},
   "outputs": [
    {
     "data": {
      "text/html": [
       "<div>\n",
       "<style scoped>\n",
       "    .dataframe tbody tr th:only-of-type {\n",
       "        vertical-align: middle;\n",
       "    }\n",
       "\n",
       "    .dataframe tbody tr th {\n",
       "        vertical-align: top;\n",
       "    }\n",
       "\n",
       "    .dataframe thead th {\n",
       "        text-align: right;\n",
       "    }\n",
       "</style>\n",
       "<table border=\"1\" class=\"dataframe\">\n",
       "  <thead>\n",
       "    <tr style=\"text-align: right;\">\n",
       "      <th></th>\n",
       "      <th>id</th>\n",
       "      <th>bathrooms</th>\n",
       "      <th>review_scores_rating</th>\n",
       "      <th>bedrooms</th>\n",
       "      <th>beds</th>\n",
       "      <th>room_type_Private room</th>\n",
       "      <th>room_type_Shared room</th>\n",
       "      <th>cancellation_policy_moderate</th>\n",
       "      <th>cancellation_policy_strict</th>\n",
       "      <th>cleaning_fee_True</th>\n",
       "      <th>instant_bookable_True</th>\n",
       "    </tr>\n",
       "  </thead>\n",
       "  <tbody>\n",
       "    <tr>\n",
       "      <th>0</th>\n",
       "      <td>6901257</td>\n",
       "      <td>1.0</td>\n",
       "      <td>100.0</td>\n",
       "      <td>1.0</td>\n",
       "      <td>1.0</td>\n",
       "      <td>0</td>\n",
       "      <td>0</td>\n",
       "      <td>0</td>\n",
       "      <td>1</td>\n",
       "      <td>1</td>\n",
       "      <td>0</td>\n",
       "    </tr>\n",
       "    <tr>\n",
       "      <th>1</th>\n",
       "      <td>6304928</td>\n",
       "      <td>1.0</td>\n",
       "      <td>93.0</td>\n",
       "      <td>3.0</td>\n",
       "      <td>3.0</td>\n",
       "      <td>0</td>\n",
       "      <td>0</td>\n",
       "      <td>0</td>\n",
       "      <td>1</td>\n",
       "      <td>1</td>\n",
       "      <td>1</td>\n",
       "    </tr>\n",
       "    <tr>\n",
       "      <th>2</th>\n",
       "      <td>7919400</td>\n",
       "      <td>1.0</td>\n",
       "      <td>92.0</td>\n",
       "      <td>1.0</td>\n",
       "      <td>3.0</td>\n",
       "      <td>0</td>\n",
       "      <td>0</td>\n",
       "      <td>1</td>\n",
       "      <td>0</td>\n",
       "      <td>1</td>\n",
       "      <td>1</td>\n",
       "    </tr>\n",
       "    <tr>\n",
       "      <th>3</th>\n",
       "      <td>13418779</td>\n",
       "      <td>1.0</td>\n",
       "      <td>20.0</td>\n",
       "      <td>2.0</td>\n",
       "      <td>2.0</td>\n",
       "      <td>0</td>\n",
       "      <td>0</td>\n",
       "      <td>0</td>\n",
       "      <td>0</td>\n",
       "      <td>1</td>\n",
       "      <td>0</td>\n",
       "    </tr>\n",
       "    <tr>\n",
       "      <th>4</th>\n",
       "      <td>3808709</td>\n",
       "      <td>1.0</td>\n",
       "      <td>40.0</td>\n",
       "      <td>0.0</td>\n",
       "      <td>1.0</td>\n",
       "      <td>0</td>\n",
       "      <td>0</td>\n",
       "      <td>1</td>\n",
       "      <td>0</td>\n",
       "      <td>1</td>\n",
       "      <td>1</td>\n",
       "    </tr>\n",
       "  </tbody>\n",
       "</table>\n",
       "</div>"
      ],
      "text/plain": [
       "         id  bathrooms  review_scores_rating  bedrooms  beds  \\\n",
       "0   6901257        1.0                 100.0       1.0   1.0   \n",
       "1   6304928        1.0                  93.0       3.0   3.0   \n",
       "2   7919400        1.0                  92.0       1.0   3.0   \n",
       "3  13418779        1.0                  20.0       2.0   2.0   \n",
       "4   3808709        1.0                  40.0       0.0   1.0   \n",
       "\n",
       "   room_type_Private room  room_type_Shared room  \\\n",
       "0                       0                      0   \n",
       "1                       0                      0   \n",
       "2                       0                      0   \n",
       "3                       0                      0   \n",
       "4                       0                      0   \n",
       "\n",
       "   cancellation_policy_moderate  cancellation_policy_strict  \\\n",
       "0                             0                           1   \n",
       "1                             0                           1   \n",
       "2                             1                           0   \n",
       "3                             0                           0   \n",
       "4                             1                           0   \n",
       "\n",
       "   cleaning_fee_True  instant_bookable_True  \n",
       "0                  1                      0  \n",
       "1                  1                      1  \n",
       "2                  1                      1  \n",
       "3                  1                      0  \n",
       "4                  1                      1  "
      ]
     },
     "execution_count": 73,
     "metadata": {},
     "output_type": "execute_result"
    }
   ],
   "source": [
    "def encode_cat_vars(x):\n",
    "    x = pd.get_dummies(\n",
    "        x,\n",
    "        columns=x.select_dtypes(include=[\"object\", \"category\"]).columns.tolist(),\n",
    "        drop_first=True,\n",
    "    )\n",
    "    return x\n",
    "\n",
    "\n",
    "ind_vars_num = encode_cat_vars(ind_vars)\n",
    "ind_vars_num.head()"
   ]
  },
  {
   "cell_type": "markdown",
   "metadata": {},
   "source": [
    "### Split the data into train and test"
   ]
  },
  {
   "cell_type": "code",
   "execution_count": 74,
   "metadata": {},
   "outputs": [],
   "source": [
    "from sklearn.model_selection import train_test_split\n",
    "\n",
    "x_train, x_test, y_train, y_test = train_test_split(\n",
    "    ind_vars_num, dep_var, test_size=0.3, random_state=1\n",
    ")\n"
   ]
  },
  {
   "cell_type": "code",
   "execution_count": 75,
   "metadata": {},
   "outputs": [
    {
     "name": "stdout",
     "output_type": "stream",
     "text": [
      "Number of rows in train data = 50743\n",
      "Number of rows in train data = 21748\n"
     ]
    }
   ],
   "source": [
    "print(\"Number of rows in train data =\", x_train.shape[0])\n",
    "print(\"Number of rows in train data =\", x_test.shape[0])"
   ]
  },
  {
   "cell_type": "markdown",
   "metadata": {},
   "source": [
    "### Fitting a linear model"
   ]
  },
  {
   "cell_type": "code",
   "execution_count": 76,
   "metadata": {},
   "outputs": [
    {
     "data": {
      "text/plain": [
       "LinearRegression()"
      ]
     },
     "execution_count": 76,
     "metadata": {},
     "output_type": "execute_result"
    }
   ],
   "source": [
    "lin_reg_model = LinearRegression()\n",
    "lin_reg_model.fit(x_train,y_train)"
   ]
  },
  {
   "cell_type": "markdown",
   "metadata": {},
   "source": [
    "#### coefficients and intercept of the model"
   ]
  },
  {
   "cell_type": "code",
   "execution_count": 77,
   "metadata": {},
   "outputs": [
    {
     "data": {
      "text/html": [
       "<div>\n",
       "<style scoped>\n",
       "    .dataframe tbody tr th:only-of-type {\n",
       "        vertical-align: middle;\n",
       "    }\n",
       "\n",
       "    .dataframe tbody tr th {\n",
       "        vertical-align: top;\n",
       "    }\n",
       "\n",
       "    .dataframe thead th {\n",
       "        text-align: right;\n",
       "    }\n",
       "</style>\n",
       "<table border=\"1\" class=\"dataframe\">\n",
       "  <thead>\n",
       "    <tr style=\"text-align: right;\">\n",
       "      <th></th>\n",
       "      <th>Coefficients</th>\n",
       "    </tr>\n",
       "  </thead>\n",
       "  <tbody>\n",
       "    <tr>\n",
       "      <th>id</th>\n",
       "      <td>-5.058515e-11</td>\n",
       "    </tr>\n",
       "    <tr>\n",
       "      <th>bathrooms</th>\n",
       "      <td>1.572243e-01</td>\n",
       "    </tr>\n",
       "    <tr>\n",
       "      <th>review_scores_rating</th>\n",
       "      <td>-2.284615e-03</td>\n",
       "    </tr>\n",
       "    <tr>\n",
       "      <th>bedrooms</th>\n",
       "      <td>1.840101e-01</td>\n",
       "    </tr>\n",
       "    <tr>\n",
       "      <th>beds</th>\n",
       "      <td>5.669303e-02</td>\n",
       "    </tr>\n",
       "    <tr>\n",
       "      <th>room_type_Private room</th>\n",
       "      <td>-6.917522e-01</td>\n",
       "    </tr>\n",
       "    <tr>\n",
       "      <th>room_type_Shared room</th>\n",
       "      <td>-1.167033e+00</td>\n",
       "    </tr>\n",
       "    <tr>\n",
       "      <th>cancellation_policy_moderate</th>\n",
       "      <td>-1.467851e-02</td>\n",
       "    </tr>\n",
       "    <tr>\n",
       "      <th>cancellation_policy_strict</th>\n",
       "      <td>2.585779e-02</td>\n",
       "    </tr>\n",
       "    <tr>\n",
       "      <th>cleaning_fee_True</th>\n",
       "      <td>-3.240242e-02</td>\n",
       "    </tr>\n",
       "    <tr>\n",
       "      <th>instant_bookable_True</th>\n",
       "      <td>-5.234383e-02</td>\n",
       "    </tr>\n",
       "    <tr>\n",
       "      <th>Intercept</th>\n",
       "      <td>4.791142e+00</td>\n",
       "    </tr>\n",
       "  </tbody>\n",
       "</table>\n",
       "</div>"
      ],
      "text/plain": [
       "                              Coefficients\n",
       "id                           -5.058515e-11\n",
       "bathrooms                     1.572243e-01\n",
       "review_scores_rating         -2.284615e-03\n",
       "bedrooms                      1.840101e-01\n",
       "beds                          5.669303e-02\n",
       "room_type_Private room       -6.917522e-01\n",
       "room_type_Shared room        -1.167033e+00\n",
       "cancellation_policy_moderate -1.467851e-02\n",
       "cancellation_policy_strict    2.585779e-02\n",
       "cleaning_fee_True            -3.240242e-02\n",
       "instant_bookable_True        -5.234383e-02\n",
       "Intercept                     4.791142e+00"
      ]
     },
     "execution_count": 77,
     "metadata": {},
     "output_type": "execute_result"
    }
   ],
   "source": [
    "coef_df = pd.DataFrame(np.append(lin_reg_model.coef_.flatten(), lin_reg_model.intercept_), \\\n",
    "                       index=x_train.columns.tolist()+['Intercept'], columns=['Coefficients'])\n",
    "coef_df"
   ]
  },
  {
   "cell_type": "markdown",
   "metadata": {},
   "source": [
    "* bathrooms come out to be very signifcant, as expected. There are two variable -review_scores_rating and room_type_Private room. As these two increase, the total value of the rental decreases, as visible in the negative coefficient sign."
   ]
  },
  {
   "cell_type": "markdown",
   "metadata": {},
   "source": [
    "** The model performance on training data. **"
   ]
  },
  {
   "cell_type": "code",
   "execution_count": 78,
   "metadata": {},
   "outputs": [],
   "source": [
    "# MAPE\n",
    "def mape(targets, predictions):\n",
    "    return np.mean(np.abs((targets - predictions)) / targets) * 100\n",
    "\n",
    "# Adjusted R^2\n",
    "def adj_r2(ind_vars, targets, predictions):\n",
    "    r2 = r2_score(targets, predictions)\n",
    "    n = ind_vars.shape[0]\n",
    "    k = ind_vars.shape[1]\n",
    "    return 1-((1-r2)*(n-1)/(n-k-1))\n",
    "\n",
    "# Model performance check\n",
    "def model_perf(model, inp, out):\n",
    "\n",
    "    y_pred = np.exp(model.predict(inp))\n",
    "    y_act = np.exp(out.values)\n",
    "\n",
    "    return pd.DataFrame({\n",
    "                \"RMSE\": np.sqrt(mean_squared_error(y_act, y_pred)),\n",
    "                \"MAE\": mean_absolute_error(y_act, y_pred),\n",
    "                \"MAPE\": mape(y_act, y_pred),\n",
    "                \"R^2\": r2_score(y_act, y_pred),\n",
    "                \"Adjusted R^2\": adj_r2(inp, y_act, y_pred)\n",
    "           }, index=[0])"
   ]
  },
  {
   "cell_type": "code",
   "execution_count": 79,
   "metadata": {},
   "outputs": [
    {
     "name": "stdout",
     "output_type": "stream",
     "text": [
      "Training Performance\n",
      "\n",
      "        RMSE        MAE       MAPE       R^2  Adjusted R^2\n",
      "0  127.70605  61.123603  40.317897  0.320275      0.320128\n"
     ]
    }
   ],
   "source": [
    "# Checking model performance on train set\n",
    "print('Training Performance\\n')\n",
    "print(model_perf(lin_reg_model, x_train, y_train))"
   ]
  },
  {
   "cell_type": "code",
   "execution_count": 80,
   "metadata": {},
   "outputs": [
    {
     "name": "stdout",
     "output_type": "stream",
     "text": [
      "Test Performance\n",
      "\n",
      "         RMSE        MAE       MAPE      R^2  Adjusted R^2\n",
      "0  125.201455  60.265486  39.881862  0.34693        0.3466\n"
     ]
    }
   ],
   "source": [
    "# Checking model performance on test set\n",
    "print('Test Performance\\n')\n",
    "print(model_perf(lin_reg_model, x_test, y_test))"
   ]
  },
  {
   "cell_type": "markdown",
   "metadata": {},
   "source": [
    "* As our MEA has a high score  means we have bad proformance on our model\n",
    "* Since we have less samples it is harder to reconstruct the error distribution using RMSE which is the reason it is so high in our case.\n",
    "* Our R^2 is low and that is because our dataset or the data points are distributed with low variance and should be closer to 1 \n",
    "* Adjusted R-squared is low becuse we dont have many features and by that i mean the effective features to train our model.\n",
    "* I do think we need more features and better treatment of the ouliers to improve our score. "
   ]
  },
  {
   "cell_type": "markdown",
   "metadata": {},
   "source": [
    "### Forward Feature Selection"
   ]
  },
  {
   "cell_type": "code",
   "execution_count": 81,
   "metadata": {},
   "outputs": [
    {
     "name": "stderr",
     "output_type": "stream",
     "text": [
      "[Parallel(n_jobs=1)]: Using backend SequentialBackend with 1 concurrent workers.\n",
      "[Parallel(n_jobs=1)]: Done   1 out of   1 | elapsed:    0.0s remaining:    0.0s\n",
      "[Parallel(n_jobs=1)]: Done  11 out of  11 | elapsed:    0.2s finished\n",
      "\n",
      "[2021-05-26 20:38:13] Features: 1/11 -- score: 0.28365405922668196[Parallel(n_jobs=1)]: Using backend SequentialBackend with 1 concurrent workers.\n",
      "[Parallel(n_jobs=1)]: Done   1 out of   1 | elapsed:    0.0s remaining:    0.0s\n",
      "[Parallel(n_jobs=1)]: Done  10 out of  10 | elapsed:    0.2s finished\n",
      "\n",
      "[2021-05-26 20:38:13] Features: 2/11 -- score: 0.38643266290376593[Parallel(n_jobs=1)]: Using backend SequentialBackend with 1 concurrent workers.\n",
      "[Parallel(n_jobs=1)]: Done   1 out of   1 | elapsed:    0.0s remaining:    0.0s\n",
      "[Parallel(n_jobs=1)]: Done   9 out of   9 | elapsed:    0.2s finished\n",
      "\n",
      "[2021-05-26 20:38:14] Features: 3/11 -- score: 0.45630911159279036[Parallel(n_jobs=1)]: Using backend SequentialBackend with 1 concurrent workers.\n",
      "[Parallel(n_jobs=1)]: Done   1 out of   1 | elapsed:    0.0s remaining:    0.0s\n",
      "[Parallel(n_jobs=1)]: Done   8 out of   8 | elapsed:    0.2s finished\n",
      "\n",
      "[2021-05-26 20:38:14] Features: 4/11 -- score: 0.46767950398051594[Parallel(n_jobs=1)]: Using backend SequentialBackend with 1 concurrent workers.\n",
      "[Parallel(n_jobs=1)]: Done   1 out of   1 | elapsed:    0.0s remaining:    0.0s\n",
      "[Parallel(n_jobs=1)]: Done   7 out of   7 | elapsed:    0.2s finished\n",
      "\n",
      "[2021-05-26 20:38:14] Features: 5/11 -- score: 0.4784582092406165[Parallel(n_jobs=1)]: Using backend SequentialBackend with 1 concurrent workers.\n",
      "[Parallel(n_jobs=1)]: Done   1 out of   1 | elapsed:    0.0s remaining:    0.0s\n",
      "[Parallel(n_jobs=1)]: Done   6 out of   6 | elapsed:    0.1s finished\n",
      "\n",
      "[2021-05-26 20:38:14] Features: 6/11 -- score: 0.4807600314701398[Parallel(n_jobs=1)]: Using backend SequentialBackend with 1 concurrent workers.\n",
      "[Parallel(n_jobs=1)]: Done   1 out of   1 | elapsed:    0.0s remaining:    0.0s\n",
      "[Parallel(n_jobs=1)]: Done   5 out of   5 | elapsed:    0.1s finished\n",
      "\n",
      "[2021-05-26 20:38:15] Features: 7/11 -- score: 0.48181573164836405[Parallel(n_jobs=1)]: Using backend SequentialBackend with 1 concurrent workers.\n",
      "[Parallel(n_jobs=1)]: Done   1 out of   1 | elapsed:    0.0s remaining:    0.0s\n",
      "[Parallel(n_jobs=1)]: Done   4 out of   4 | elapsed:    0.1s finished\n",
      "\n",
      "[2021-05-26 20:38:15] Features: 8/11 -- score: 0.4822222367756397[Parallel(n_jobs=1)]: Using backend SequentialBackend with 1 concurrent workers.\n",
      "[Parallel(n_jobs=1)]: Done   1 out of   1 | elapsed:    0.0s remaining:    0.0s\n",
      "[Parallel(n_jobs=1)]: Done   3 out of   3 | elapsed:    0.1s finished\n",
      "\n",
      "[2021-05-26 20:38:15] Features: 9/11 -- score: 0.48244238242903903[Parallel(n_jobs=1)]: Using backend SequentialBackend with 1 concurrent workers.\n",
      "[Parallel(n_jobs=1)]: Done   1 out of   1 | elapsed:    0.0s remaining:    0.0s\n",
      "[Parallel(n_jobs=1)]: Done   2 out of   2 | elapsed:    0.0s finished\n",
      "\n",
      "[2021-05-26 20:38:15] Features: 10/11 -- score: 0.4826243607185773[Parallel(n_jobs=1)]: Using backend SequentialBackend with 1 concurrent workers.\n",
      "[Parallel(n_jobs=1)]: Done   1 out of   1 | elapsed:    0.0s remaining:    0.0s\n",
      "[Parallel(n_jobs=1)]: Done   1 out of   1 | elapsed:    0.0s finished\n",
      "\n",
      "[2021-05-26 20:38:15] Features: 11/11 -- score: 0.4826060026206628"
     ]
    }
   ],
   "source": [
    "from mlxtend.feature_selection import SequentialFeatureSelector as sfs\n",
    "\n",
    "reg = LinearRegression()\n",
    "\n",
    "# Build step forward feature selection\n",
    "sfs1 = sfs(reg,k_features = x_train.shape[1], forward=True,   # k_features denotes \"Number of features to select\"\n",
    "           floating=False, scoring= 'r2',\n",
    "           verbose=2, cv=5)\n",
    "\n",
    "# Perform SFFS\n",
    "sfs1 = sfs1.fit(x_train, y_train)"
   ]
  },
  {
   "cell_type": "code",
   "execution_count": 82,
   "metadata": {},
   "outputs": [
    {
     "name": "stderr",
     "output_type": "stream",
     "text": [
      "[Parallel(n_jobs=1)]: Using backend SequentialBackend with 1 concurrent workers.\n",
      "[Parallel(n_jobs=1)]: Done   1 out of   1 | elapsed:    0.0s remaining:    0.0s\n",
      "[Parallel(n_jobs=1)]: Done  11 out of  11 | elapsed:    0.1s finished\n",
      "\n",
      "[2021-05-26 20:38:15] Features: 1/11 -- score: 0.28365405922668196[Parallel(n_jobs=1)]: Using backend SequentialBackend with 1 concurrent workers.\n",
      "[Parallel(n_jobs=1)]: Done   1 out of   1 | elapsed:    0.0s remaining:    0.0s\n",
      "[Parallel(n_jobs=1)]: Done  10 out of  10 | elapsed:    0.2s finished\n",
      "\n",
      "[2021-05-26 20:38:16] Features: 2/11 -- score: 0.38643266290376593[Parallel(n_jobs=1)]: Using backend SequentialBackend with 1 concurrent workers.\n",
      "[Parallel(n_jobs=1)]: Done   1 out of   1 | elapsed:    0.0s remaining:    0.0s\n",
      "[Parallel(n_jobs=1)]: Done   9 out of   9 | elapsed:    0.2s finished\n",
      "\n",
      "[2021-05-26 20:38:16] Features: 3/11 -- score: 0.45630911159279036[Parallel(n_jobs=1)]: Using backend SequentialBackend with 1 concurrent workers.\n",
      "[Parallel(n_jobs=1)]: Done   1 out of   1 | elapsed:    0.0s remaining:    0.0s\n",
      "[Parallel(n_jobs=1)]: Done   8 out of   8 | elapsed:    0.2s finished\n",
      "\n",
      "[2021-05-26 20:38:16] Features: 4/11 -- score: 0.46767950398051594[Parallel(n_jobs=1)]: Using backend SequentialBackend with 1 concurrent workers.\n",
      "[Parallel(n_jobs=1)]: Done   1 out of   1 | elapsed:    0.0s remaining:    0.0s\n",
      "[Parallel(n_jobs=1)]: Done   7 out of   7 | elapsed:    0.2s finished\n",
      "\n",
      "[2021-05-26 20:38:17] Features: 5/11 -- score: 0.4784582092406165[Parallel(n_jobs=1)]: Using backend SequentialBackend with 1 concurrent workers.\n",
      "[Parallel(n_jobs=1)]: Done   1 out of   1 | elapsed:    0.0s remaining:    0.0s\n",
      "[Parallel(n_jobs=1)]: Done   6 out of   6 | elapsed:    0.2s finished\n",
      "\n",
      "[2021-05-26 20:38:17] Features: 6/11 -- score: 0.4807600314701398[Parallel(n_jobs=1)]: Using backend SequentialBackend with 1 concurrent workers.\n",
      "[Parallel(n_jobs=1)]: Done   1 out of   1 | elapsed:    0.0s remaining:    0.0s\n",
      "[Parallel(n_jobs=1)]: Done   5 out of   5 | elapsed:    0.2s finished\n",
      "\n",
      "[2021-05-26 20:38:17] Features: 7/11 -- score: 0.48181573164836405[Parallel(n_jobs=1)]: Using backend SequentialBackend with 1 concurrent workers.\n",
      "[Parallel(n_jobs=1)]: Done   1 out of   1 | elapsed:    0.0s remaining:    0.0s\n",
      "[Parallel(n_jobs=1)]: Done   4 out of   4 | elapsed:    0.1s finished\n",
      "\n",
      "[2021-05-26 20:38:17] Features: 8/11 -- score: 0.4822222367756397[Parallel(n_jobs=1)]: Using backend SequentialBackend with 1 concurrent workers.\n",
      "[Parallel(n_jobs=1)]: Done   1 out of   1 | elapsed:    0.0s remaining:    0.0s\n",
      "[Parallel(n_jobs=1)]: Done   3 out of   3 | elapsed:    0.1s finished\n",
      "\n",
      "[2021-05-26 20:38:17] Features: 9/11 -- score: 0.48244238242903903[Parallel(n_jobs=1)]: Using backend SequentialBackend with 1 concurrent workers.\n",
      "[Parallel(n_jobs=1)]: Done   1 out of   1 | elapsed:    0.0s remaining:    0.0s\n",
      "[Parallel(n_jobs=1)]: Done   2 out of   2 | elapsed:    0.0s finished\n",
      "\n",
      "[2021-05-26 20:38:18] Features: 10/11 -- score: 0.4826243607185773[Parallel(n_jobs=1)]: Using backend SequentialBackend with 1 concurrent workers.\n",
      "[Parallel(n_jobs=1)]: Done   1 out of   1 | elapsed:    0.0s remaining:    0.0s\n",
      "[Parallel(n_jobs=1)]: Done   1 out of   1 | elapsed:    0.0s finished\n",
      "\n",
      "[2021-05-26 20:38:18] Features: 11/11 -- score: 0.4826060026206628"
     ]
    }
   ],
   "source": [
    "reg = LinearRegression()\n",
    "\n",
    "# # Build step forward feature selection\n",
    "sfs1 = sfs(reg, k_features = 11, forward=True,\n",
    "           floating=False, scoring='r2',\n",
    "           verbose=2, cv=5)\n",
    "\n",
    "# Perform SFFS\n",
    "sfs1 = sfs1.fit(x_train, y_train)"
   ]
  },
  {
   "cell_type": "code",
   "execution_count": 83,
   "metadata": {},
   "outputs": [
    {
     "name": "stdout",
     "output_type": "stream",
     "text": [
      "[0, 1, 2, 3, 4, 5, 6, 7, 8, 9, 10]\n"
     ]
    }
   ],
   "source": [
    "feat_cols = list(sfs1.k_feature_idx_)\n",
    "print(feat_cols)"
   ]
  },
  {
   "cell_type": "code",
   "execution_count": 84,
   "metadata": {},
   "outputs": [
    {
     "data": {
      "text/plain": [
       "Index(['id', 'bathrooms', 'review_scores_rating', 'bedrooms', 'beds',\n",
       "       'room_type_Private room', 'room_type_Shared room',\n",
       "       'cancellation_policy_moderate', 'cancellation_policy_strict',\n",
       "       'cleaning_fee_True', 'instant_bookable_True'],\n",
       "      dtype='object')"
      ]
     },
     "execution_count": 84,
     "metadata": {},
     "output_type": "execute_result"
    }
   ],
   "source": [
    "x_train.columns[feat_cols]"
   ]
  },
  {
   "cell_type": "code",
   "execution_count": 85,
   "metadata": {},
   "outputs": [],
   "source": [
    "x_train2 = x_train[x_train.columns[feat_cols]]"
   ]
  },
  {
   "cell_type": "code",
   "execution_count": 86,
   "metadata": {},
   "outputs": [
    {
     "data": {
      "text/plain": [
       "Index(['id', 'bathrooms', 'review_scores_rating', 'bedrooms', 'beds',\n",
       "       'room_type_Private room', 'room_type_Shared room',\n",
       "       'cancellation_policy_moderate', 'cancellation_policy_strict',\n",
       "       'cleaning_fee_True', 'instant_bookable_True'],\n",
       "      dtype='object')"
      ]
     },
     "execution_count": 86,
     "metadata": {},
     "output_type": "execute_result"
    }
   ],
   "source": [
    "x_test.columns"
   ]
  },
  {
   "cell_type": "code",
   "execution_count": 87,
   "metadata": {},
   "outputs": [],
   "source": [
    "#Creating new x_test with the same 11 variables that we selected for x_train\n",
    "x_test2 = x_test[x_train2.columns]"
   ]
  },
  {
   "cell_type": "code",
   "execution_count": 88,
   "metadata": {},
   "outputs": [
    {
     "name": "stdout",
     "output_type": "stream",
     "text": [
      "                              Coefficients\n",
      "id                           -5.058515e-11\n",
      "bathrooms                     1.572243e-01\n",
      "review_scores_rating         -2.284615e-03\n",
      "bedrooms                      1.840101e-01\n",
      "beds                          5.669303e-02\n",
      "room_type_Private room       -6.917522e-01\n",
      "room_type_Shared room        -1.167033e+00\n",
      "cancellation_policy_moderate -1.467851e-02\n",
      "cancellation_policy_strict    2.585779e-02\n",
      "cleaning_fee_True            -3.240242e-02\n",
      "instant_bookable_True        -5.234383e-02\n",
      "Intercept                     4.791142e+00\n",
      "\n",
      "\n",
      "Training Performance\n",
      "\n",
      "        RMSE        MAE       MAPE       R^2  Adjusted R^2\n",
      "0  127.70605  61.123603  40.317897  0.320275      0.320128\n",
      "\n",
      "\n",
      "Test Performance\n",
      "\n",
      "         RMSE        MAE       MAPE      R^2  Adjusted R^2\n",
      "0  125.201455  60.265486  39.881862  0.34693        0.3466\n"
     ]
    }
   ],
   "source": [
    "#Fitting linear model\n",
    "lin_reg_model2 = LinearRegression()\n",
    "lin_reg_model2.fit(x_train2,y_train)\n",
    "\n",
    "# let us check the coefficients and intercept of the model\n",
    "\n",
    "coef_df = pd.DataFrame(np.append(lin_reg_model2.coef_.flatten(), lin_reg_model2.intercept_.flatten()), \\\n",
    "                       index=x_train2.columns.tolist()+['Intercept'], columns=['Coefficients'])\n",
    "print(coef_df)\n",
    "\n",
    "# model performance on train set\n",
    "print('\\n\\nTraining Performance\\n')\n",
    "print(model_perf(lin_reg_model2, x_train2, y_train))\n",
    "\n",
    "# model performance on test set\n",
    "print('\\n\\nTest Performance\\n')\n",
    "print(model_perf(lin_reg_model2, x_test2, y_test))"
   ]
  },
  {
   "cell_type": "markdown",
   "metadata": {},
   "source": [
    "### Analysing predictions where we were way off the mark"
   ]
  },
  {
   "cell_type": "code",
   "execution_count": 89,
   "metadata": {},
   "outputs": [
    {
     "data": {
      "text/html": [
       "<div>\n",
       "<style scoped>\n",
       "    .dataframe tbody tr th:only-of-type {\n",
       "        vertical-align: middle;\n",
       "    }\n",
       "\n",
       "    .dataframe tbody tr th {\n",
       "        vertical-align: top;\n",
       "    }\n",
       "\n",
       "    .dataframe thead th {\n",
       "        text-align: right;\n",
       "    }\n",
       "</style>\n",
       "<table border=\"1\" class=\"dataframe\">\n",
       "  <thead>\n",
       "    <tr style=\"text-align: right;\">\n",
       "      <th></th>\n",
       "      <th>id</th>\n",
       "      <th>room_type</th>\n",
       "      <th>accommodates</th>\n",
       "      <th>bathrooms</th>\n",
       "      <th>cancellation_policy</th>\n",
       "      <th>cleaning_fee</th>\n",
       "      <th>instant_bookable</th>\n",
       "      <th>review_scores_rating</th>\n",
       "      <th>bedrooms</th>\n",
       "      <th>beds</th>\n",
       "      <th>log_price</th>\n",
       "      <th>Predicted log_price</th>\n",
       "      <th>Predicted accommodates</th>\n",
       "      <th>residuals</th>\n",
       "      <th>Abs_residuals</th>\n",
       "      <th>Difference log_price</th>\n",
       "    </tr>\n",
       "  </thead>\n",
       "  <tbody>\n",
       "    <tr>\n",
       "      <th>26621</th>\n",
       "      <td>15257293</td>\n",
       "      <td>Entire home/apt</td>\n",
       "      <td>4.0</td>\n",
       "      <td>2.0</td>\n",
       "      <td>strict</td>\n",
       "      <td>True</td>\n",
       "      <td>False</td>\n",
       "      <td>92.0</td>\n",
       "      <td>2.0</td>\n",
       "      <td>2.0</td>\n",
       "      <td>6.204558</td>\n",
       "      <td>6.937793</td>\n",
       "      <td>1030.493892</td>\n",
       "      <td>-0.835062</td>\n",
       "      <td>0.433848</td>\n",
       "      <td>1026.493892</td>\n",
       "    </tr>\n",
       "    <tr>\n",
       "      <th>46475</th>\n",
       "      <td>12591975</td>\n",
       "      <td>Entire home/apt</td>\n",
       "      <td>2.0</td>\n",
       "      <td>1.0</td>\n",
       "      <td>strict</td>\n",
       "      <td>False</td>\n",
       "      <td>False</td>\n",
       "      <td>100.0</td>\n",
       "      <td>0.0</td>\n",
       "      <td>1.0</td>\n",
       "      <td>4.094345</td>\n",
       "      <td>6.890384</td>\n",
       "      <td>982.778966</td>\n",
       "      <td>0.707474</td>\n",
       "      <td>2.028860</td>\n",
       "      <td>980.778966</td>\n",
       "    </tr>\n",
       "    <tr>\n",
       "      <th>54102</th>\n",
       "      <td>15769333</td>\n",
       "      <td>Entire home/apt</td>\n",
       "      <td>6.0</td>\n",
       "      <td>2.0</td>\n",
       "      <td>strict</td>\n",
       "      <td>True</td>\n",
       "      <td>True</td>\n",
       "      <td>92.0</td>\n",
       "      <td>2.0</td>\n",
       "      <td>2.0</td>\n",
       "      <td>5.517453</td>\n",
       "      <td>6.833121</td>\n",
       "      <td>928.082581</td>\n",
       "      <td>-0.200327</td>\n",
       "      <td>0.818463</td>\n",
       "      <td>922.082581</td>\n",
       "    </tr>\n",
       "    <tr>\n",
       "      <th>3052</th>\n",
       "      <td>7651400</td>\n",
       "      <td>Private room</td>\n",
       "      <td>5.0</td>\n",
       "      <td>1.0</td>\n",
       "      <td>strict</td>\n",
       "      <td>True</td>\n",
       "      <td>False</td>\n",
       "      <td>91.0</td>\n",
       "      <td>1.0</td>\n",
       "      <td>2.0</td>\n",
       "      <td>5.541264</td>\n",
       "      <td>6.780460</td>\n",
       "      <td>880.473283</td>\n",
       "      <td>-1.202085</td>\n",
       "      <td>0.300567</td>\n",
       "      <td>875.473283</td>\n",
       "    </tr>\n",
       "    <tr>\n",
       "      <th>67431</th>\n",
       "      <td>19117185</td>\n",
       "      <td>Private room</td>\n",
       "      <td>3.0</td>\n",
       "      <td>1.5</td>\n",
       "      <td>strict</td>\n",
       "      <td>True</td>\n",
       "      <td>True</td>\n",
       "      <td>98.0</td>\n",
       "      <td>1.0</td>\n",
       "      <td>1.0</td>\n",
       "      <td>4.595120</td>\n",
       "      <td>6.754143</td>\n",
       "      <td>857.604622</td>\n",
       "      <td>-0.302938</td>\n",
       "      <td>0.738645</td>\n",
       "      <td>854.604622</td>\n",
       "    </tr>\n",
       "    <tr>\n",
       "      <th>70100</th>\n",
       "      <td>128036</td>\n",
       "      <td>Shared room</td>\n",
       "      <td>1.0</td>\n",
       "      <td>1.0</td>\n",
       "      <td>strict</td>\n",
       "      <td>True</td>\n",
       "      <td>False</td>\n",
       "      <td>80.0</td>\n",
       "      <td>1.0</td>\n",
       "      <td>1.0</td>\n",
       "      <td>2.995732</td>\n",
       "      <td>6.734747</td>\n",
       "      <td>841.130936</td>\n",
       "      <td>0.836984</td>\n",
       "      <td>2.309391</td>\n",
       "      <td>840.130936</td>\n",
       "    </tr>\n",
       "    <tr>\n",
       "      <th>12091</th>\n",
       "      <td>12760402</td>\n",
       "      <td>Private room</td>\n",
       "      <td>2.0</td>\n",
       "      <td>2.0</td>\n",
       "      <td>moderate</td>\n",
       "      <td>True</td>\n",
       "      <td>False</td>\n",
       "      <td>100.0</td>\n",
       "      <td>1.0</td>\n",
       "      <td>2.0</td>\n",
       "      <td>3.663562</td>\n",
       "      <td>6.649535</td>\n",
       "      <td>772.425092</td>\n",
       "      <td>0.771485</td>\n",
       "      <td>2.162976</td>\n",
       "      <td>770.425092</td>\n",
       "    </tr>\n",
       "    <tr>\n",
       "      <th>23518</th>\n",
       "      <td>782063</td>\n",
       "      <td>Private room</td>\n",
       "      <td>3.0</td>\n",
       "      <td>1.5</td>\n",
       "      <td>strict</td>\n",
       "      <td>True</td>\n",
       "      <td>True</td>\n",
       "      <td>94.0</td>\n",
       "      <td>1.0</td>\n",
       "      <td>1.0</td>\n",
       "      <td>4.234107</td>\n",
       "      <td>6.649722</td>\n",
       "      <td>772.569275</td>\n",
       "      <td>0.068141</td>\n",
       "      <td>1.070516</td>\n",
       "      <td>769.569275</td>\n",
       "    </tr>\n",
       "    <tr>\n",
       "      <th>27693</th>\n",
       "      <td>16052733</td>\n",
       "      <td>Private room</td>\n",
       "      <td>2.0</td>\n",
       "      <td>1.0</td>\n",
       "      <td>strict</td>\n",
       "      <td>True</td>\n",
       "      <td>False</td>\n",
       "      <td>100.0</td>\n",
       "      <td>1.0</td>\n",
       "      <td>3.0</td>\n",
       "      <td>5.209486</td>\n",
       "      <td>6.647775</td>\n",
       "      <td>771.066567</td>\n",
       "      <td>-0.834601</td>\n",
       "      <td>0.434048</td>\n",
       "      <td>769.066567</td>\n",
       "    </tr>\n",
       "    <tr>\n",
       "      <th>45888</th>\n",
       "      <td>13345384</td>\n",
       "      <td>Entire home/apt</td>\n",
       "      <td>6.0</td>\n",
       "      <td>1.0</td>\n",
       "      <td>flexible</td>\n",
       "      <td>False</td>\n",
       "      <td>True</td>\n",
       "      <td>20.0</td>\n",
       "      <td>2.0</td>\n",
       "      <td>3.0</td>\n",
       "      <td>6.040255</td>\n",
       "      <td>6.649075</td>\n",
       "      <td>772.069561</td>\n",
       "      <td>-0.652500</td>\n",
       "      <td>0.520742</td>\n",
       "      <td>766.069561</td>\n",
       "    </tr>\n",
       "    <tr>\n",
       "      <th>44846</th>\n",
       "      <td>18476381</td>\n",
       "      <td>Shared room</td>\n",
       "      <td>2.0</td>\n",
       "      <td>1.0</td>\n",
       "      <td>strict</td>\n",
       "      <td>True</td>\n",
       "      <td>False</td>\n",
       "      <td>20.0</td>\n",
       "      <td>1.0</td>\n",
       "      <td>2.0</td>\n",
       "      <td>3.401197</td>\n",
       "      <td>6.602792</td>\n",
       "      <td>737.150117</td>\n",
       "      <td>0.624361</td>\n",
       "      <td>1.867052</td>\n",
       "      <td>735.150117</td>\n",
       "    </tr>\n",
       "    <tr>\n",
       "      <th>23246</th>\n",
       "      <td>8055582</td>\n",
       "      <td>Private room</td>\n",
       "      <td>5.0</td>\n",
       "      <td>1.0</td>\n",
       "      <td>strict</td>\n",
       "      <td>True</td>\n",
       "      <td>False</td>\n",
       "      <td>89.0</td>\n",
       "      <td>1.0</td>\n",
       "      <td>2.0</td>\n",
       "      <td>4.317488</td>\n",
       "      <td>6.603275</td>\n",
       "      <td>737.506873</td>\n",
       "      <td>0.026239</td>\n",
       "      <td>1.026587</td>\n",
       "      <td>732.506873</td>\n",
       "    </tr>\n",
       "    <tr>\n",
       "      <th>49746</th>\n",
       "      <td>20234018</td>\n",
       "      <td>Private room</td>\n",
       "      <td>1.0</td>\n",
       "      <td>1.0</td>\n",
       "      <td>strict</td>\n",
       "      <td>False</td>\n",
       "      <td>False</td>\n",
       "      <td>20.0</td>\n",
       "      <td>1.0</td>\n",
       "      <td>1.0</td>\n",
       "      <td>5.298317</td>\n",
       "      <td>6.597708</td>\n",
       "      <td>733.412031</td>\n",
       "      <td>-0.821858</td>\n",
       "      <td>0.439614</td>\n",
       "      <td>732.412031</td>\n",
       "    </tr>\n",
       "    <tr>\n",
       "      <th>672</th>\n",
       "      <td>8405551</td>\n",
       "      <td>Entire home/apt</td>\n",
       "      <td>5.0</td>\n",
       "      <td>1.0</td>\n",
       "      <td>strict</td>\n",
       "      <td>True</td>\n",
       "      <td>False</td>\n",
       "      <td>92.0</td>\n",
       "      <td>3.0</td>\n",
       "      <td>3.0</td>\n",
       "      <td>4.553877</td>\n",
       "      <td>6.598203</td>\n",
       "      <td>733.775375</td>\n",
       "      <td>0.899444</td>\n",
       "      <td>2.458237</td>\n",
       "      <td>728.775375</td>\n",
       "    </tr>\n",
       "    <tr>\n",
       "      <th>36981</th>\n",
       "      <td>13432718</td>\n",
       "      <td>Entire home/apt</td>\n",
       "      <td>7.0</td>\n",
       "      <td>2.0</td>\n",
       "      <td>strict</td>\n",
       "      <td>True</td>\n",
       "      <td>True</td>\n",
       "      <td>20.0</td>\n",
       "      <td>3.0</td>\n",
       "      <td>5.0</td>\n",
       "      <td>5.594711</td>\n",
       "      <td>6.597499</td>\n",
       "      <td>733.259272</td>\n",
       "      <td>0.241114</td>\n",
       "      <td>1.272667</td>\n",
       "      <td>726.259272</td>\n",
       "    </tr>\n",
       "    <tr>\n",
       "      <th>53199</th>\n",
       "      <td>2843388</td>\n",
       "      <td>Entire home/apt</td>\n",
       "      <td>2.0</td>\n",
       "      <td>1.0</td>\n",
       "      <td>flexible</td>\n",
       "      <td>False</td>\n",
       "      <td>False</td>\n",
       "      <td>20.0</td>\n",
       "      <td>0.0</td>\n",
       "      <td>1.0</td>\n",
       "      <td>5.765191</td>\n",
       "      <td>6.582829</td>\n",
       "      <td>722.580339</td>\n",
       "      <td>-0.805968</td>\n",
       "      <td>0.446655</td>\n",
       "      <td>720.580339</td>\n",
       "    </tr>\n",
       "    <tr>\n",
       "      <th>23139</th>\n",
       "      <td>14530570</td>\n",
       "      <td>Entire home/apt</td>\n",
       "      <td>2.0</td>\n",
       "      <td>1.0</td>\n",
       "      <td>moderate</td>\n",
       "      <td>False</td>\n",
       "      <td>False</td>\n",
       "      <td>96.0</td>\n",
       "      <td>0.0</td>\n",
       "      <td>1.0</td>\n",
       "      <td>4.905275</td>\n",
       "      <td>6.579463</td>\n",
       "      <td>720.152279</td>\n",
       "      <td>-0.134952</td>\n",
       "      <td>0.873758</td>\n",
       "      <td>718.152279</td>\n",
       "    </tr>\n",
       "    <tr>\n",
       "      <th>8398</th>\n",
       "      <td>19463127</td>\n",
       "      <td>Entire home/apt</td>\n",
       "      <td>3.0</td>\n",
       "      <td>1.0</td>\n",
       "      <td>strict</td>\n",
       "      <td>False</td>\n",
       "      <td>False</td>\n",
       "      <td>83.0</td>\n",
       "      <td>0.0</td>\n",
       "      <td>1.0</td>\n",
       "      <td>4.584967</td>\n",
       "      <td>6.576882</td>\n",
       "      <td>718.296491</td>\n",
       "      <td>0.255342</td>\n",
       "      <td>1.290903</td>\n",
       "      <td>715.296491</td>\n",
       "    </tr>\n",
       "    <tr>\n",
       "      <th>1228</th>\n",
       "      <td>9351123</td>\n",
       "      <td>Entire home/apt</td>\n",
       "      <td>5.0</td>\n",
       "      <td>1.0</td>\n",
       "      <td>strict</td>\n",
       "      <td>True</td>\n",
       "      <td>True</td>\n",
       "      <td>96.0</td>\n",
       "      <td>1.0</td>\n",
       "      <td>2.0</td>\n",
       "      <td>4.234107</td>\n",
       "      <td>6.576406</td>\n",
       "      <td>717.954623</td>\n",
       "      <td>0.732971</td>\n",
       "      <td>2.081256</td>\n",
       "      <td>712.954623</td>\n",
       "    </tr>\n",
       "    <tr>\n",
       "      <th>24651</th>\n",
       "      <td>2874486</td>\n",
       "      <td>Private room</td>\n",
       "      <td>2.0</td>\n",
       "      <td>1.0</td>\n",
       "      <td>moderate</td>\n",
       "      <td>True</td>\n",
       "      <td>True</td>\n",
       "      <td>90.0</td>\n",
       "      <td>1.0</td>\n",
       "      <td>1.0</td>\n",
       "      <td>4.605170</td>\n",
       "      <td>6.570979</td>\n",
       "      <td>714.068507</td>\n",
       "      <td>-0.413038</td>\n",
       "      <td>0.661637</td>\n",
       "      <td>712.068507</td>\n",
       "    </tr>\n",
       "    <tr>\n",
       "      <th>40448</th>\n",
       "      <td>16260692</td>\n",
       "      <td>Entire home/apt</td>\n",
       "      <td>3.0</td>\n",
       "      <td>1.0</td>\n",
       "      <td>strict</td>\n",
       "      <td>True</td>\n",
       "      <td>False</td>\n",
       "      <td>89.0</td>\n",
       "      <td>1.0</td>\n",
       "      <td>1.0</td>\n",
       "      <td>5.416100</td>\n",
       "      <td>6.561038</td>\n",
       "      <td>707.004868</td>\n",
       "      <td>-0.437729</td>\n",
       "      <td>0.645501</td>\n",
       "      <td>704.004868</td>\n",
       "    </tr>\n",
       "    <tr>\n",
       "      <th>19548</th>\n",
       "      <td>4359626</td>\n",
       "      <td>Private room</td>\n",
       "      <td>2.0</td>\n",
       "      <td>1.0</td>\n",
       "      <td>strict</td>\n",
       "      <td>True</td>\n",
       "      <td>False</td>\n",
       "      <td>100.0</td>\n",
       "      <td>1.0</td>\n",
       "      <td>1.0</td>\n",
       "      <td>4.897840</td>\n",
       "      <td>6.543699</td>\n",
       "      <td>694.851835</td>\n",
       "      <td>-0.635749</td>\n",
       "      <td>0.529539</td>\n",
       "      <td>692.851835</td>\n",
       "    </tr>\n",
       "    <tr>\n",
       "      <th>27755</th>\n",
       "      <td>16073836</td>\n",
       "      <td>Private room</td>\n",
       "      <td>2.0</td>\n",
       "      <td>1.0</td>\n",
       "      <td>flexible</td>\n",
       "      <td>False</td>\n",
       "      <td>False</td>\n",
       "      <td>20.0</td>\n",
       "      <td>1.0</td>\n",
       "      <td>1.0</td>\n",
       "      <td>4.317488</td>\n",
       "      <td>6.539291</td>\n",
       "      <td>691.796110</td>\n",
       "      <td>0.133324</td>\n",
       "      <td>1.142620</td>\n",
       "      <td>689.796110</td>\n",
       "    </tr>\n",
       "    <tr>\n",
       "      <th>59832</th>\n",
       "      <td>7775454</td>\n",
       "      <td>Private room</td>\n",
       "      <td>3.0</td>\n",
       "      <td>1.0</td>\n",
       "      <td>strict</td>\n",
       "      <td>True</td>\n",
       "      <td>False</td>\n",
       "      <td>100.0</td>\n",
       "      <td>1.0</td>\n",
       "      <td>2.0</td>\n",
       "      <td>4.521789</td>\n",
       "      <td>6.540076</td>\n",
       "      <td>692.339041</td>\n",
       "      <td>-0.203178</td>\n",
       "      <td>0.816133</td>\n",
       "      <td>689.339041</td>\n",
       "    </tr>\n",
       "    <tr>\n",
       "      <th>10353</th>\n",
       "      <td>700916</td>\n",
       "      <td>Private room</td>\n",
       "      <td>2.0</td>\n",
       "      <td>1.0</td>\n",
       "      <td>flexible</td>\n",
       "      <td>False</td>\n",
       "      <td>False</td>\n",
       "      <td>87.0</td>\n",
       "      <td>1.0</td>\n",
       "      <td>1.0</td>\n",
       "      <td>4.094345</td>\n",
       "      <td>6.504943</td>\n",
       "      <td>668.437391</td>\n",
       "      <td>0.204176</td>\n",
       "      <td>1.226514</td>\n",
       "      <td>666.437391</td>\n",
       "    </tr>\n",
       "    <tr>\n",
       "      <th>33552</th>\n",
       "      <td>10084216</td>\n",
       "      <td>Private room</td>\n",
       "      <td>1.0</td>\n",
       "      <td>1.0</td>\n",
       "      <td>strict</td>\n",
       "      <td>True</td>\n",
       "      <td>True</td>\n",
       "      <td>20.0</td>\n",
       "      <td>1.0</td>\n",
       "      <td>1.0</td>\n",
       "      <td>5.068904</td>\n",
       "      <td>6.493447</td>\n",
       "      <td>660.796913</td>\n",
       "      <td>-0.676678</td>\n",
       "      <td>0.508303</td>\n",
       "      <td>659.796913</td>\n",
       "    </tr>\n",
       "    <tr>\n",
       "      <th>19787</th>\n",
       "      <td>7849615</td>\n",
       "      <td>Private room</td>\n",
       "      <td>1.0</td>\n",
       "      <td>1.0</td>\n",
       "      <td>moderate</td>\n",
       "      <td>False</td>\n",
       "      <td>True</td>\n",
       "      <td>98.0</td>\n",
       "      <td>1.0</td>\n",
       "      <td>1.0</td>\n",
       "      <td>3.555348</td>\n",
       "      <td>6.492932</td>\n",
       "      <td>660.457031</td>\n",
       "      <td>0.650658</td>\n",
       "      <td>1.916801</td>\n",
       "      <td>659.457031</td>\n",
       "    </tr>\n",
       "    <tr>\n",
       "      <th>56499</th>\n",
       "      <td>11014002</td>\n",
       "      <td>Private room</td>\n",
       "      <td>1.0</td>\n",
       "      <td>1.0</td>\n",
       "      <td>flexible</td>\n",
       "      <td>False</td>\n",
       "      <td>True</td>\n",
       "      <td>80.0</td>\n",
       "      <td>1.0</td>\n",
       "      <td>1.0</td>\n",
       "      <td>3.761200</td>\n",
       "      <td>6.489962</td>\n",
       "      <td>658.498257</td>\n",
       "      <td>0.500447</td>\n",
       "      <td>1.649458</td>\n",
       "      <td>657.498257</td>\n",
       "    </tr>\n",
       "    <tr>\n",
       "      <th>17285</th>\n",
       "      <td>1652185</td>\n",
       "      <td>Private room</td>\n",
       "      <td>1.0</td>\n",
       "      <td>1.0</td>\n",
       "      <td>flexible</td>\n",
       "      <td>True</td>\n",
       "      <td>False</td>\n",
       "      <td>20.0</td>\n",
       "      <td>1.0</td>\n",
       "      <td>1.0</td>\n",
       "      <td>4.382027</td>\n",
       "      <td>6.487033</td>\n",
       "      <td>656.572342</td>\n",
       "      <td>0.037112</td>\n",
       "      <td>1.037810</td>\n",
       "      <td>655.572342</td>\n",
       "    </tr>\n",
       "    <tr>\n",
       "      <th>6032</th>\n",
       "      <td>18199963</td>\n",
       "      <td>Entire home/apt</td>\n",
       "      <td>4.0</td>\n",
       "      <td>2.5</td>\n",
       "      <td>strict</td>\n",
       "      <td>True</td>\n",
       "      <td>False</td>\n",
       "      <td>98.0</td>\n",
       "      <td>2.0</td>\n",
       "      <td>2.0</td>\n",
       "      <td>5.857933</td>\n",
       "      <td>6.487532</td>\n",
       "      <td>656.899927</td>\n",
       "      <td>-0.423682</td>\n",
       "      <td>0.654632</td>\n",
       "      <td>652.899927</td>\n",
       "    </tr>\n",
       "    <tr>\n",
       "      <th>45934</th>\n",
       "      <td>18289619</td>\n",
       "      <td>Private room</td>\n",
       "      <td>2.0</td>\n",
       "      <td>1.0</td>\n",
       "      <td>strict</td>\n",
       "      <td>True</td>\n",
       "      <td>True</td>\n",
       "      <td>80.0</td>\n",
       "      <td>1.0</td>\n",
       "      <td>1.0</td>\n",
       "      <td>4.787492</td>\n",
       "      <td>6.482330</td>\n",
       "      <td>653.491995</td>\n",
       "      <td>-0.532757</td>\n",
       "      <td>0.586984</td>\n",
       "      <td>651.491995</td>\n",
       "    </tr>\n",
       "    <tr>\n",
       "      <th>1090</th>\n",
       "      <td>1256768</td>\n",
       "      <td>Entire home/apt</td>\n",
       "      <td>2.0</td>\n",
       "      <td>1.0</td>\n",
       "      <td>moderate</td>\n",
       "      <td>True</td>\n",
       "      <td>False</td>\n",
       "      <td>100.0</td>\n",
       "      <td>0.0</td>\n",
       "      <td>1.0</td>\n",
       "      <td>4.897840</td>\n",
       "      <td>6.465241</td>\n",
       "      <td>642.419488</td>\n",
       "      <td>-0.168386</td>\n",
       "      <td>0.845027</td>\n",
       "      <td>640.419488</td>\n",
       "    </tr>\n",
       "    <tr>\n",
       "      <th>72352</th>\n",
       "      <td>9463912</td>\n",
       "      <td>Entire home/apt</td>\n",
       "      <td>4.0</td>\n",
       "      <td>2.0</td>\n",
       "      <td>moderate</td>\n",
       "      <td>True</td>\n",
       "      <td>False</td>\n",
       "      <td>100.0</td>\n",
       "      <td>2.0</td>\n",
       "      <td>2.0</td>\n",
       "      <td>5.068904</td>\n",
       "      <td>6.465800</td>\n",
       "      <td>642.778288</td>\n",
       "      <td>0.242072</td>\n",
       "      <td>1.273885</td>\n",
       "      <td>638.778288</td>\n",
       "    </tr>\n",
       "    <tr>\n",
       "      <th>62229</th>\n",
       "      <td>16975941</td>\n",
       "      <td>Entire home/apt</td>\n",
       "      <td>2.0</td>\n",
       "      <td>1.0</td>\n",
       "      <td>flexible</td>\n",
       "      <td>True</td>\n",
       "      <td>True</td>\n",
       "      <td>100.0</td>\n",
       "      <td>0.0</td>\n",
       "      <td>1.0</td>\n",
       "      <td>5.010635</td>\n",
       "      <td>6.446421</td>\n",
       "      <td>630.441803</td>\n",
       "      <td>-0.319642</td>\n",
       "      <td>0.726409</td>\n",
       "      <td>628.441803</td>\n",
       "    </tr>\n",
       "    <tr>\n",
       "      <th>5958</th>\n",
       "      <td>7460750</td>\n",
       "      <td>Entire home/apt</td>\n",
       "      <td>2.0</td>\n",
       "      <td>1.0</td>\n",
       "      <td>flexible</td>\n",
       "      <td>True</td>\n",
       "      <td>True</td>\n",
       "      <td>20.0</td>\n",
       "      <td>1.0</td>\n",
       "      <td>2.0</td>\n",
       "      <td>5.003946</td>\n",
       "      <td>6.442359</td>\n",
       "      <td>627.885957</td>\n",
       "      <td>0.111000</td>\n",
       "      <td>1.117395</td>\n",
       "      <td>625.885957</td>\n",
       "    </tr>\n",
       "    <tr>\n",
       "      <th>7776</th>\n",
       "      <td>16744252</td>\n",
       "      <td>Private room</td>\n",
       "      <td>2.0</td>\n",
       "      <td>1.0</td>\n",
       "      <td>flexible</td>\n",
       "      <td>True</td>\n",
       "      <td>True</td>\n",
       "      <td>96.0</td>\n",
       "      <td>1.0</td>\n",
       "      <td>1.0</td>\n",
       "      <td>4.094345</td>\n",
       "      <td>6.441004</td>\n",
       "      <td>627.036093</td>\n",
       "      <td>0.098056</td>\n",
       "      <td>1.103025</td>\n",
       "      <td>625.036093</td>\n",
       "    </tr>\n",
       "    <tr>\n",
       "      <th>25995</th>\n",
       "      <td>13220100</td>\n",
       "      <td>Entire home/apt</td>\n",
       "      <td>3.0</td>\n",
       "      <td>1.0</td>\n",
       "      <td>strict</td>\n",
       "      <td>True</td>\n",
       "      <td>False</td>\n",
       "      <td>86.0</td>\n",
       "      <td>1.0</td>\n",
       "      <td>2.0</td>\n",
       "      <td>4.553877</td>\n",
       "      <td>6.440092</td>\n",
       "      <td>626.464627</td>\n",
       "      <td>0.488195</td>\n",
       "      <td>1.629373</td>\n",
       "      <td>623.464627</td>\n",
       "    </tr>\n",
       "    <tr>\n",
       "      <th>35108</th>\n",
       "      <td>12932894</td>\n",
       "      <td>Entire home/apt</td>\n",
       "      <td>5.0</td>\n",
       "      <td>1.5</td>\n",
       "      <td>moderate</td>\n",
       "      <td>True</td>\n",
       "      <td>False</td>\n",
       "      <td>92.0</td>\n",
       "      <td>3.0</td>\n",
       "      <td>3.0</td>\n",
       "      <td>5.010635</td>\n",
       "      <td>6.439223</td>\n",
       "      <td>625.920159</td>\n",
       "      <td>0.480533</td>\n",
       "      <td>1.616936</td>\n",
       "      <td>620.920159</td>\n",
       "    </tr>\n",
       "    <tr>\n",
       "      <th>37091</th>\n",
       "      <td>9730432</td>\n",
       "      <td>Private room</td>\n",
       "      <td>2.0</td>\n",
       "      <td>1.0</td>\n",
       "      <td>strict</td>\n",
       "      <td>True</td>\n",
       "      <td>False</td>\n",
       "      <td>95.0</td>\n",
       "      <td>1.0</td>\n",
       "      <td>1.0</td>\n",
       "      <td>4.406719</td>\n",
       "      <td>6.432362</td>\n",
       "      <td>621.640816</td>\n",
       "      <td>-0.133477</td>\n",
       "      <td>0.875047</td>\n",
       "      <td>619.640816</td>\n",
       "    </tr>\n",
       "    <tr>\n",
       "      <th>43875</th>\n",
       "      <td>3469178</td>\n",
       "      <td>Private room</td>\n",
       "      <td>3.0</td>\n",
       "      <td>1.0</td>\n",
       "      <td>strict</td>\n",
       "      <td>True</td>\n",
       "      <td>False</td>\n",
       "      <td>100.0</td>\n",
       "      <td>1.0</td>\n",
       "      <td>1.0</td>\n",
       "      <td>4.499810</td>\n",
       "      <td>6.433951</td>\n",
       "      <td>622.629292</td>\n",
       "      <td>-0.237674</td>\n",
       "      <td>0.788460</td>\n",
       "      <td>619.629292</td>\n",
       "    </tr>\n",
       "    <tr>\n",
       "      <th>66113</th>\n",
       "      <td>20535581</td>\n",
       "      <td>Private room</td>\n",
       "      <td>1.0</td>\n",
       "      <td>2.0</td>\n",
       "      <td>flexible</td>\n",
       "      <td>True</td>\n",
       "      <td>True</td>\n",
       "      <td>96.0</td>\n",
       "      <td>1.0</td>\n",
       "      <td>1.0</td>\n",
       "      <td>3.912023</td>\n",
       "      <td>6.420049</td>\n",
       "      <td>614.032914</td>\n",
       "      <td>0.437410</td>\n",
       "      <td>1.548692</td>\n",
       "      <td>613.032914</td>\n",
       "    </tr>\n",
       "    <tr>\n",
       "      <th>73395</th>\n",
       "      <td>11126756</td>\n",
       "      <td>Entire home/apt</td>\n",
       "      <td>4.0</td>\n",
       "      <td>1.0</td>\n",
       "      <td>flexible</td>\n",
       "      <td>True</td>\n",
       "      <td>False</td>\n",
       "      <td>100.0</td>\n",
       "      <td>1.0</td>\n",
       "      <td>3.0</td>\n",
       "      <td>4.828314</td>\n",
       "      <td>6.413600</td>\n",
       "      <td>610.085763</td>\n",
       "      <td>0.212715</td>\n",
       "      <td>1.237032</td>\n",
       "      <td>606.085763</td>\n",
       "    </tr>\n",
       "    <tr>\n",
       "      <th>62120</th>\n",
       "      <td>11675279</td>\n",
       "      <td>Private room</td>\n",
       "      <td>4.0</td>\n",
       "      <td>1.0</td>\n",
       "      <td>strict</td>\n",
       "      <td>False</td>\n",
       "      <td>True</td>\n",
       "      <td>20.0</td>\n",
       "      <td>1.0</td>\n",
       "      <td>2.0</td>\n",
       "      <td>3.931826</td>\n",
       "      <td>6.412625</td>\n",
       "      <td>609.491802</td>\n",
       "      <td>0.549416</td>\n",
       "      <td>1.732241</td>\n",
       "      <td>605.491802</td>\n",
       "    </tr>\n",
       "    <tr>\n",
       "      <th>58058</th>\n",
       "      <td>8942467</td>\n",
       "      <td>Private room</td>\n",
       "      <td>2.0</td>\n",
       "      <td>1.0</td>\n",
       "      <td>moderate</td>\n",
       "      <td>True</td>\n",
       "      <td>True</td>\n",
       "      <td>92.0</td>\n",
       "      <td>1.0</td>\n",
       "      <td>1.0</td>\n",
       "      <td>3.912023</td>\n",
       "      <td>6.408344</td>\n",
       "      <td>606.888040</td>\n",
       "      <td>0.275233</td>\n",
       "      <td>1.316837</td>\n",
       "      <td>604.888040</td>\n",
       "    </tr>\n",
       "    <tr>\n",
       "      <th>31048</th>\n",
       "      <td>9234132</td>\n",
       "      <td>Entire home/apt</td>\n",
       "      <td>6.0</td>\n",
       "      <td>1.0</td>\n",
       "      <td>strict</td>\n",
       "      <td>True</td>\n",
       "      <td>False</td>\n",
       "      <td>20.0</td>\n",
       "      <td>2.0</td>\n",
       "      <td>3.0</td>\n",
       "      <td>4.859812</td>\n",
       "      <td>6.404492</td>\n",
       "      <td>604.554439</td>\n",
       "      <td>0.573949</td>\n",
       "      <td>1.775264</td>\n",
       "      <td>598.554439</td>\n",
       "    </tr>\n",
       "    <tr>\n",
       "      <th>9889</th>\n",
       "      <td>9550480</td>\n",
       "      <td>Entire home/apt</td>\n",
       "      <td>2.0</td>\n",
       "      <td>1.0</td>\n",
       "      <td>strict</td>\n",
       "      <td>True</td>\n",
       "      <td>False</td>\n",
       "      <td>95.0</td>\n",
       "      <td>0.0</td>\n",
       "      <td>1.0</td>\n",
       "      <td>4.867534</td>\n",
       "      <td>6.387709</td>\n",
       "      <td>594.492959</td>\n",
       "      <td>-0.086541</td>\n",
       "      <td>0.917098</td>\n",
       "      <td>592.492959</td>\n",
       "    </tr>\n",
       "    <tr>\n",
       "      <th>57017</th>\n",
       "      <td>10962069</td>\n",
       "      <td>Private room</td>\n",
       "      <td>2.0</td>\n",
       "      <td>1.0</td>\n",
       "      <td>moderate</td>\n",
       "      <td>True</td>\n",
       "      <td>True</td>\n",
       "      <td>98.0</td>\n",
       "      <td>1.0</td>\n",
       "      <td>1.0</td>\n",
       "      <td>4.094345</td>\n",
       "      <td>6.386668</td>\n",
       "      <td>593.874705</td>\n",
       "      <td>0.079101</td>\n",
       "      <td>1.082314</td>\n",
       "      <td>591.874705</td>\n",
       "    </tr>\n",
       "    <tr>\n",
       "      <th>5815</th>\n",
       "      <td>4227441</td>\n",
       "      <td>Private room</td>\n",
       "      <td>2.0</td>\n",
       "      <td>1.0</td>\n",
       "      <td>strict</td>\n",
       "      <td>False</td>\n",
       "      <td>False</td>\n",
       "      <td>85.0</td>\n",
       "      <td>1.0</td>\n",
       "      <td>1.0</td>\n",
       "      <td>4.615121</td>\n",
       "      <td>6.386375</td>\n",
       "      <td>593.700429</td>\n",
       "      <td>-0.286352</td>\n",
       "      <td>0.750999</td>\n",
       "      <td>591.700429</td>\n",
       "    </tr>\n",
       "    <tr>\n",
       "      <th>21032</th>\n",
       "      <td>17268712</td>\n",
       "      <td>Entire home/apt</td>\n",
       "      <td>3.0</td>\n",
       "      <td>1.0</td>\n",
       "      <td>strict</td>\n",
       "      <td>True</td>\n",
       "      <td>False</td>\n",
       "      <td>100.0</td>\n",
       "      <td>2.0</td>\n",
       "      <td>2.0</td>\n",
       "      <td>5.273000</td>\n",
       "      <td>6.386658</td>\n",
       "      <td>593.868846</td>\n",
       "      <td>-0.079107</td>\n",
       "      <td>0.923941</td>\n",
       "      <td>590.868846</td>\n",
       "    </tr>\n",
       "    <tr>\n",
       "      <th>34894</th>\n",
       "      <td>1691903</td>\n",
       "      <td>Entire home/apt</td>\n",
       "      <td>4.0</td>\n",
       "      <td>1.0</td>\n",
       "      <td>moderate</td>\n",
       "      <td>True</td>\n",
       "      <td>True</td>\n",
       "      <td>99.0</td>\n",
       "      <td>2.0</td>\n",
       "      <td>2.0</td>\n",
       "      <td>5.068904</td>\n",
       "      <td>6.388152</td>\n",
       "      <td>594.756382</td>\n",
       "      <td>0.035181</td>\n",
       "      <td>1.035807</td>\n",
       "      <td>590.756382</td>\n",
       "    </tr>\n",
       "  </tbody>\n",
       "</table>\n",
       "</div>"
      ],
      "text/plain": [
       "             id        room_type  accommodates  bathrooms cancellation_policy  \\\n",
       "26621  15257293  Entire home/apt           4.0        2.0              strict   \n",
       "46475  12591975  Entire home/apt           2.0        1.0              strict   \n",
       "54102  15769333  Entire home/apt           6.0        2.0              strict   \n",
       "3052    7651400     Private room           5.0        1.0              strict   \n",
       "67431  19117185     Private room           3.0        1.5              strict   \n",
       "70100    128036      Shared room           1.0        1.0              strict   \n",
       "12091  12760402     Private room           2.0        2.0            moderate   \n",
       "23518    782063     Private room           3.0        1.5              strict   \n",
       "27693  16052733     Private room           2.0        1.0              strict   \n",
       "45888  13345384  Entire home/apt           6.0        1.0            flexible   \n",
       "44846  18476381      Shared room           2.0        1.0              strict   \n",
       "23246   8055582     Private room           5.0        1.0              strict   \n",
       "49746  20234018     Private room           1.0        1.0              strict   \n",
       "672     8405551  Entire home/apt           5.0        1.0              strict   \n",
       "36981  13432718  Entire home/apt           7.0        2.0              strict   \n",
       "53199   2843388  Entire home/apt           2.0        1.0            flexible   \n",
       "23139  14530570  Entire home/apt           2.0        1.0            moderate   \n",
       "8398   19463127  Entire home/apt           3.0        1.0              strict   \n",
       "1228    9351123  Entire home/apt           5.0        1.0              strict   \n",
       "24651   2874486     Private room           2.0        1.0            moderate   \n",
       "40448  16260692  Entire home/apt           3.0        1.0              strict   \n",
       "19548   4359626     Private room           2.0        1.0              strict   \n",
       "27755  16073836     Private room           2.0        1.0            flexible   \n",
       "59832   7775454     Private room           3.0        1.0              strict   \n",
       "10353    700916     Private room           2.0        1.0            flexible   \n",
       "33552  10084216     Private room           1.0        1.0              strict   \n",
       "19787   7849615     Private room           1.0        1.0            moderate   \n",
       "56499  11014002     Private room           1.0        1.0            flexible   \n",
       "17285   1652185     Private room           1.0        1.0            flexible   \n",
       "6032   18199963  Entire home/apt           4.0        2.5              strict   \n",
       "45934  18289619     Private room           2.0        1.0              strict   \n",
       "1090    1256768  Entire home/apt           2.0        1.0            moderate   \n",
       "72352   9463912  Entire home/apt           4.0        2.0            moderate   \n",
       "62229  16975941  Entire home/apt           2.0        1.0            flexible   \n",
       "5958    7460750  Entire home/apt           2.0        1.0            flexible   \n",
       "7776   16744252     Private room           2.0        1.0            flexible   \n",
       "25995  13220100  Entire home/apt           3.0        1.0              strict   \n",
       "35108  12932894  Entire home/apt           5.0        1.5            moderate   \n",
       "37091   9730432     Private room           2.0        1.0              strict   \n",
       "43875   3469178     Private room           3.0        1.0              strict   \n",
       "66113  20535581     Private room           1.0        2.0            flexible   \n",
       "73395  11126756  Entire home/apt           4.0        1.0            flexible   \n",
       "62120  11675279     Private room           4.0        1.0              strict   \n",
       "58058   8942467     Private room           2.0        1.0            moderate   \n",
       "31048   9234132  Entire home/apt           6.0        1.0              strict   \n",
       "9889    9550480  Entire home/apt           2.0        1.0              strict   \n",
       "57017  10962069     Private room           2.0        1.0            moderate   \n",
       "5815    4227441     Private room           2.0        1.0              strict   \n",
       "21032  17268712  Entire home/apt           3.0        1.0              strict   \n",
       "34894   1691903  Entire home/apt           4.0        1.0            moderate   \n",
       "\n",
       "      cleaning_fee instant_bookable  review_scores_rating  bedrooms  beds  \\\n",
       "26621         True            False                  92.0       2.0   2.0   \n",
       "46475        False            False                 100.0       0.0   1.0   \n",
       "54102         True             True                  92.0       2.0   2.0   \n",
       "3052          True            False                  91.0       1.0   2.0   \n",
       "67431         True             True                  98.0       1.0   1.0   \n",
       "70100         True            False                  80.0       1.0   1.0   \n",
       "12091         True            False                 100.0       1.0   2.0   \n",
       "23518         True             True                  94.0       1.0   1.0   \n",
       "27693         True            False                 100.0       1.0   3.0   \n",
       "45888        False             True                  20.0       2.0   3.0   \n",
       "44846         True            False                  20.0       1.0   2.0   \n",
       "23246         True            False                  89.0       1.0   2.0   \n",
       "49746        False            False                  20.0       1.0   1.0   \n",
       "672           True            False                  92.0       3.0   3.0   \n",
       "36981         True             True                  20.0       3.0   5.0   \n",
       "53199        False            False                  20.0       0.0   1.0   \n",
       "23139        False            False                  96.0       0.0   1.0   \n",
       "8398         False            False                  83.0       0.0   1.0   \n",
       "1228          True             True                  96.0       1.0   2.0   \n",
       "24651         True             True                  90.0       1.0   1.0   \n",
       "40448         True            False                  89.0       1.0   1.0   \n",
       "19548         True            False                 100.0       1.0   1.0   \n",
       "27755        False            False                  20.0       1.0   1.0   \n",
       "59832         True            False                 100.0       1.0   2.0   \n",
       "10353        False            False                  87.0       1.0   1.0   \n",
       "33552         True             True                  20.0       1.0   1.0   \n",
       "19787        False             True                  98.0       1.0   1.0   \n",
       "56499        False             True                  80.0       1.0   1.0   \n",
       "17285         True            False                  20.0       1.0   1.0   \n",
       "6032          True            False                  98.0       2.0   2.0   \n",
       "45934         True             True                  80.0       1.0   1.0   \n",
       "1090          True            False                 100.0       0.0   1.0   \n",
       "72352         True            False                 100.0       2.0   2.0   \n",
       "62229         True             True                 100.0       0.0   1.0   \n",
       "5958          True             True                  20.0       1.0   2.0   \n",
       "7776          True             True                  96.0       1.0   1.0   \n",
       "25995         True            False                  86.0       1.0   2.0   \n",
       "35108         True            False                  92.0       3.0   3.0   \n",
       "37091         True            False                  95.0       1.0   1.0   \n",
       "43875         True            False                 100.0       1.0   1.0   \n",
       "66113         True             True                  96.0       1.0   1.0   \n",
       "73395         True            False                 100.0       1.0   3.0   \n",
       "62120        False             True                  20.0       1.0   2.0   \n",
       "58058         True             True                  92.0       1.0   1.0   \n",
       "31048         True            False                  20.0       2.0   3.0   \n",
       "9889          True            False                  95.0       0.0   1.0   \n",
       "57017         True             True                  98.0       1.0   1.0   \n",
       "5815         False            False                  85.0       1.0   1.0   \n",
       "21032         True            False                 100.0       2.0   2.0   \n",
       "34894         True             True                  99.0       2.0   2.0   \n",
       "\n",
       "       log_price  Predicted log_price  Predicted accommodates  residuals  \\\n",
       "26621   6.204558             6.937793             1030.493892  -0.835062   \n",
       "46475   4.094345             6.890384              982.778966   0.707474   \n",
       "54102   5.517453             6.833121              928.082581  -0.200327   \n",
       "3052    5.541264             6.780460              880.473283  -1.202085   \n",
       "67431   4.595120             6.754143              857.604622  -0.302938   \n",
       "70100   2.995732             6.734747              841.130936   0.836984   \n",
       "12091   3.663562             6.649535              772.425092   0.771485   \n",
       "23518   4.234107             6.649722              772.569275   0.068141   \n",
       "27693   5.209486             6.647775              771.066567  -0.834601   \n",
       "45888   6.040255             6.649075              772.069561  -0.652500   \n",
       "44846   3.401197             6.602792              737.150117   0.624361   \n",
       "23246   4.317488             6.603275              737.506873   0.026239   \n",
       "49746   5.298317             6.597708              733.412031  -0.821858   \n",
       "672     4.553877             6.598203              733.775375   0.899444   \n",
       "36981   5.594711             6.597499              733.259272   0.241114   \n",
       "53199   5.765191             6.582829              722.580339  -0.805968   \n",
       "23139   4.905275             6.579463              720.152279  -0.134952   \n",
       "8398    4.584967             6.576882              718.296491   0.255342   \n",
       "1228    4.234107             6.576406              717.954623   0.732971   \n",
       "24651   4.605170             6.570979              714.068507  -0.413038   \n",
       "40448   5.416100             6.561038              707.004868  -0.437729   \n",
       "19548   4.897840             6.543699              694.851835  -0.635749   \n",
       "27755   4.317488             6.539291              691.796110   0.133324   \n",
       "59832   4.521789             6.540076              692.339041  -0.203178   \n",
       "10353   4.094345             6.504943              668.437391   0.204176   \n",
       "33552   5.068904             6.493447              660.796913  -0.676678   \n",
       "19787   3.555348             6.492932              660.457031   0.650658   \n",
       "56499   3.761200             6.489962              658.498257   0.500447   \n",
       "17285   4.382027             6.487033              656.572342   0.037112   \n",
       "6032    5.857933             6.487532              656.899927  -0.423682   \n",
       "45934   4.787492             6.482330              653.491995  -0.532757   \n",
       "1090    4.897840             6.465241              642.419488  -0.168386   \n",
       "72352   5.068904             6.465800              642.778288   0.242072   \n",
       "62229   5.010635             6.446421              630.441803  -0.319642   \n",
       "5958    5.003946             6.442359              627.885957   0.111000   \n",
       "7776    4.094345             6.441004              627.036093   0.098056   \n",
       "25995   4.553877             6.440092              626.464627   0.488195   \n",
       "35108   5.010635             6.439223              625.920159   0.480533   \n",
       "37091   4.406719             6.432362              621.640816  -0.133477   \n",
       "43875   4.499810             6.433951              622.629292  -0.237674   \n",
       "66113   3.912023             6.420049              614.032914   0.437410   \n",
       "73395   4.828314             6.413600              610.085763   0.212715   \n",
       "62120   3.931826             6.412625              609.491802   0.549416   \n",
       "58058   3.912023             6.408344              606.888040   0.275233   \n",
       "31048   4.859812             6.404492              604.554439   0.573949   \n",
       "9889    4.867534             6.387709              594.492959  -0.086541   \n",
       "57017   4.094345             6.386668              593.874705   0.079101   \n",
       "5815    4.615121             6.386375              593.700429  -0.286352   \n",
       "21032   5.273000             6.386658              593.868846  -0.079107   \n",
       "34894   5.068904             6.388152              594.756382   0.035181   \n",
       "\n",
       "       Abs_residuals  Difference log_price  \n",
       "26621       0.433848           1026.493892  \n",
       "46475       2.028860            980.778966  \n",
       "54102       0.818463            922.082581  \n",
       "3052        0.300567            875.473283  \n",
       "67431       0.738645            854.604622  \n",
       "70100       2.309391            840.130936  \n",
       "12091       2.162976            770.425092  \n",
       "23518       1.070516            769.569275  \n",
       "27693       0.434048            769.066567  \n",
       "45888       0.520742            766.069561  \n",
       "44846       1.867052            735.150117  \n",
       "23246       1.026587            732.506873  \n",
       "49746       0.439614            732.412031  \n",
       "672         2.458237            728.775375  \n",
       "36981       1.272667            726.259272  \n",
       "53199       0.446655            720.580339  \n",
       "23139       0.873758            718.152279  \n",
       "8398        1.290903            715.296491  \n",
       "1228        2.081256            712.954623  \n",
       "24651       0.661637            712.068507  \n",
       "40448       0.645501            704.004868  \n",
       "19548       0.529539            692.851835  \n",
       "27755       1.142620            689.796110  \n",
       "59832       0.816133            689.339041  \n",
       "10353       1.226514            666.437391  \n",
       "33552       0.508303            659.796913  \n",
       "19787       1.916801            659.457031  \n",
       "56499       1.649458            657.498257  \n",
       "17285       1.037810            655.572342  \n",
       "6032        0.654632            652.899927  \n",
       "45934       0.586984            651.491995  \n",
       "1090        0.845027            640.419488  \n",
       "72352       1.273885            638.778288  \n",
       "62229       0.726409            628.441803  \n",
       "5958        1.117395            625.885957  \n",
       "7776        1.103025            625.036093  \n",
       "25995       1.629373            623.464627  \n",
       "35108       1.616936            620.920159  \n",
       "37091       0.875047            619.640816  \n",
       "43875       0.788460            619.629292  \n",
       "66113       1.548692            613.032914  \n",
       "73395       1.237032            606.085763  \n",
       "62120       1.732241            605.491802  \n",
       "58058       1.316837            604.888040  \n",
       "31048       1.775264            598.554439  \n",
       "9889        0.917098            592.492959  \n",
       "57017       1.082314            591.874705  \n",
       "5815        0.750999            591.700429  \n",
       "21032       0.923941            590.868846  \n",
       "34894       1.035807            590.756382  "
      ]
     },
     "execution_count": 89,
     "metadata": {},
     "output_type": "execute_result"
    }
   ],
   "source": [
    "# Extracting the rows from original data frame df where indexes are same as the training data\n",
    "original_df = df[df.index.isin(x_train2.index.values)].copy()\n",
    "\n",
    "# Extracting predicted values and residuals from the final model\n",
    "fitted_values = lin_reg_model2.predict(x_train2)\n",
    "residuals = fitted_values - y_train\n",
    "\n",
    "# Add new columns for predicted values\n",
    "original_df[\"Predicted log_price\"] = fitted_values\n",
    "original_df[\"Predicted accommodates\"] = np.exp(fitted_values)\n",
    "original_df[\"residuals\"] = residuals\n",
    "original_df[\"Abs_residuals\"] = np.exp(residuals)\n",
    "original_df[\"Difference log_price\"] = np.abs(\n",
    "    original_df[\"accommodates\"] - original_df[\"Predicted accommodates\"]\n",
    ")\n",
    "\n",
    "# Let us look at the top 50 predictions where our model made highest extimation errors (on train data)\n",
    "original_df.sort_values(by=[\"Difference log_price\"], ascending=False).head(50)"
   ]
  },
  {
   "cell_type": "markdown",
   "metadata": {},
   "source": [
    "# Observations and Conclusions\n",
    "\n",
    "\n",
    "1. With our linear regression model we have been able to capture ~32% variation in our data.\n",
    "\n",
    "2. The model indicates that the most significant predictors of price of used cars are - \n",
    "* bathrooms\t                    1.572243e-01\n",
    "* review_scores_rating\t       -2.284615e-03\n",
    "* bedrooms\t                    1.840101e-01\n",
    "* beds\t                        5.669303e-02\n",
    "* room_type_Private room\t   -6.917522e-01\n",
    "* room_type_Shared room\t       -1.167033e+00\n",
    "* cancellation_policy_moderate -1.467851e-02\n",
    "* cancellation_policy_strict    2.585779e-02\n",
    "* cleaning_fee_True\t           -3.240242e-02\n",
    "* instant_bookable_True\t       -5.234383e-02\n",
    "* Intercept\t                    4.791142e+00\n",
    "\n",
    "\n",
    "* The more  bedrooms and beds the rental has the higher the price.\n",
    "* If it is instant bookable the higher the price\n",
    "* If the rental has bad reviews then lower the rental price."
   ]
  },
  {
   "cell_type": "code",
   "execution_count": null,
   "metadata": {},
   "outputs": [],
   "source": []
  }
 ],
 "metadata": {
  "kernelspec": {
   "display_name": "Python 3",
   "language": "python",
   "name": "python3"
  },
  "language_info": {
   "codemirror_mode": {
    "name": "ipython",
    "version": 3
   },
   "file_extension": ".py",
   "mimetype": "text/x-python",
   "name": "python",
   "nbconvert_exporter": "python",
   "pygments_lexer": "ipython3",
   "version": "3.8.5"
  }
 },
 "nbformat": 4,
 "nbformat_minor": 4
}
